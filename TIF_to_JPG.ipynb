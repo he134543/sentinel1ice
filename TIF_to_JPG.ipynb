{
 "cells": [
  {
   "cell_type": "markdown",
   "id": "1441f70e-92c5-475c-93f8-e28c8af9ac12",
   "metadata": {},
   "source": [
    "# Transform TIF to JPG and then transfer JPEG back to TIF"
   ]
  },
  {
   "cell_type": "code",
   "execution_count": null,
   "id": "d3c5c8bd-a1bf-4f1d-afb2-f78e6167dd5a",
   "metadata": {},
   "outputs": [],
   "source": [
    "import numpy as np\n",
    "import pandas as pd\n",
    "import matplotlib.pyplot as plt\n",
    "import seaborn as sns\n",
    "import os\n",
    "import glob"
   ]
  },
  {
   "cell_type": "code",
   "execution_count": null,
   "id": "034f7721-4688-44db-8ba1-e3ee90a017fb",
   "metadata": {},
   "outputs": [],
   "source": []
  },
  {
   "cell_type": "code",
   "execution_count": null,
   "id": "28fe83d5-99d0-45f9-8417-f626c58a4613",
   "metadata": {},
   "outputs": [],
   "source": []
  },
  {
   "cell_type": "code",
   "execution_count": null,
   "id": "4414753f-512e-4654-a1c8-7faf9854e80e",
   "metadata": {},
   "outputs": [],
   "source": []
  },
  {
   "cell_type": "code",
   "execution_count": null,
   "id": "ed89eaef-e24c-462b-8fe5-2fbe3268a8ad",
   "metadata": {},
   "outputs": [],
   "source": []
  }
 ],
 "metadata": {
  "kernelspec": {
   "display_name": "Python [conda env:sen1_ice]",
   "language": "python",
   "name": "conda-env-sen1_ice-py"
  },
  "language_info": {
   "codemirror_mode": {
    "name": "ipython",
    "version": 3
   },
   "file_extension": ".py",
   "mimetype": "text/x-python",
   "name": "python",
   "nbconvert_exporter": "python",
   "pygments_lexer": "ipython3",
   "version": "3.11.9"
  }
 },
 "nbformat": 4,
 "nbformat_minor": 5
}
