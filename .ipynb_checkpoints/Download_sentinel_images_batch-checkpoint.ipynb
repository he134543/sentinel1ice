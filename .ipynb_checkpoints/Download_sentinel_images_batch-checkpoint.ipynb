{
 "cells": [
  {
   "cell_type": "markdown",
   "id": "21d40488",
   "metadata": {},
   "source": [
    "# Get same date sentinel-1 and sentinel-2 images"
   ]
  },
  {
   "cell_type": "code",
   "execution_count": 1,
   "id": "5712f4a8",
   "metadata": {
    "tags": []
   },
   "outputs": [],
   "source": [
    "import numpy as np\n",
    "import pandas as pd\n",
    "import matplotlib.pyplot as plt\n",
    "import os\n",
    "import glob\n",
    "import geemap\n",
    "import ee\n",
    "import rasterio\n",
    "import contextlib\n",
    "from p_tqdm import p_map"
   ]
  },
  {
   "cell_type": "code",
   "execution_count": 2,
   "id": "3b620e2c",
   "metadata": {
    "tags": []
   },
   "outputs": [
    {
     "data": {
      "text/html": [
       "\n",
       "            <style>\n",
       "                .geemap-dark {\n",
       "                    --jp-widgets-color: white;\n",
       "                    --jp-widgets-label-color: white;\n",
       "                    --jp-ui-font-color1: white;\n",
       "                    --jp-layout-color2: #454545;\n",
       "                    background-color: #383838;\n",
       "                }\n",
       "\n",
       "                .geemap-dark .jupyter-button {\n",
       "                    --jp-layout-color3: #383838;\n",
       "                }\n",
       "\n",
       "                .geemap-colab {\n",
       "                    background-color: var(--colab-primary-surface-color, white);\n",
       "                }\n",
       "\n",
       "                .geemap-colab .jupyter-button {\n",
       "                    --jp-layout-color3: var(--colab-primary-surface-color, white);\n",
       "                }\n",
       "            </style>\n",
       "            "
      ],
      "text/plain": [
       "<IPython.core.display.HTML object>"
      ]
     },
     "metadata": {},
     "output_type": "display_data"
    }
   ],
   "source": [
    "ee.Authenticate()\n",
    "ee.Initialize(project=\"ee-sarice\")"
   ]
  },
  {
   "cell_type": "markdown",
   "id": "d5441d19",
   "metadata": {},
   "source": [
    "# Import datasets"
   ]
  },
  {
   "cell_type": "code",
   "execution_count": 3,
   "id": "1bed554b-e00d-44ab-928f-8146b3886ab6",
   "metadata": {
    "tags": []
   },
   "outputs": [
    {
     "data": {
      "text/html": [
       "\n",
       "            <style>\n",
       "                .geemap-dark {\n",
       "                    --jp-widgets-color: white;\n",
       "                    --jp-widgets-label-color: white;\n",
       "                    --jp-ui-font-color1: white;\n",
       "                    --jp-layout-color2: #454545;\n",
       "                    background-color: #383838;\n",
       "                }\n",
       "\n",
       "                .geemap-dark .jupyter-button {\n",
       "                    --jp-layout-color3: #383838;\n",
       "                }\n",
       "\n",
       "                .geemap-colab {\n",
       "                    background-color: var(--colab-primary-surface-color, white);\n",
       "                }\n",
       "\n",
       "                .geemap-colab .jupyter-button {\n",
       "                    --jp-layout-color3: var(--colab-primary-surface-color, white);\n",
       "                }\n",
       "            </style>\n",
       "            "
      ],
      "text/plain": [
       "<IPython.core.display.HTML object>"
      ]
     },
     "metadata": {},
     "output_type": "display_data"
    }
   ],
   "source": [
    "filterSizeMeters = 60 # speckle filter size, in meter\n",
    "scale = 30 # export image resolution, in meter"
   ]
  },
  {
   "cell_type": "code",
   "execution_count": 4,
   "id": "92a1ee3d-2b15-49e0-a290-8a1258f80ce0",
   "metadata": {
    "tags": []
   },
   "outputs": [
    {
     "data": {
      "text/html": [
       "\n",
       "            <style>\n",
       "                .geemap-dark {\n",
       "                    --jp-widgets-color: white;\n",
       "                    --jp-widgets-label-color: white;\n",
       "                    --jp-ui-font-color1: white;\n",
       "                    --jp-layout-color2: #454545;\n",
       "                    background-color: #383838;\n",
       "                }\n",
       "\n",
       "                .geemap-dark .jupyter-button {\n",
       "                    --jp-layout-color3: #383838;\n",
       "                }\n",
       "\n",
       "                .geemap-colab {\n",
       "                    background-color: var(--colab-primary-surface-color, white);\n",
       "                }\n",
       "\n",
       "                .geemap-colab .jupyter-button {\n",
       "                    --jp-layout-color3: var(--colab-primary-surface-color, white);\n",
       "                }\n",
       "            </style>\n",
       "            "
      ],
      "text/plain": [
       "<IPython.core.display.HTML object>"
      ]
     },
     "metadata": {},
     "output_type": "display_data"
    }
   ],
   "source": [
    "def filterSpeckles(img):\n",
    "    # Function provided by Abhishek Kumar\n",
    "    vv = img.select(\"VV\")\n",
    "    # spf: speckle filtered\n",
    "    vv_filtered = vv.focal_median(filterSizeMeters, 'circle','meters').rename(\"VV_spf\")\n",
    "    return img.addBands(vv_filtered)"
   ]
  },
  {
   "cell_type": "code",
   "execution_count": 5,
   "id": "2ce74adf",
   "metadata": {
    "tags": []
   },
   "outputs": [
    {
     "data": {
      "text/html": [
       "\n",
       "            <style>\n",
       "                .geemap-dark {\n",
       "                    --jp-widgets-color: white;\n",
       "                    --jp-widgets-label-color: white;\n",
       "                    --jp-ui-font-color1: white;\n",
       "                    --jp-layout-color2: #454545;\n",
       "                    background-color: #383838;\n",
       "                }\n",
       "\n",
       "                .geemap-dark .jupyter-button {\n",
       "                    --jp-layout-color3: #383838;\n",
       "                }\n",
       "\n",
       "                .geemap-colab {\n",
       "                    background-color: var(--colab-primary-surface-color, white);\n",
       "                }\n",
       "\n",
       "                .geemap-colab .jupyter-button {\n",
       "                    --jp-layout-color3: var(--colab-primary-surface-color, white);\n",
       "                }\n",
       "            </style>\n",
       "            "
      ],
      "text/plain": [
       "<IPython.core.display.HTML object>"
      ]
     },
     "metadata": {},
     "output_type": "display_data"
    }
   ],
   "source": [
    "def download_s1s2_sameday_images(lake_id, # export 60 meter resolution\n",
    "                           ):\n",
    "    # hydrolakes\n",
    "    hydrolakes = ee.FeatureCollection(\"projects/ee-lakeice/assets/HydroLAKES_polys_v10\")        \n",
    "    aoi = hydrolakes.filterMetadata('Hylak_id', 'equals', lake_id)\n",
    "    roi = aoi.geometry()\n",
    "    \n",
    "    # Load SENTINEL-1\n",
    "    s1 = ee.ImageCollection('COPERNICUS/S1_GRD') \\\n",
    "            .filter(ee.Filter.eq('instrumentMode', 'IW')) \\\n",
    "            .filter(ee.Filter.listContains('transmitterReceiverPolarisation', 'VV')) \\\n",
    "            .filter(ee.Filter.listContains('transmitterReceiverPolarisation', 'VH')) \\\n",
    "            .filterBounds(roi)\n",
    "    # speckle filter\n",
    "    # add image date to the property\n",
    "    s1_with_dates = s1.map(lambda image: filterSpeckles(image).set('date', \n",
    "                                                   ee.Date(image.get('system:time_start')).format('YYYY-MM-dd HH:mm:ss')))\n",
    "    \n",
    "    # SENTINEL-2\n",
    "    s2 = ee.ImageCollection('COPERNICUS/S2_SR_HARMONIZED') \\\n",
    "            .filterBounds(roi) \\\n",
    "            .filter(ee.Filter.lt('CLOUDY_PIXEL_PERCENTAGE',15))\n",
    "\n",
    "    s2_with_dates = s2.map(lambda image: image.set('date',\n",
    "                                                    ee.Date(image.get('system:time_start')).format('YYYY-MM-dd HH:mm:ss')))\n",
    "    \n",
    "    # get dates\n",
    "    s1_dates = s1_with_dates.aggregate_array(\"date\").getInfo()\n",
    "    s2_dates = s2_with_dates.aggregate_array(\"date\").getInfo()\n",
    "    s1_dates = pd.to_datetime(s1_dates)\n",
    "    s2_dates = pd.to_datetime(s2_dates)\n",
    "    \n",
    "    # Find sentinel-2 image that was acquired < 12 hour to the sentinel-1 image\n",
    "    def lookfor_sen2(sen1_date, \n",
    "                     sen2_dates = s2_dates, # list of dates of avaialble sentinel-2 images\n",
    "                     delta_hr = 12):\n",
    "        # find all times that has less than 12 hour interval to the sentinel-2 image\n",
    "        intervals = np.abs(sen2_dates - sen1_date)\n",
    "        indexes = intervals < pd.Timedelta(f\"{delta_hr}H\")\n",
    "\n",
    "        # get the dates\n",
    "        match_sen2_date = sen2_dates[indexes]\n",
    "\n",
    "        if len(match_sen2_date) == 0:\n",
    "            return None\n",
    "        else:\n",
    "            return match_sen2_date\n",
    "        \n",
    "    # create a match table between sentinel-1 dates and sentinel-2 dates\n",
    "    match_table = pd.DataFrame(s1_dates, columns = [\"s1_dates\"])\n",
    "    match_table[\"s2_dates\"] = match_table[\"s1_dates\"].apply(lookfor_sen2)\n",
    "    match_table = match_table.dropna().reset_index(drop = True).explode(\"s2_dates\")\n",
    "\n",
    "    # Find Sentinel-1\n",
    "    s1_date_string = ee.List(list(match_table.s1_dates.apply(lambda date: date.strftime('%Y-%m-%d %X')).unique()))\n",
    "    s2_date_string = ee.List(list(match_table.s2_dates.apply(lambda date: date.strftime('%Y-%m-%d %X')).unique()))\n",
    "    \n",
    "    # create image collections of the sentinel-1, sentinel-2 (SCL)\n",
    "    matched_s1_img_col = s1_with_dates.filter(ee.Filter.inList('date',s1_date_string)).select([\"VV_spf\", \"VH\", \"angle\"])\n",
    "    matched_s2_img_col = s2_with_dates.filter(ee.Filter.inList('date',s2_date_string)).select([\"B4\", \"B3\", \"B2\", \"SCL\"])\n",
    "      \n",
    "    # directory to save the s1 and s2 images\n",
    "    out_dir_s1 = f\"/mnt/Data_2tb/sentinel1_ice/sen1/{lake_id}\"\n",
    "    out_dir_s2 = f\"/mnt/Data_2tb/sentinel1_ice/sen2/{lake_id}\"\n",
    "    \n",
    "    try:\n",
    "        os.mkdir(out_dir_s1)\n",
    "        os.mkdir(out_dir_s2)\n",
    "    except:\n",
    "        pass\n",
    "    \n",
    "    print(f\"Downloading Sentinel-2 RGBS Image for {lake_id}\")\n",
    "    geemap.download_ee_image_collection(matched_s2_img_col, \n",
    "                                    out_dir = out_dir_s2,\n",
    "                                    region = roi,\n",
    "                                    dtype = \"float32\",\n",
    "                                    num_threads = 2,\n",
    "                                    scale = scale,\n",
    "                                    )\n",
    "    \n",
    "    # Download Sentinel-1 imagery\n",
    "    #print(f\"Downloading Sentinel-1 Image for {lake_id}\")\n",
    "    #geemap.download_ee_image_collection(matched_s1_img_col, \n",
    "    #                                out_dir = out_dir_s1,\n",
    "    #                                region = roi,\n",
    "    #                                dtype = \"float32\",\n",
    "    #                                num_threads = 2,\n",
    "    #                                scale = scale,\n",
    "    #                                )\n",
    "    \n",
    "    return match_table"
   ]
  },
  {
   "cell_type": "markdown",
   "id": "a47aa979-4e16-4d40-88af-93bf952cdfd2",
   "metadata": {},
   "source": [
    "# Retrieve images for all training lakes"
   ]
  },
  {
   "cell_type": "code",
   "execution_count": 6,
   "id": "dcfb12be-dbba-4410-8f90-b8f660dafb31",
   "metadata": {},
   "outputs": [
    {
     "data": {
      "text/html": [
       "\n",
       "            <style>\n",
       "                .geemap-dark {\n",
       "                    --jp-widgets-color: white;\n",
       "                    --jp-widgets-label-color: white;\n",
       "                    --jp-ui-font-color1: white;\n",
       "                    --jp-layout-color2: #454545;\n",
       "                    background-color: #383838;\n",
       "                }\n",
       "\n",
       "                .geemap-dark .jupyter-button {\n",
       "                    --jp-layout-color3: #383838;\n",
       "                }\n",
       "\n",
       "                .geemap-colab {\n",
       "                    background-color: var(--colab-primary-surface-color, white);\n",
       "                }\n",
       "\n",
       "                .geemap-colab .jupyter-button {\n",
       "                    --jp-layout-color3: var(--colab-primary-surface-color, white);\n",
       "                }\n",
       "            </style>\n",
       "            "
      ],
      "text/plain": [
       "<IPython.core.display.HTML object>"
      ]
     },
     "metadata": {},
     "output_type": "display_data"
    }
   ],
   "source": [
    "lake_ids = pd.read_csv(\"data/training_lakes.csv\").Hylak_id.to_numpy().tolist()"
   ]
  },
  {
   "cell_type": "code",
   "execution_count": 7,
   "id": "0c2ab157-9c3a-4210-a638-f23ed54bdd60",
   "metadata": {
    "tags": []
   },
   "outputs": [
    {
     "data": {
      "text/html": [
       "\n",
       "            <style>\n",
       "                .geemap-dark {\n",
       "                    --jp-widgets-color: white;\n",
       "                    --jp-widgets-label-color: white;\n",
       "                    --jp-ui-font-color1: white;\n",
       "                    --jp-layout-color2: #454545;\n",
       "                    background-color: #383838;\n",
       "                }\n",
       "\n",
       "                .geemap-dark .jupyter-button {\n",
       "                    --jp-layout-color3: #383838;\n",
       "                }\n",
       "\n",
       "                .geemap-colab {\n",
       "                    background-color: var(--colab-primary-surface-color, white);\n",
       "                }\n",
       "\n",
       "                .geemap-colab .jupyter-button {\n",
       "                    --jp-layout-color3: var(--colab-primary-surface-color, white);\n",
       "                }\n",
       "            </style>\n",
       "            "
      ],
      "text/plain": [
       "<IPython.core.display.HTML object>"
      ]
     },
     "metadata": {},
     "output_type": "display_data"
    },
    {
     "data": {
      "text/plain": [
       "1360"
      ]
     },
     "execution_count": 7,
     "metadata": {},
     "output_type": "execute_result"
    }
   ],
   "source": [
    "len(lake_ids)"
   ]
  },
  {
   "cell_type": "code",
   "execution_count": null,
   "id": "4f7f936f-f53e-4c6c-9d00-898453f88f06",
   "metadata": {
    "tags": []
   },
   "outputs": [
    {
     "data": {
      "text/html": [
       "\n",
       "            <style>\n",
       "                .geemap-dark {\n",
       "                    --jp-widgets-color: white;\n",
       "                    --jp-widgets-label-color: white;\n",
       "                    --jp-ui-font-color1: white;\n",
       "                    --jp-layout-color2: #454545;\n",
       "                    background-color: #383838;\n",
       "                }\n",
       "\n",
       "                .geemap-dark .jupyter-button {\n",
       "                    --jp-layout-color3: #383838;\n",
       "                }\n",
       "\n",
       "                .geemap-colab {\n",
       "                    background-color: var(--colab-primary-surface-color, white);\n",
       "                }\n",
       "\n",
       "                .geemap-colab .jupyter-button {\n",
       "                    --jp-layout-color3: var(--colab-primary-surface-color, white);\n",
       "                }\n",
       "            </style>\n",
       "            "
      ],
      "text/plain": [
       "<IPython.core.display.HTML object>"
      ]
     },
     "metadata": {},
     "output_type": "display_data"
    },
    {
     "name": "stdout",
     "output_type": "stream",
     "text": [
      "Downloading Sentinel-2 RGBS Image for 137\n",
      "Total number of images: 193\n",
      "\n",
      "Downloading 1/193: 20190117T070221_20190117T070222_T40TEM.tif\n"
     ]
    },
    {
     "data": {
      "application/vnd.jupyter.widget-view+json": {
       "model_id": "9dc5e2042e7e4257a72179153d33fd20",
       "version_major": 2,
       "version_minor": 0
      },
      "text/plain": [
       "20190117T070221_20190117T070222_T40TEM.tif: |                       | 0.00/110M (raw) [  0.0%] in 00:00 (eta: …"
      ]
     },
     "metadata": {},
     "output_type": "display_data"
    }
   ],
   "source": [
    "for lake_id in lake_ids:\n",
    "    download_s1s2_sameday_images(lake_id)\n",
    "    break"
   ]
  }
 ],
 "metadata": {
  "kernelspec": {
   "display_name": "Python [conda env:sen1_ice]",
   "language": "python",
   "name": "conda-env-sen1_ice-py"
  },
  "language_info": {
   "codemirror_mode": {
    "name": "ipython",
    "version": 3
   },
   "file_extension": ".py",
   "mimetype": "text/x-python",
   "name": "python",
   "nbconvert_exporter": "python",
   "pygments_lexer": "ipython3",
   "version": "3.11.9"
  }
 },
 "nbformat": 4,
 "nbformat_minor": 5
}
