{
 "cells": [
  {
   "cell_type": "markdown",
   "id": "6ceedde0-e8dc-45ee-b6e6-113c0a75e462",
   "metadata": {},
   "source": [
    "# Same day image mosaic\n",
    "\n",
    "Merge/Mosaic images that are same date and rename"
   ]
  },
  {
   "cell_type": "code",
   "execution_count": 1,
   "id": "aefd58a6-daef-46d6-b4fb-2a2c1d3c0777",
   "metadata": {},
   "outputs": [],
   "source": [
    "import numpy as np\n",
    "import pandas as pd\n",
    "import matplotlib.pyplot as plt\n",
    "import os\n",
    "import glob\n",
    "import rasterio\n",
    "import rioxarray\n",
    "from rioxarray.merge import merge_arrays\n",
    "from tqdm import tqdm"
   ]
  },
  {
   "cell_type": "code",
   "execution_count": 2,
   "id": "b9b1a19e-dedb-42e7-939f-83e61d38818c",
   "metadata": {},
   "outputs": [],
   "source": [
    "def extract_date_sen2(fp):\n",
    "    return pd.Timestamp(os.path.basename(fp).split(\"_\")[0]).date()\n",
    "def extract_date_sen1(fp):\n",
    "    return pd.Timestamp(os.path.basename(fp).split(\"_\")[4]).date()"
   ]
  },
  {
   "cell_type": "code",
   "execution_count": 3,
   "id": "4ce5f025-ac9d-4dcd-8d01-a16113872ce8",
   "metadata": {},
   "outputs": [],
   "source": [
    "lake_id = 9086\n",
    "\n",
    "raw_dir_sen2 = \"/mnt/Data_2tb/sentinel1_ice/sen2\"\n",
    "mosaic_dir_sen2 = f\"/mnt/Data_2tb/sentinel1_ice/sen2_mosaic\"\n",
    "\n",
    "raw_dir_sen1 = \"/mnt/Data_2tb/sentinel1_ice/sen1\"\n",
    "mosaic_dir_sen1 = f\"/mnt/Data_2tb/sentinel1_ice/sen1_mosaic\""
   ]
  },
  {
   "cell_type": "code",
   "execution_count": 4,
   "id": "f4975aee-80e9-4f7a-a651-61071bd95450",
   "metadata": {
    "tags": []
   },
   "outputs": [],
   "source": [
    "def mosaic_S2_images(lake_id,\n",
    "                       raw_dir,\n",
    "                       mosaic_dir):\n",
    "    # find the tif paths\n",
    "    sen2_tifs = glob.glob(f\"{raw_dir}/{lake_id}/*.tif\")\n",
    "    \n",
    "    # create directory for this lake\n",
    "    try:\n",
    "        os.mkdir(f\"{mosaic_dir}/{lake_id}\")\n",
    "    except:\n",
    "        pass\n",
    "\n",
    "    # create a match table between file path and date\n",
    "    table = pd.DataFrame(sen2_tifs, columns = [\"fp\"])\n",
    "    table[\"dt\"] = table.fp.apply(extract_date_sen2)\n",
    "    table = table.sort_values(\"dt\").reset_index(drop = True)\n",
    "    table = table.groupby(\"dt\").agg(lambda x: ','.join(x).split(\",\"))\n",
    "    table[\"count\"] = table.fp.apply(len)\n",
    "    \n",
    "    # loop on each date\n",
    "    for dt in tqdm(table.index):\n",
    "        # get the file path for each image\n",
    "        image_fps = table.loc[dt][\"fp\"]\n",
    "\n",
    "        if len(image_fps) == 1:\n",
    "            # only 1 image, no need to mosaic, just copy to the output dir    \n",
    "            merged_raster = rioxarray.open_rasterio(image_fps[0])\n",
    "        else:\n",
    "            # use the first image crs\n",
    "            tile_list = []\n",
    "            crs = rioxarray.open_rasterio(image_fps[0]).rio.crs\n",
    "\n",
    "            # read each image\n",
    "            # reproject to the first image crs\n",
    "            for image in image_fps:\n",
    "                tile = rioxarray.open_rasterio(image).rio.reproject(crs)\n",
    "                tile_list.append(tile)\n",
    "\n",
    "            # merge tiles\n",
    "            merged_raster = merge_arrays(dataarrays=tile_list, \n",
    "                        crs = crs)\n",
    "\n",
    "        # export the raster with the aquisition date\n",
    "        date_string = dt.strftime(\"%Y_%m_%d\")\n",
    "        file_name = date_string + \"_mosaic_S2.tif\"\n",
    "        merged_raster.rio.to_raster(f\"{mosaic_dir}/{lake_id}/{file_name}\")\n",
    "    \n",
    "    tile.close()\n",
    "    merged_raster.close()\n",
    "    \n",
    "    return"
   ]
  },
  {
   "cell_type": "code",
   "execution_count": 5,
   "id": "206d9a5b-2cfd-4dac-9203-c119a3914a1a",
   "metadata": {
    "tags": []
   },
   "outputs": [
    {
     "name": "stderr",
     "output_type": "stream",
     "text": [
      "100%|███████████████████████████████████████████| 21/21 [00:07<00:00,  2.95it/s]\n"
     ]
    }
   ],
   "source": [
    "mosaic_S2_images(lake_id = lake_id,\n",
    "                       raw_dir = raw_dir_sen2,\n",
    "                       mosaic_dir = mosaic_dir_sen2)"
   ]
  },
  {
   "cell_type": "code",
   "execution_count": null,
   "id": "7fa8fe51-bc5c-4c2c-a170-4e20e6054aca",
   "metadata": {},
   "outputs": [],
   "source": []
  },
  {
   "cell_type": "code",
   "execution_count": null,
   "id": "6c1e0353-5426-4a4a-a20b-9f371c0aec4c",
   "metadata": {},
   "outputs": [],
   "source": []
  },
  {
   "cell_type": "code",
   "execution_count": 6,
   "id": "50138930-56d7-4e65-9b8b-8b58a7c036b5",
   "metadata": {
    "tags": []
   },
   "outputs": [],
   "source": [
    "def mosaic_S1_images(lake_id,\n",
    "                       raw_dir,\n",
    "                       mosaic_dir):\n",
    "    # find the tif paths\n",
    "    sen1_tifs = glob.glob(f\"{raw_dir}/{lake_id}/*.tif\")\n",
    "    \n",
    "    # create directory for this lake\n",
    "    try:\n",
    "        os.mkdir(f\"{mosaic_dir}/{lake_id}\")\n",
    "    except:\n",
    "        pass\n",
    "\n",
    "    # create a match table between file path and date\n",
    "    table = pd.DataFrame(sen1_tifs, columns = [\"fp\"])\n",
    "    table[\"dt\"] = table.fp.apply(extract_date_sen1)\n",
    "    table = table.sort_values(\"dt\").reset_index(drop = True)\n",
    "    table = table.groupby(\"dt\").agg(lambda x: ','.join(x).split(\",\"))\n",
    "    table[\"count\"] = table.fp.apply(len)\n",
    "    \n",
    "    # loop on each date\n",
    "    for dt in tqdm(table.index):\n",
    "        # get the file path for each image\n",
    "        image_fps = table.loc[dt][\"fp\"]\n",
    "\n",
    "        if len(image_fps) == 1:\n",
    "            # only 1 image, no need to mosaic, just copy to the output dir    \n",
    "            merged_raster = rioxarray.open_rasterio(image_fps[0])\n",
    "        else:\n",
    "            # use the first image crs\n",
    "            tile_list = []\n",
    "            crs = rioxarray.open_rasterio(image_fps[0]).rio.crs\n",
    "\n",
    "            # read each image\n",
    "            # reproject to the first image crs\n",
    "            for image in image_fps:\n",
    "                tile = rioxarray.open_rasterio(image).rio.reproject(crs)\n",
    "                tile_list.append(tile)\n",
    "\n",
    "            # merge tiles\n",
    "            merged_raster = merge_arrays(dataarrays=tile_list, \n",
    "                        crs = crs)\n",
    "            tile.close()\n",
    "            \n",
    "        \n",
    "\n",
    "        # export the raster with the aquisition date\n",
    "        date_string = dt.strftime(\"%Y_%m_%d\")\n",
    "        file_name = date_string + \"_mosaic_S1.tif\"\n",
    "        merged_raster.rio.to_raster(f\"{mosaic_dir}/{lake_id}/{file_name}\")\n",
    "        merged_raster.close()\n",
    "        \n",
    "    return"
   ]
  },
  {
   "cell_type": "code",
   "execution_count": 8,
   "id": "8a8d50e4-dbe0-4479-b780-d93a2f25caf7",
   "metadata": {
    "tags": []
   },
   "outputs": [
    {
     "name": "stderr",
     "output_type": "stream",
     "text": [
      "100%|███████████████████████████████████████████| 21/21 [00:04<00:00,  5.03it/s]\n"
     ]
    },
    {
     "ename": "UnboundLocalError",
     "evalue": "cannot access local variable 'tile' where it is not associated with a value",
     "output_type": "error",
     "traceback": [
      "\u001b[0;31m---------------------------------------------------------------------------\u001b[0m",
      "\u001b[0;31mUnboundLocalError\u001b[0m                         Traceback (most recent call last)",
      "Cell \u001b[0;32mIn[8], line 1\u001b[0m\n\u001b[0;32m----> 1\u001b[0m \u001b[43mmosaic_S1_images\u001b[49m\u001b[43m(\u001b[49m\u001b[43mlake_id\u001b[49m\u001b[43m \u001b[49m\u001b[38;5;241;43m=\u001b[39;49m\u001b[43m \u001b[49m\u001b[43mlake_id\u001b[49m\u001b[43m,\u001b[49m\n\u001b[1;32m      2\u001b[0m \u001b[43m                       \u001b[49m\u001b[43mraw_dir\u001b[49m\u001b[43m \u001b[49m\u001b[38;5;241;43m=\u001b[39;49m\u001b[43m \u001b[49m\u001b[43mraw_dir_sen1\u001b[49m\u001b[43m,\u001b[49m\n\u001b[1;32m      3\u001b[0m \u001b[43m                       \u001b[49m\u001b[43mmosaic_dir\u001b[49m\u001b[43m \u001b[49m\u001b[38;5;241;43m=\u001b[39;49m\u001b[43m \u001b[49m\u001b[43mmosaic_dir_sen1\u001b[49m\u001b[43m)\u001b[49m\n",
      "Cell \u001b[0;32mIn[6], line 48\u001b[0m, in \u001b[0;36mmosaic_S1_images\u001b[0;34m(lake_id, raw_dir, mosaic_dir)\u001b[0m\n\u001b[1;32m     45\u001b[0m     file_name \u001b[38;5;241m=\u001b[39m date_string \u001b[38;5;241m+\u001b[39m \u001b[38;5;124m\"\u001b[39m\u001b[38;5;124m_mosaic_S1.tif\u001b[39m\u001b[38;5;124m\"\u001b[39m\n\u001b[1;32m     46\u001b[0m     merged_raster\u001b[38;5;241m.\u001b[39mrio\u001b[38;5;241m.\u001b[39mto_raster(\u001b[38;5;124mf\u001b[39m\u001b[38;5;124m\"\u001b[39m\u001b[38;5;132;01m{\u001b[39;00mmosaic_dir\u001b[38;5;132;01m}\u001b[39;00m\u001b[38;5;124m/\u001b[39m\u001b[38;5;132;01m{\u001b[39;00mlake_id\u001b[38;5;132;01m}\u001b[39;00m\u001b[38;5;124m/\u001b[39m\u001b[38;5;132;01m{\u001b[39;00mfile_name\u001b[38;5;132;01m}\u001b[39;00m\u001b[38;5;124m\"\u001b[39m)\n\u001b[0;32m---> 48\u001b[0m \u001b[43mtile\u001b[49m\u001b[38;5;241m.\u001b[39mclose()\n\u001b[1;32m     49\u001b[0m merged_raster\u001b[38;5;241m.\u001b[39mclose()\n\u001b[1;32m     51\u001b[0m \u001b[38;5;28;01mreturn\u001b[39;00m\n",
      "\u001b[0;31mUnboundLocalError\u001b[0m: cannot access local variable 'tile' where it is not associated with a value"
     ]
    }
   ],
   "source": [
    "mosaic_S1_images(lake_id = lake_id,\n",
    "                       raw_dir = raw_dir_sen1,\n",
    "                       mosaic_dir = mosaic_dir_sen1)"
   ]
  },
  {
   "cell_type": "code",
   "execution_count": null,
   "id": "9b372e3d-ef03-474c-a703-5b50b07cc210",
   "metadata": {},
   "outputs": [],
   "source": []
  }
 ],
 "metadata": {
  "kernelspec": {
   "display_name": "Python [conda env:sen1_ice]",
   "language": "python",
   "name": "conda-env-sen1_ice-py"
  },
  "language_info": {
   "codemirror_mode": {
    "name": "ipython",
    "version": 3
   },
   "file_extension": ".py",
   "mimetype": "text/x-python",
   "name": "python",
   "nbconvert_exporter": "python",
   "pygments_lexer": "ipython3",
   "version": "3.11.9"
  }
 },
 "nbformat": 4,
 "nbformat_minor": 5
}
