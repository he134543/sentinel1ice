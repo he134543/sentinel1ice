{
 "cells": [
  {
   "cell_type": "markdown",
   "id": "6ceedde0-e8dc-45ee-b6e6-113c0a75e462",
   "metadata": {},
   "source": [
    "# Same day image mosaic\n",
    "\n",
    "Merge/Mosaic images that are same date and rename"
   ]
  },
  {
   "cell_type": "code",
   "execution_count": 1,
   "id": "aefd58a6-daef-46d6-b4fb-2a2c1d3c0777",
   "metadata": {
    "tags": []
   },
   "outputs": [],
   "source": [
    "import numpy as np\n",
    "import pandas as pd\n",
    "import matplotlib.pyplot as plt\n",
    "import os\n",
    "import glob\n",
    "import rasterio\n",
    "import rioxarray\n",
    "from rioxarray.merge import merge_arrays\n",
    "from tqdm import tqdm"
   ]
  },
  {
   "cell_type": "code",
   "execution_count": 2,
   "id": "b9b1a19e-dedb-42e7-939f-83e61d38818c",
   "metadata": {
    "tags": []
   },
   "outputs": [],
   "source": [
    "def extract_date_sen2(fp):\n",
    "    return pd.Timestamp(os.path.basename(fp).split(\"_\")[0]).date()"
   ]
  },
  {
   "cell_type": "code",
   "execution_count": 8,
   "id": "4ce5f025-ac9d-4dcd-8d01-a16113872ce8",
   "metadata": {
    "tags": []
   },
   "outputs": [],
   "source": [
    "raw_dir_sen2 = \"/home/xinchenh/LData/sentinel2_images/rgb_raw\"\n",
    "mosaic_dir_sen2 = \"/home/xinchenh/LData/sentinel2_images/rgb_mosaic\""
   ]
  },
  {
   "cell_type": "code",
   "execution_count": 20,
   "id": "f4975aee-80e9-4f7a-a651-61071bd95450",
   "metadata": {
    "tags": []
   },
   "outputs": [],
   "source": [
    "def mosaic_S2_images(lake_id,\n",
    "                       raw_dir,\n",
    "                       mosaic_dir):\n",
    "    # find the tif paths\n",
    "    sen2_tifs = glob.glob(f\"{raw_dir}/{lake_id}/*.tif\")\n",
    "    \n",
    "    # create directory for this lake\n",
    "    try:\n",
    "        os.mkdir(f\"{mosaic_dir}/{lake_id}\")\n",
    "    except:\n",
    "        pass\n",
    "\n",
    "    # create a match table between file path and date\n",
    "    table = pd.DataFrame(sen2_tifs, columns = [\"fp\"])\n",
    "    table[\"dt\"] = table.fp.apply(extract_date_sen2)\n",
    "    table = table.sort_values(\"dt\").reset_index(drop = True)\n",
    "    table = table.groupby(\"dt\").agg(lambda x: ','.join(x).split(\",\"))\n",
    "    table[\"count\"] = table.fp.apply(len)\n",
    "    \n",
    "    # loop on each date\n",
    "    for dt in tqdm(table.index):\n",
    "        # get the file path for each image\n",
    "        image_fps = table.loc[dt][\"fp\"]\n",
    "\n",
    "        if len(image_fps) == 1:\n",
    "            # only 1 image, no need to mosaic, just copy to the output dir    \n",
    "            merged_raster = rioxarray.open_rasterio(image_fps[0])\n",
    "        else:\n",
    "            # use the first image crs\n",
    "            tile_list = []\n",
    "            crs = rioxarray.open_rasterio(image_fps[0]).rio.crs\n",
    "\n",
    "            # read each image\n",
    "            # reproject to the first image crs\n",
    "            for image in image_fps:\n",
    "                tile = rioxarray.open_rasterio(image).rio.reproject(crs)\n",
    "                tile_list.append(tile)\n",
    "\n",
    "            tile.close()\n",
    "            \n",
    "            # merge tiles\n",
    "            merged_raster = merge_arrays(dataarrays=tile_list, \n",
    "                        crs = crs)\n",
    "\n",
    "        # export the raster with the aquisition date\n",
    "        date_string = dt.strftime(\"%Y_%m_%d\")\n",
    "        file_name = date_string + \"_mosaic_S2.tif\"\n",
    "        merged_raster.rio.to_raster(f\"{mosaic_dir}/{lake_id}/{file_name}\")\n",
    "    try:\n",
    "        merged_raster.close()\n",
    "    except:\n",
    "        pass\n",
    "    return"
   ]
  },
  {
   "cell_type": "code",
   "execution_count": 21,
   "id": "b21367d8-8506-43a3-9871-4987f43eb40c",
   "metadata": {
    "tags": []
   },
   "outputs": [],
   "source": [
    "lake_id_list = [int(os.path.basename(fp)) for fp in glob.glob(f\"{raw_dir_sen2}/*\")]"
   ]
  },
  {
   "cell_type": "code",
   "execution_count": null,
   "id": "206d9a5b-2cfd-4dac-9203-c119a3914a1a",
   "metadata": {
    "collapsed": true,
    "jupyter": {
     "outputs_hidden": true
    },
    "tags": []
   },
   "outputs": [
    {
     "name": "stderr",
     "output_type": "stream",
     "text": [
      "100%|████████████████████████████████████████████████████████████████████████████████████████████████████████| 52/52 [00:00<00:00, 75.29it/s]\n",
      "100%|████████████████████████████████████████████████████████████████████████████████████████████████████████| 24/24 [00:01<00:00, 21.96it/s]\n",
      "100%|████████████████████████████████████████████████████████████████████████████████████████████████████████| 38/38 [00:00<00:00, 73.40it/s]\n",
      "100%|████████████████████████████████████████████████████████████████████████████████████████████████████████| 14/14 [00:00<00:00, 21.88it/s]\n",
      "100%|████████████████████████████████████████████████████████████████████████████████████████████████████████| 16/16 [00:00<00:00, 45.79it/s]\n",
      "100%|████████████████████████████████████████████████████████████████████████████████████████████████████████| 18/18 [00:00<00:00, 77.45it/s]\n",
      "100%|████████████████████████████████████████████████████████████████████████████████████████████████████████| 17/17 [00:00<00:00, 75.30it/s]\n",
      "100%|████████████████████████████████████████████████████████████████████████████████████████████████████████| 22/22 [00:00<00:00, 24.84it/s]\n",
      "100%|████████████████████████████████████████████████████████████████████████████████████████████████████████| 14/14 [00:00<00:00, 24.77it/s]\n",
      "100%|████████████████████████████████████████████████████████████████████████████████████████████████████████| 18/18 [00:00<00:00, 23.94it/s]\n",
      "100%|████████████████████████████████████████████████████████████████████████████████████████████████████████| 38/38 [00:00<00:00, 69.68it/s]\n",
      "100%|██████████████████████████████████████████████████████████████████████████████████████████████████████| 102/102 [00:01<00:00, 61.34it/s]\n",
      "100%|████████████████████████████████████████████████████████████████████████████████████████████████████████| 24/24 [00:00<00:00, 79.26it/s]\n",
      "100%|████████████████████████████████████████████████████████████████████████████████████████████████████████| 41/41 [00:00<00:00, 67.39it/s]\n",
      "100%|████████████████████████████████████████████████████████████████████████████████████████████████████████| 13/13 [00:00<00:00, 78.29it/s]\n",
      "0it [00:00, ?it/s]\n",
      "100%|████████████████████████████████████████████████████████████████████████████████████████████████████████| 51/51 [00:02<00:00, 25.36it/s]\n",
      "100%|████████████████████████████████████████████████████████████████████████████████████████████████████████| 85/85 [00:03<00:00, 21.84it/s]\n",
      "100%|████████████████████████████████████████████████████████████████████████████████████████████████████████| 48/48 [00:04<00:00,  9.78it/s]\n",
      " 22%|██████████████████████▌                                                                                | 39/178 [00:06<00:14,  9.79it/s]"
     ]
    }
   ],
   "source": [
    "# loop\n",
    "for lake_id in lake_id_list:\n",
    "    mosaic_S2_images(lake_id = lake_id,\n",
    "                       raw_dir = raw_dir_sen2,\n",
    "                       mosaic_dir = mosaic_dir_sen2)"
   ]
  },
  {
   "cell_type": "code",
   "execution_count": null,
   "id": "7fa8fe51-bc5c-4c2c-a170-4e20e6054aca",
   "metadata": {},
   "outputs": [],
   "source": []
  },
  {
   "cell_type": "code",
   "execution_count": null,
   "id": "6c1e0353-5426-4a4a-a20b-9f371c0aec4c",
   "metadata": {},
   "outputs": [],
   "source": []
  },
  {
   "cell_type": "code",
   "execution_count": 4,
   "id": "50138930-56d7-4e65-9b8b-8b58a7c036b5",
   "metadata": {
    "tags": []
   },
   "outputs": [],
   "source": [
    "# def mosaic_S1_images(lake_id,\n",
    "#                        raw_dir,\n",
    "#                        mosaic_dir):\n",
    "#     # find the tif paths\n",
    "#     sen1_tifs = glob.glob(f\"{raw_dir}/{lake_id}/*.tif\")\n",
    "\n",
    "#     # create directory for this lake\n",
    "#     try:\n",
    "#         os.mkdir(f\"{mosaic_dir}/{lake_id}\")\n",
    "#     except:\n",
    "#         pass\n",
    "\n",
    "#     # create a match table between file path and date\n",
    "#     table = pd.DataFrame(sen1_tifs, columns = [\"fp\"])\n",
    "#     table[\"dt\"] = table.fp.apply(extract_date_sen1)\n",
    "#     table = table.sort_values(\"dt\").reset_index(drop = True)\n",
    "#     table = table.groupby(\"dt\").agg(lambda x: ','.join(x).split(\",\"))\n",
    "#     table[\"count\"] = table.fp.apply(len)\n",
    "\n",
    "#     # loop on each date\n",
    "#     for dt in tqdm(table.index):\n",
    "#         # get the file path for each image\n",
    "#         image_fps = table.loc[dt][\"fp\"]\n",
    "\n",
    "#         if len(image_fps) == 1:\n",
    "#             # only 1 image, no need to mosaic, just copy to the output dir    \n",
    "#             merged_raster = rioxarray.open_rasterio(image_fps[0])\n",
    "#         else:\n",
    "#             # use the first image crs\n",
    "#             tile_list = []\n",
    "#             crs = rioxarray.open_rasterio(image_fps[0]).rio.crs\n",
    "\n",
    "#             # read each image\n",
    "#             # reproject to the first image crs\n",
    "#             for image in image_fps:\n",
    "#                 tile = rioxarray.open_rasterio(image).rio.reproject(crs)\n",
    "#                 tile_list.append(tile)\n",
    "\n",
    "#             # merge tiles\n",
    "#             merged_raster = merge_arrays(dataarrays=tile_list, \n",
    "#                         crs = crs)\n",
    "#             tile.close()\n",
    "\n",
    "\n",
    "\n",
    "#         # export the raster with the aquisition date\n",
    "#         date_string = dt.strftime(\"%Y_%m_%d\")\n",
    "#         file_name = date_string + \"_mosaic_S1.tif\"\n",
    "#         merged_raster.rio.to_raster(f\"{mosaic_dir}/{lake_id}/{file_name}\")\n",
    "#         merged_raster.close()\n",
    "\n",
    "#     return"
   ]
  },
  {
   "cell_type": "code",
   "execution_count": 5,
   "id": "8a8d50e4-dbe0-4479-b780-d93a2f25caf7",
   "metadata": {
    "collapsed": true,
    "jupyter": {
     "outputs_hidden": true
    },
    "tags": []
   },
   "outputs": [],
   "source": [
    "# mosaic_S1_images(lake_id = lake_id,\n",
    "#                        raw_dir = raw_dir_sen1,\n",
    "#                        mosaic_dir = mosaic_dir_sen1)"
   ]
  },
  {
   "cell_type": "code",
   "execution_count": null,
   "id": "9b372e3d-ef03-474c-a703-5b50b07cc210",
   "metadata": {},
   "outputs": [],
   "source": []
  }
 ],
 "metadata": {
  "kernelspec": {
   "display_name": "Python [conda env:sen1_ice]",
   "language": "python",
   "name": "conda-env-sen1_ice-py"
  },
  "language_info": {
   "codemirror_mode": {
    "name": "ipython",
    "version": 3
   },
   "file_extension": ".py",
   "mimetype": "text/x-python",
   "name": "python",
   "nbconvert_exporter": "python",
   "pygments_lexer": "ipython3",
   "version": "3.11.9"
  }
 },
 "nbformat": 4,
 "nbformat_minor": 5
}
