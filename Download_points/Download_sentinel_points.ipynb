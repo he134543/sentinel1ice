{
 "cells": [
  {
   "cell_type": "markdown",
   "id": "21d40488",
   "metadata": {},
   "source": [
    "# Random sample values for same date sentinel-1 and sentinel-2 images\n",
    "\n",
    "- Find the same date optical image from sentinel-2 for each senetinel-1 image\n",
    "\n",
    "- Speckle filter for the sentinel-1 image\n",
    "\n",
    "- For each sentinel-2 image, keep images with tile cloud coverage < 20%\n",
    "\n",
    "- Perform random sample --> 1000 points for each lake"
   ]
  },
  {
   "cell_type": "code",
   "execution_count": 1,
   "id": "5712f4a8",
   "metadata": {
    "tags": []
   },
   "outputs": [],
   "source": [
    "import numpy as np\n",
    "import pandas as pd\n",
    "import matplotlib.pyplot as plt\n",
    "import os\n",
    "import glob\n",
    "import geemap\n",
    "import ee\n",
    "import rasterio\n",
    "import contextlib\n",
    "from p_tqdm import p_map"
   ]
  },
  {
   "cell_type": "code",
   "execution_count": 2,
   "id": "e3575954",
   "metadata": {
    "tags": []
   },
   "outputs": [
    {
     "data": {
      "text/html": [
       "\n",
       "            <style>\n",
       "                .geemap-dark {\n",
       "                    --jp-widgets-color: white;\n",
       "                    --jp-widgets-label-color: white;\n",
       "                    --jp-ui-font-color1: white;\n",
       "                    --jp-layout-color2: #454545;\n",
       "                    background-color: #383838;\n",
       "                }\n",
       "\n",
       "                .geemap-dark .jupyter-button {\n",
       "                    --jp-layout-color3: #383838;\n",
       "                }\n",
       "\n",
       "                .geemap-colab {\n",
       "                    background-color: var(--colab-primary-surface-color, white);\n",
       "                }\n",
       "\n",
       "                .geemap-colab .jupyter-button {\n",
       "                    --jp-layout-color3: var(--colab-primary-surface-color, white);\n",
       "                }\n",
       "            </style>\n",
       "            "
      ],
      "text/plain": [
       "<IPython.core.display.HTML object>"
      ]
     },
     "metadata": {},
     "output_type": "display_data"
    }
   ],
   "source": [
    "# earthaccess.login()"
   ]
  },
  {
   "cell_type": "code",
   "execution_count": 3,
   "id": "1332e11c",
   "metadata": {
    "tags": []
   },
   "outputs": [
    {
     "data": {
      "text/html": [
       "\n",
       "            <style>\n",
       "                .geemap-dark {\n",
       "                    --jp-widgets-color: white;\n",
       "                    --jp-widgets-label-color: white;\n",
       "                    --jp-ui-font-color1: white;\n",
       "                    --jp-layout-color2: #454545;\n",
       "                    background-color: #383838;\n",
       "                }\n",
       "\n",
       "                .geemap-dark .jupyter-button {\n",
       "                    --jp-layout-color3: #383838;\n",
       "                }\n",
       "\n",
       "                .geemap-colab {\n",
       "                    background-color: var(--colab-primary-surface-color, white);\n",
       "                }\n",
       "\n",
       "                .geemap-colab .jupyter-button {\n",
       "                    --jp-layout-color3: var(--colab-primary-surface-color, white);\n",
       "                }\n",
       "            </style>\n",
       "            "
      ],
      "text/plain": [
       "<IPython.core.display.HTML object>"
      ]
     },
     "metadata": {},
     "output_type": "display_data"
    },
    {
     "data": {
      "text/plain": [
       "True"
      ]
     },
     "execution_count": 3,
     "metadata": {},
     "output_type": "execute_result"
    }
   ],
   "source": [
    "ee.Authenticate()"
   ]
  },
  {
   "cell_type": "code",
   "execution_count": 4,
   "id": "3b620e2c",
   "metadata": {
    "tags": []
   },
   "outputs": [
    {
     "data": {
      "text/html": [
       "\n",
       "            <style>\n",
       "                .geemap-dark {\n",
       "                    --jp-widgets-color: white;\n",
       "                    --jp-widgets-label-color: white;\n",
       "                    --jp-ui-font-color1: white;\n",
       "                    --jp-layout-color2: #454545;\n",
       "                    background-color: #383838;\n",
       "                }\n",
       "\n",
       "                .geemap-dark .jupyter-button {\n",
       "                    --jp-layout-color3: #383838;\n",
       "                }\n",
       "\n",
       "                .geemap-colab {\n",
       "                    background-color: var(--colab-primary-surface-color, white);\n",
       "                }\n",
       "\n",
       "                .geemap-colab .jupyter-button {\n",
       "                    --jp-layout-color3: var(--colab-primary-surface-color, white);\n",
       "                }\n",
       "            </style>\n",
       "            "
      ],
      "text/plain": [
       "<IPython.core.display.HTML object>"
      ]
     },
     "metadata": {},
     "output_type": "display_data"
    }
   ],
   "source": [
    "ee.Initialize()"
   ]
  },
  {
   "cell_type": "markdown",
   "id": "d5441d19",
   "metadata": {},
   "source": [
    "# Import datasets"
   ]
  },
  {
   "cell_type": "code",
   "execution_count": 5,
   "id": "1bed554b-e00d-44ab-928f-8146b3886ab6",
   "metadata": {
    "tags": []
   },
   "outputs": [
    {
     "data": {
      "text/html": [
       "\n",
       "            <style>\n",
       "                .geemap-dark {\n",
       "                    --jp-widgets-color: white;\n",
       "                    --jp-widgets-label-color: white;\n",
       "                    --jp-ui-font-color1: white;\n",
       "                    --jp-layout-color2: #454545;\n",
       "                    background-color: #383838;\n",
       "                }\n",
       "\n",
       "                .geemap-dark .jupyter-button {\n",
       "                    --jp-layout-color3: #383838;\n",
       "                }\n",
       "\n",
       "                .geemap-colab {\n",
       "                    background-color: var(--colab-primary-surface-color, white);\n",
       "                }\n",
       "\n",
       "                .geemap-colab .jupyter-button {\n",
       "                    --jp-layout-color3: var(--colab-primary-surface-color, white);\n",
       "                }\n",
       "            </style>\n",
       "            "
      ],
      "text/plain": [
       "<IPython.core.display.HTML object>"
      ]
     },
     "metadata": {},
     "output_type": "display_data"
    }
   ],
   "source": [
    "filterSizeMeters = 60 # speckle filter size, in meter\n",
    "scale = None # export image resolution, in meter"
   ]
  },
  {
   "cell_type": "code",
   "execution_count": 6,
   "id": "92a1ee3d-2b15-49e0-a290-8a1258f80ce0",
   "metadata": {
    "tags": []
   },
   "outputs": [
    {
     "data": {
      "text/html": [
       "\n",
       "            <style>\n",
       "                .geemap-dark {\n",
       "                    --jp-widgets-color: white;\n",
       "                    --jp-widgets-label-color: white;\n",
       "                    --jp-ui-font-color1: white;\n",
       "                    --jp-layout-color2: #454545;\n",
       "                    background-color: #383838;\n",
       "                }\n",
       "\n",
       "                .geemap-dark .jupyter-button {\n",
       "                    --jp-layout-color3: #383838;\n",
       "                }\n",
       "\n",
       "                .geemap-colab {\n",
       "                    background-color: var(--colab-primary-surface-color, white);\n",
       "                }\n",
       "\n",
       "                .geemap-colab .jupyter-button {\n",
       "                    --jp-layout-color3: var(--colab-primary-surface-color, white);\n",
       "                }\n",
       "            </style>\n",
       "            "
      ],
      "text/plain": [
       "<IPython.core.display.HTML object>"
      ]
     },
     "metadata": {},
     "output_type": "display_data"
    }
   ],
   "source": [
    "def filterSpeckles(img):\n",
    "    \n",
    "    # Function provided by Abhishek Kumar\n",
    "    vv = img.select(\"VV\")\n",
    "    # spf: speckle filtered\n",
    "    vv_filtered = vv.focal_median(filterSizeMeters, 'circle','meters').rename(\"VV_spf\")\n",
    "    \n",
    "    return img.addBands(vv_filtered)"
   ]
  },
  {
   "cell_type": "code",
   "execution_count": 8,
   "id": "20961384-7aa8-4558-a834-506ce477317a",
   "metadata": {
    "tags": []
   },
   "outputs": [
    {
     "data": {
      "text/html": [
       "\n",
       "            <style>\n",
       "                .geemap-dark {\n",
       "                    --jp-widgets-color: white;\n",
       "                    --jp-widgets-label-color: white;\n",
       "                    --jp-ui-font-color1: white;\n",
       "                    --jp-layout-color2: #454545;\n",
       "                    background-color: #383838;\n",
       "                }\n",
       "\n",
       "                .geemap-dark .jupyter-button {\n",
       "                    --jp-layout-color3: #383838;\n",
       "                }\n",
       "\n",
       "                .geemap-colab {\n",
       "                    background-color: var(--colab-primary-surface-color, white);\n",
       "                }\n",
       "\n",
       "                .geemap-colab .jupyter-button {\n",
       "                    --jp-layout-color3: var(--colab-primary-surface-color, white);\n",
       "                }\n",
       "            </style>\n",
       "            "
      ],
      "text/plain": [
       "<IPython.core.display.HTML object>"
      ]
     },
     "metadata": {},
     "output_type": "display_data"
    }
   ],
   "source": [
    "# def download_s1s2_sameday_images(lake_id, # export 60 meter resolution\n",
    "#                            ):\n",
    "# hydrolakes\n",
    "lake_id = 1440\n",
    "\n",
    "hydrolakes = ee.FeatureCollection(\"projects/ee-lakeice/assets/HydroLAKES_polys_v10\")        \n",
    "aoi = hydrolakes.filterMetadata('Hylak_id', 'equals', lake_id).first()\n",
    "roi = aoi.geometry()\n",
    "\n",
    "# Load SENTINEL-1\n",
    "s1 = ee.ImageCollection('COPERNICUS/S1_GRD') \\\n",
    "        .filter(ee.Filter.eq('instrumentMode', 'IW')) \\\n",
    "        .filter(ee.Filter.listContains('transmitterReceiverPolarisation', 'VV')) \\\n",
    "        .filter(ee.Filter.listContains('transmitterReceiverPolarisation', 'VH')) \\\n",
    "        .filterDate(\"2014-01-01\", \"2023-12-31\") \\\n",
    "        .filterBounds(roi)\n",
    "# speckle filter\n",
    "# add image date to the property\n",
    "s1_with_dates = s1.map(lambda image: filterSpeckles(image).set('date', \n",
    "                                               ee.Date(image.get('system:time_start')).format('YYYY-MM-dd HH:mm:ss')))"
   ]
  },
  {
   "cell_type": "code",
   "execution_count": 11,
   "id": "2ce74adf",
   "metadata": {
    "tags": []
   },
   "outputs": [
    {
     "data": {
      "text/html": [
       "\n",
       "            <style>\n",
       "                .geemap-dark {\n",
       "                    --jp-widgets-color: white;\n",
       "                    --jp-widgets-label-color: white;\n",
       "                    --jp-ui-font-color1: white;\n",
       "                    --jp-layout-color2: #454545;\n",
       "                    background-color: #383838;\n",
       "                }\n",
       "\n",
       "                .geemap-dark .jupyter-button {\n",
       "                    --jp-layout-color3: #383838;\n",
       "                }\n",
       "\n",
       "                .geemap-colab {\n",
       "                    background-color: var(--colab-primary-surface-color, white);\n",
       "                }\n",
       "\n",
       "                .geemap-colab .jupyter-button {\n",
       "                    --jp-layout-color3: var(--colab-primary-surface-color, white);\n",
       "                }\n",
       "            </style>\n",
       "            "
      ],
      "text/plain": [
       "<IPython.core.display.HTML object>"
      ]
     },
     "metadata": {},
     "output_type": "display_data"
    }
   ],
   "source": [
    "# Landsat 8 & 9\n",
    "ls8 = ee.ImageCollection('LANDSAT/LC08/C02/T1_TOA') \\\n",
    "        .filterDate('2013-01-01', '2023-12-31') \\\n",
    "        .filterBounds(roi)\n",
    "# add a property as date\n",
    "ls8_with_dates = s2.map(lambda image: image.set('date',\n",
    "                                                ee.Date(image.get('system:time_start')).format('YYYY-MM-dd HH:mm:ss')))\n",
    "\n",
    "# get dates\n",
    "s1_dates = s1_with_dates.aggregate_array(\"date\").getInfo()\n",
    "s2_dates = s2_with_dates.aggregate_array(\"date\").getInfo()\n",
    "s1_dates = pd.to_datetime(s1_dates)\n",
    "s2_dates = pd.to_datetime(s2_dates)\n",
    "\n",
    "# Find sentinel-2 image that was acquired < 12 hour to the sentinel-1 image\n",
    "def lookfor_sen2(sen1_date, \n",
    "                 sen2_dates = s2_dates, # list of dates of avaialble sentinel-2 images\n",
    "                 delta_hr = 12):\n",
    "    # find all times that has less than 12 hour interval to the sentinel-2 image\n",
    "    intervals = np.abs(sen2_dates - sen1_date)\n",
    "    indexes = intervals < pd.Timedelta(f\"{delta_hr}H\")\n",
    "\n",
    "    # get the dates\n",
    "    match_sen2_date = sen2_dates[indexes]\n",
    "\n",
    "    if len(match_sen2_date) == 0:\n",
    "        return None\n",
    "    else:\n",
    "        return match_sen2_date\n",
    "\n",
    "# create a match table between sentinel-1 dates and sentinel-2 dates\n",
    "match_table = pd.DataFrame(s1_dates, columns = [\"s1_dates\"])\n",
    "match_table[\"s2_dates\"] = match_table[\"s1_dates\"].apply(lookfor_sen2)\n",
    "match_table = match_table.dropna().reset_index(drop = True).explode(\"s2_dates\")\n",
    "\n",
    "# Find Sentinel-1\n",
    "s1_date_string = ee.List(list(match_table.s1_dates.apply(lambda date: date.strftime('%Y-%m-%d %X')).unique()))\n",
    "s2_date_string = ee.List(list(match_table.s2_dates.apply(lambda date: date.strftime('%Y-%m-%d %X')).unique()))\n",
    "\n",
    "# create image collections of the sentinel-1, sentinel-2 (SCL)\n",
    "matched_s1_img_col = s1_with_dates.filter(ee.Filter.inList('date',s1_date_string)).select([\"VV_spf\", \"VH\", \"angle\"])\n",
    "matched_s2_img_col = s2_with_dates.filter(ee.Filter.inList('date',s2_date_string)).select([\"B4\", \"B3\", \"B2\", \"SCL\"])    \n",
    "\n",
    "# create points based on the bound of the lake shape file\n",
    "# buffer 10km\n",
    "region = roi.buffer(10000).bounds()\n",
    "\n",
    "# create ramdom points inside the lake bound\n",
    "points = ee.FeatureCollection.randomPoints(\n",
    "    region=region, points=1000, seed=0, maxError=1\n",
    ")\n",
    "\n",
    "out_file_ice = \"{lake_id}_training_data.csv\"\n",
    "\n",
    "geemap.zonal_statistics(ice,\n",
    "                        lakes,\n",
    "                        out_file_ice, \n",
    "                        statistics_type='SUM', # no matter sum or other, same for points\n",
    "                        scale=500)"
   ]
  },
  {
   "cell_type": "code",
   "execution_count": null,
   "id": "6caab5d5-8ebd-433e-81a3-e054533373a9",
   "metadata": {},
   "outputs": [],
   "source": []
  },
  {
   "cell_type": "code",
   "execution_count": 12,
   "id": "21b2fa3b-1b12-4ca4-abdc-3dcc42b4066a",
   "metadata": {
    "tags": []
   },
   "outputs": [
    {
     "data": {
      "text/html": [
       "\n",
       "            <style>\n",
       "                .geemap-dark {\n",
       "                    --jp-widgets-color: white;\n",
       "                    --jp-widgets-label-color: white;\n",
       "                    --jp-ui-font-color1: white;\n",
       "                    --jp-layout-color2: #454545;\n",
       "                    background-color: #383838;\n",
       "                }\n",
       "\n",
       "                .geemap-dark .jupyter-button {\n",
       "                    --jp-layout-color3: #383838;\n",
       "                }\n",
       "\n",
       "                .geemap-colab {\n",
       "                    background-color: var(--colab-primary-surface-color, white);\n",
       "                }\n",
       "\n",
       "                .geemap-colab .jupyter-button {\n",
       "                    --jp-layout-color3: var(--colab-primary-surface-color, white);\n",
       "                }\n",
       "            </style>\n",
       "            "
      ],
      "text/plain": [
       "<IPython.core.display.HTML object>"
      ]
     },
     "metadata": {},
     "output_type": "display_data"
    },
    {
     "data": {
      "text/html": [
       "<div>\n",
       "<style scoped>\n",
       "    .dataframe tbody tr th:only-of-type {\n",
       "        vertical-align: middle;\n",
       "    }\n",
       "\n",
       "    .dataframe tbody tr th {\n",
       "        vertical-align: top;\n",
       "    }\n",
       "\n",
       "    .dataframe thead th {\n",
       "        text-align: right;\n",
       "    }\n",
       "</style>\n",
       "<table border=\"1\" class=\"dataframe\">\n",
       "  <thead>\n",
       "    <tr style=\"text-align: right;\">\n",
       "      <th></th>\n",
       "      <th>VH</th>\n",
       "      <th>VV_spf</th>\n",
       "      <th>angle</th>\n",
       "    </tr>\n",
       "  </thead>\n",
       "  <tbody>\n",
       "    <tr>\n",
       "      <th>0</th>\n",
       "      <td>-38.378636</td>\n",
       "      <td>-17.601433</td>\n",
       "      <td>43.996433</td>\n",
       "    </tr>\n",
       "    <tr>\n",
       "      <th>1</th>\n",
       "      <td>-31.934861</td>\n",
       "      <td>-19.539095</td>\n",
       "      <td>42.523235</td>\n",
       "    </tr>\n",
       "    <tr>\n",
       "      <th>2</th>\n",
       "      <td>-27.884636</td>\n",
       "      <td>-17.663347</td>\n",
       "      <td>43.226341</td>\n",
       "    </tr>\n",
       "    <tr>\n",
       "      <th>3</th>\n",
       "      <td>-30.898668</td>\n",
       "      <td>-16.056941</td>\n",
       "      <td>44.258106</td>\n",
       "    </tr>\n",
       "    <tr>\n",
       "      <th>4</th>\n",
       "      <td>-28.291745</td>\n",
       "      <td>-15.418497</td>\n",
       "      <td>44.288582</td>\n",
       "    </tr>\n",
       "    <tr>\n",
       "      <th>...</th>\n",
       "      <td>...</td>\n",
       "      <td>...</td>\n",
       "      <td>...</td>\n",
       "    </tr>\n",
       "    <tr>\n",
       "      <th>414</th>\n",
       "      <td>-23.037096</td>\n",
       "      <td>-13.416638</td>\n",
       "      <td>43.314133</td>\n",
       "    </tr>\n",
       "    <tr>\n",
       "      <th>415</th>\n",
       "      <td>-23.382047</td>\n",
       "      <td>-14.449697</td>\n",
       "      <td>43.031887</td>\n",
       "    </tr>\n",
       "    <tr>\n",
       "      <th>416</th>\n",
       "      <td>-35.287738</td>\n",
       "      <td>-15.281299</td>\n",
       "      <td>42.785072</td>\n",
       "    </tr>\n",
       "    <tr>\n",
       "      <th>417</th>\n",
       "      <td>-20.448513</td>\n",
       "      <td>-11.155962</td>\n",
       "      <td>44.297607</td>\n",
       "    </tr>\n",
       "    <tr>\n",
       "      <th>418</th>\n",
       "      <td>-23.688283</td>\n",
       "      <td>-9.490974</td>\n",
       "      <td>42.791264</td>\n",
       "    </tr>\n",
       "  </tbody>\n",
       "</table>\n",
       "<p>419 rows × 3 columns</p>\n",
       "</div>"
      ],
      "text/plain": [
       "            VH     VV_spf      angle\n",
       "0   -38.378636 -17.601433  43.996433\n",
       "1   -31.934861 -19.539095  42.523235\n",
       "2   -27.884636 -17.663347  43.226341\n",
       "3   -30.898668 -16.056941  44.258106\n",
       "4   -28.291745 -15.418497  44.288582\n",
       "..         ...        ...        ...\n",
       "414 -23.037096 -13.416638  43.314133\n",
       "415 -23.382047 -14.449697  43.031887\n",
       "416 -35.287738 -15.281299  42.785072\n",
       "417 -20.448513 -11.155962  44.297607\n",
       "418 -23.688283  -9.490974  42.791264\n",
       "\n",
       "[419 rows x 3 columns]"
      ]
     },
     "execution_count": 12,
     "metadata": {},
     "output_type": "execute_result"
    }
   ],
   "source": [
    "test_points"
   ]
  },
  {
   "cell_type": "code",
   "execution_count": null,
   "id": "752ebddd-4798-4565-9e29-cb1f9345f2b0",
   "metadata": {},
   "outputs": [],
   "source": []
  },
  {
   "cell_type": "code",
   "execution_count": null,
   "id": "7ed0c505-1954-4ed0-81a7-9b6ccbabc63d",
   "metadata": {},
   "outputs": [],
   "source": []
  },
  {
   "cell_type": "code",
   "execution_count": null,
   "id": "79a3f324-b9ee-4d15-a0cb-d4dcf3b2145b",
   "metadata": {},
   "outputs": [],
   "source": []
  },
  {
   "cell_type": "code",
   "execution_count": null,
   "id": "917fe55c-af63-45f8-8803-23812845b691",
   "metadata": {},
   "outputs": [],
   "source": []
  },
  {
   "cell_type": "code",
   "execution_count": 9,
   "id": "dcfb12be-dbba-4410-8f90-b8f660dafb31",
   "metadata": {},
   "outputs": [
    {
     "data": {
      "text/html": [
       "\n",
       "            <style>\n",
       "                .geemap-dark {\n",
       "                    --jp-widgets-color: white;\n",
       "                    --jp-widgets-label-color: white;\n",
       "                    --jp-ui-font-color1: white;\n",
       "                    --jp-layout-color2: #454545;\n",
       "                    background-color: #383838;\n",
       "                }\n",
       "\n",
       "                .geemap-dark .jupyter-button {\n",
       "                    --jp-layout-color3: #383838;\n",
       "                }\n",
       "\n",
       "                .geemap-colab {\n",
       "                    background-color: var(--colab-primary-surface-color, white);\n",
       "                }\n",
       "\n",
       "                .geemap-colab .jupyter-button {\n",
       "                    --jp-layout-color3: var(--colab-primary-surface-color, white);\n",
       "                }\n",
       "            </style>\n",
       "            "
      ],
      "text/plain": [
       "<IPython.core.display.HTML object>"
      ]
     },
     "metadata": {},
     "output_type": "display_data"
    }
   ],
   "source": [
    "lake_ids = [9086, 8000]"
   ]
  },
  {
   "cell_type": "code",
   "execution_count": 10,
   "id": "4f7f936f-f53e-4c6c-9d00-898453f88f06",
   "metadata": {
    "collapsed": true,
    "jupyter": {
     "outputs_hidden": true
    },
    "tags": []
   },
   "outputs": [
    {
     "data": {
      "text/html": [
       "\n",
       "            <style>\n",
       "                .geemap-dark {\n",
       "                    --jp-widgets-color: white;\n",
       "                    --jp-widgets-label-color: white;\n",
       "                    --jp-ui-font-color1: white;\n",
       "                    --jp-layout-color2: #454545;\n",
       "                    background-color: #383838;\n",
       "                }\n",
       "\n",
       "                .geemap-dark .jupyter-button {\n",
       "                    --jp-layout-color3: #383838;\n",
       "                }\n",
       "\n",
       "                .geemap-colab {\n",
       "                    background-color: var(--colab-primary-surface-color, white);\n",
       "                }\n",
       "\n",
       "                .geemap-colab .jupyter-button {\n",
       "                    --jp-layout-color3: var(--colab-primary-surface-color, white);\n",
       "                }\n",
       "            </style>\n",
       "            "
      ],
      "text/plain": [
       "<IPython.core.display.HTML object>"
      ]
     },
     "metadata": {},
     "output_type": "display_data"
    },
    {
     "name": "stdout",
     "output_type": "stream",
     "text": [
      "Downloading Sentinel-1 Image for 9086\n",
      "Total number of images: 21\n",
      "\n",
      "Downloading 1/21: S1A_IW_GRDH_1SDV_20190822T235738_20190822T235753_028689_033F46_24D9.tif\n"
     ]
    },
    {
     "data": {
      "application/vnd.jupyter.widget-view+json": {
       "model_id": "17f7552e29ac4827b53f2976aab224e1",
       "version_major": 2,
       "version_minor": 0
      },
      "text/plain": [
       "...0822T235738_20190822T235753_028689_033F46_24D9.tif: | | 0.00/14.8M (raw) [  0"
      ]
     },
     "metadata": {},
     "output_type": "display_data"
    },
    {
     "name": "stdout",
     "output_type": "stream",
     "text": [
      "Downloading 2/21: S1A_IW_GRDH_1SDV_20200218T235736_20200218T235752_031314_039A54_3248.tif\n"
     ]
    },
    {
     "data": {
      "application/vnd.jupyter.widget-view+json": {
       "model_id": "82d7f88387bf4582ab7ff7d16497a50e",
       "version_major": 2,
       "version_minor": 0
      },
      "text/plain": [
       "...0218T235736_20200218T235752_031314_039A54_3248.tif: | | 0.00/14.8M (raw) [  0"
      ]
     },
     "metadata": {},
     "output_type": "display_data"
    },
    {
     "name": "stdout",
     "output_type": "stream",
     "text": [
      "Downloading 3/21: S1A_IW_GRDH_1SDV_20200418T235737_20200418T235753_032189_03B8E9_98D7.tif\n"
     ]
    },
    {
     "data": {
      "application/vnd.jupyter.widget-view+json": {
       "model_id": "0bed135ffbd249628ab13fb04bbce321",
       "version_major": 2,
       "version_minor": 0
      },
      "text/plain": [
       "...0418T235737_20200418T235753_032189_03B8E9_98D7.tif: | | 0.00/14.8M (raw) [  0"
      ]
     },
     "metadata": {},
     "output_type": "display_data"
    },
    {
     "name": "stdout",
     "output_type": "stream",
     "text": [
      "Downloading 4/21: S1A_IW_GRDH_1SDV_20200617T235740_20200617T235756_033064_03D487_EBD7.tif\n"
     ]
    },
    {
     "data": {
      "application/vnd.jupyter.widget-view+json": {
       "model_id": "515f941df6f94d8486567d0d66f3c869",
       "version_major": 2,
       "version_minor": 0
      },
      "text/plain": [
       "...0617T235740_20200617T235756_033064_03D487_EBD7.tif: | | 0.00/14.8M (raw) [  0"
      ]
     },
     "metadata": {},
     "output_type": "display_data"
    },
    {
     "name": "stdout",
     "output_type": "stream",
     "text": [
      "Downloading 5/21: S1A_IW_GRDH_1SDV_20200816T235744_20200816T235800_033939_03EFF8_99A8.tif\n"
     ]
    },
    {
     "data": {
      "application/vnd.jupyter.widget-view+json": {
       "model_id": "738866a055e144de858873f66420b855",
       "version_major": 2,
       "version_minor": 0
      },
      "text/plain": [
       "...0816T235744_20200816T235800_033939_03EFF8_99A8.tif: | | 0.00/14.8M (raw) [  0"
      ]
     },
     "metadata": {},
     "output_type": "display_data"
    },
    {
     "name": "stdout",
     "output_type": "stream",
     "text": [
      "Downloading 6/21: S1A_IW_GRDH_1SDV_20201015T235735_20201015T235802_034814_040EBF_C30F.tif\n"
     ]
    },
    {
     "data": {
      "application/vnd.jupyter.widget-view+json": {
       "model_id": "dcf1fc785b2a4e3ead4cbd9eeb114d55",
       "version_major": 2,
       "version_minor": 0
      },
      "text/plain": [
       "...1015T235735_20201015T235802_034814_040EBF_C30F.tif: | | 0.00/14.8M (raw) [  0"
      ]
     },
     "metadata": {},
     "output_type": "display_data"
    },
    {
     "name": "stdout",
     "output_type": "stream",
     "text": [
      "Downloading 7/21: S1A_IW_GRDH_1SDV_20201214T235733_20201214T235800_035689_042CFA_E4D6.tif\n"
     ]
    },
    {
     "data": {
      "application/vnd.jupyter.widget-view+json": {
       "model_id": "36d19196f0ae48bba87ab7f3d49fb0f3",
       "version_major": 2,
       "version_minor": 0
      },
      "text/plain": [
       "...1214T235733_20201214T235800_035689_042CFA_E4D6.tif: | | 0.00/14.8M (raw) [  0"
      ]
     },
     "metadata": {},
     "output_type": "display_data"
    },
    {
     "name": "stdout",
     "output_type": "stream",
     "text": [
      "Downloading 8/21: S1A_IW_GRDH_1SDV_20210612T235735_20210612T235802_038314_048582_FAE0.tif\n"
     ]
    },
    {
     "data": {
      "application/vnd.jupyter.widget-view+json": {
       "model_id": "559cf848f61345f79ff18e2bca1accb3",
       "version_major": 2,
       "version_minor": 0
      },
      "text/plain": [
       "...0612T235735_20210612T235802_038314_048582_FAE0.tif: | | 0.00/14.8M (raw) [  0"
      ]
     },
     "metadata": {},
     "output_type": "display_data"
    },
    {
     "name": "stdout",
     "output_type": "stream",
     "text": [
      "Downloading 9/21: S1A_IW_GRDH_1SDV_20220207T235736_20220207T235803_041814_04FA23_848C.tif\n"
     ]
    },
    {
     "data": {
      "application/vnd.jupyter.widget-view+json": {
       "model_id": "7044434f848a46dd8be592b8c883aa97",
       "version_major": 2,
       "version_minor": 0
      },
      "text/plain": [
       "...0207T235736_20220207T235803_041814_04FA23_848C.tif: | | 0.00/14.8M (raw) [  0"
      ]
     },
     "metadata": {},
     "output_type": "display_data"
    },
    {
     "name": "stdout",
     "output_type": "stream",
     "text": [
      "Downloading 10/21: S1A_IW_GRDH_1SDV_20221204T235745_20221204T235810_046189_0587B9_17D3.tif\n"
     ]
    },
    {
     "data": {
      "application/vnd.jupyter.widget-view+json": {
       "model_id": "2c3105c6cbb24118b0104b8473f8ed9d",
       "version_major": 2,
       "version_minor": 0
      },
      "text/plain": [
       "...1204T235745_20221204T235810_046189_0587B9_17D3.tif: | | 0.00/14.8M (raw) [  0"
      ]
     },
     "metadata": {},
     "output_type": "display_data"
    },
    {
     "name": "stdout",
     "output_type": "stream",
     "text": [
      "Downloading 11/21: S1A_IW_GRDH_1SDV_20230202T235743_20230202T235808_047064_05A545_3443.tif\n"
     ]
    },
    {
     "data": {
      "application/vnd.jupyter.widget-view+json": {
       "model_id": "87423c1851b544d08c69ede449ac6f83",
       "version_major": 2,
       "version_minor": 0
      },
      "text/plain": [
       "...0202T235743_20230202T235808_047064_05A545_3443.tif: | | 0.00/14.8M (raw) [  0"
      ]
     },
     "metadata": {},
     "output_type": "display_data"
    },
    {
     "name": "stdout",
     "output_type": "stream",
     "text": [
      "Downloading 12/21: S1A_IW_GRDH_1SDV_20230602T235745_20230602T235818_048814_05DECC_E4DE.tif\n"
     ]
    },
    {
     "data": {
      "application/vnd.jupyter.widget-view+json": {
       "model_id": "04e42bafdbf6464db1f9deb3098c7655",
       "version_major": 2,
       "version_minor": 0
      },
      "text/plain": [
       "...0602T235745_20230602T235818_048814_05DECC_E4DE.tif: | | 0.00/14.8M (raw) [  0"
      ]
     },
     "metadata": {},
     "output_type": "display_data"
    },
    {
     "name": "stdout",
     "output_type": "stream",
     "text": [
      "Downloading 13/21: S1A_IW_GRDH_1SDV_20231129T235750_20231129T235815_051439_06353C_4529.tif\n"
     ]
    },
    {
     "data": {
      "application/vnd.jupyter.widget-view+json": {
       "model_id": "26729af0fe2242038d27ff8a81793ae9",
       "version_major": 2,
       "version_minor": 0
      },
      "text/plain": [
       "...1129T235750_20231129T235815_051439_06353C_4529.tif: | | 0.00/14.8M (raw) [  0"
      ]
     },
     "metadata": {},
     "output_type": "display_data"
    },
    {
     "name": "stdout",
     "output_type": "stream",
     "text": [
      "Downloading 14/21: S1A_IW_GRDH_1SDV_20240328T235748_20240328T235813_053189_0671D7_6BFA.tif\n"
     ]
    },
    {
     "data": {
      "application/vnd.jupyter.widget-view+json": {
       "model_id": "7a50e2f37feb486a9b8f9a3312e18f04",
       "version_major": 2,
       "version_minor": 0
      },
      "text/plain": [
       "...0328T235748_20240328T235813_053189_0671D7_6BFA.tif: | | 0.00/14.8M (raw) [  0"
      ]
     },
     "metadata": {},
     "output_type": "display_data"
    },
    {
     "name": "stdout",
     "output_type": "stream",
     "text": [
      "Downloading 15/21: S1B_IW_GRDH_1SDV_20190119T234842_20190119T234911_014570_01B249_2550.tif\n"
     ]
    },
    {
     "data": {
      "application/vnd.jupyter.widget-view+json": {
       "model_id": "892808482f404a3ca5e7d3066d927245",
       "version_major": 2,
       "version_minor": 0
      },
      "text/plain": [
       "...0119T234842_20190119T234911_014570_01B249_2550.tif: | | 0.00/14.4M (raw) [  0"
      ]
     },
     "metadata": {},
     "output_type": "display_data"
    },
    {
     "name": "stdout",
     "output_type": "stream",
     "text": [
      "Downloading 16/21: S1B_IW_GRDH_1SDV_20190916T234851_20190916T234920_018070_022047_8E7F.tif\n"
     ]
    },
    {
     "data": {
      "application/vnd.jupyter.widget-view+json": {
       "model_id": "053b95a627c4491a880625b5dc2549ec",
       "version_major": 2,
       "version_minor": 0
      },
      "text/plain": [
       "...0916T234851_20190916T234920_018070_022047_8E7F.tif: | | 0.00/14.4M (raw) [  0"
      ]
     },
     "metadata": {},
     "output_type": "display_data"
    },
    {
     "name": "stdout",
     "output_type": "stream",
     "text": [
      "Downloading 17/21: S1B_IW_GRDH_1SDV_20200513T234850_20200513T234919_021570_028F35_0B26.tif\n"
     ]
    },
    {
     "data": {
      "application/vnd.jupyter.widget-view+json": {
       "model_id": "847f603564cc49b9bb6c171e52f020b2",
       "version_major": 2,
       "version_minor": 0
      },
      "text/plain": [
       "...0513T234850_20200513T234919_021570_028F35_0B26.tif: | | 0.00/14.4M (raw) [  0"
      ]
     },
     "metadata": {},
     "output_type": "display_data"
    },
    {
     "name": "stdout",
     "output_type": "stream",
     "text": [
      "Downloading 18/21: S1B_IW_GRDH_1SDV_20200712T234851_20200712T234920_022445_02A993_672C.tif\n"
     ]
    },
    {
     "data": {
      "application/vnd.jupyter.widget-view+json": {
       "model_id": "6307012a893e484dbccf8c93c587d18d",
       "version_major": 2,
       "version_minor": 0
      },
      "text/plain": [
       "...0712T234851_20200712T234920_022445_02A993_672C.tif: | | 0.00/14.4M (raw) [  0"
      ]
     },
     "metadata": {},
     "output_type": "display_data"
    },
    {
     "name": "stdout",
     "output_type": "stream",
     "text": [
      "Downloading 19/21: S1B_IW_GRDH_1SDV_20201109T234855_20201109T234924_024195_02DFE3_87A4.tif\n"
     ]
    },
    {
     "data": {
      "application/vnd.jupyter.widget-view+json": {
       "model_id": "5e15c829ee1d4e7b8ea4f8e848ce1ffc",
       "version_major": 2,
       "version_minor": 0
      },
      "text/plain": [
       "...1109T234855_20201109T234924_024195_02DFE3_87A4.tif: | | 0.00/14.4M (raw) [  0"
      ]
     },
     "metadata": {},
     "output_type": "display_data"
    },
    {
     "name": "stdout",
     "output_type": "stream",
     "text": [
      "Downloading 20/21: S1B_IW_GRDH_1SDV_20210309T234851_20210309T234920_025945_031840_7EB7.tif\n"
     ]
    },
    {
     "data": {
      "application/vnd.jupyter.widget-view+json": {
       "model_id": "149d3c3c19134ad8a719dc8376133514",
       "version_major": 2,
       "version_minor": 0
      },
      "text/plain": [
       "...0309T234851_20210309T234920_025945_031840_7EB7.tif: | | 0.00/14.4M (raw) [  0"
      ]
     },
     "metadata": {},
     "output_type": "display_data"
    },
    {
     "name": "stdout",
     "output_type": "stream",
     "text": [
      "Downloading 21/21: S1B_IW_GRDH_1SDV_20210905T234900_20210905T234929_028570_0368CB_6ACE.tif\n"
     ]
    },
    {
     "data": {
      "application/vnd.jupyter.widget-view+json": {
       "model_id": "a0b756297da54a10ab9166a7ff5dd946",
       "version_major": 2,
       "version_minor": 0
      },
      "text/plain": [
       "...0905T234900_20210905T234929_028570_0368CB_6ACE.tif: | | 0.00/14.4M (raw) [  0"
      ]
     },
     "metadata": {},
     "output_type": "display_data"
    },
    {
     "name": "stdout",
     "output_type": "stream",
     "text": [
      "Downloading Sentinel-2 RGBS Image for 9086\n",
      "Total number of images: 38\n",
      "\n",
      "Downloading 1/38: 20190119T165629_20190119T165737_T15TYH.tif\n"
     ]
    },
    {
     "data": {
      "application/vnd.jupyter.widget-view+json": {
       "model_id": "be0447323714421f80923608e2376598",
       "version_major": 2,
       "version_minor": 0
      },
      "text/plain": [
       "20190119T165629_20190119T165737_T15TYH.tif: | | 0.00/19.8M (raw) [  0.0%] in 00:"
      ]
     },
     "metadata": {},
     "output_type": "display_data"
    },
    {
     "name": "stdout",
     "output_type": "stream",
     "text": [
      "Downloading 2/38: 20190822T164901_20190822T165839_T15TYH.tif\n"
     ]
    },
    {
     "data": {
      "application/vnd.jupyter.widget-view+json": {
       "model_id": "067e2c4ccd7a4bb283370d45b44b5c48",
       "version_major": 2,
       "version_minor": 0
      },
      "text/plain": [
       "20190822T164901_20190822T165839_T15TYH.tif: | | 0.00/19.8M (raw) [  0.0%] in 00:"
      ]
     },
     "metadata": {},
     "output_type": "display_data"
    },
    {
     "name": "stdout",
     "output_type": "stream",
     "text": [
      "Downloading 3/38: 20190822T164901_20190822T165839_T16TCN.tif\n"
     ]
    },
    {
     "data": {
      "application/vnd.jupyter.widget-view+json": {
       "model_id": "3f5e0c556f33496c93f21a5b8d30e259",
       "version_major": 2,
       "version_minor": 0
      },
      "text/plain": [
       "20190822T164901_20190822T165839_T16TCN.tif: | | 0.00/19.2M (raw) [  0.0%] in 00:"
      ]
     },
     "metadata": {},
     "output_type": "display_data"
    },
    {
     "name": "stdout",
     "output_type": "stream",
     "text": [
      "Downloading 4/38: 20190916T164929_20190916T165534_T15TYH.tif\n"
     ]
    },
    {
     "data": {
      "application/vnd.jupyter.widget-view+json": {
       "model_id": "20b146853c5e422e9920542b74c4da3b",
       "version_major": 2,
       "version_minor": 0
      },
      "text/plain": [
       "20190916T164929_20190916T165534_T15TYH.tif: | | 0.00/19.8M (raw) [  0.0%] in 00:"
      ]
     },
     "metadata": {},
     "output_type": "display_data"
    },
    {
     "name": "stdout",
     "output_type": "stream",
     "text": [
      "Downloading 5/38: 20190916T164929_20190916T165534_T16TCN.tif\n"
     ]
    },
    {
     "data": {
      "application/vnd.jupyter.widget-view+json": {
       "model_id": "0981a97318c84a93bc6b3d2ae1f87373",
       "version_major": 2,
       "version_minor": 0
      },
      "text/plain": [
       "20190916T164929_20190916T165534_T16TCN.tif: | | 0.00/19.2M (raw) [  0.0%] in 00:"
      ]
     },
     "metadata": {},
     "output_type": "display_data"
    },
    {
     "name": "stdout",
     "output_type": "stream",
     "text": [
      "Downloading 6/38: 20200218T165341_20200218T165337_T15TYH.tif\n"
     ]
    },
    {
     "data": {
      "application/vnd.jupyter.widget-view+json": {
       "model_id": "aadf13cc51f54218b267dacab2878544",
       "version_major": 2,
       "version_minor": 0
      },
      "text/plain": [
       "20200218T165341_20200218T165337_T15TYH.tif: | | 0.00/19.8M (raw) [  0.0%] in 00:"
      ]
     },
     "metadata": {},
     "output_type": "display_data"
    },
    {
     "name": "stdout",
     "output_type": "stream",
     "text": [
      "Downloading 7/38: 20200218T165341_20200218T165337_T16TCN.tif\n"
     ]
    },
    {
     "data": {
      "application/vnd.jupyter.widget-view+json": {
       "model_id": "b44815c88452474dbe3998625fe1c58c",
       "version_major": 2,
       "version_minor": 0
      },
      "text/plain": [
       "20200218T165341_20200218T165337_T16TCN.tif: | | 0.00/19.2M (raw) [  0.0%] in 00:"
      ]
     },
     "metadata": {},
     "output_type": "display_data"
    },
    {
     "name": "stdout",
     "output_type": "stream",
     "text": [
      "Downloading 8/38: 20200418T164901_20200418T165421_T15TYH.tif\n"
     ]
    },
    {
     "data": {
      "application/vnd.jupyter.widget-view+json": {
       "model_id": "c5c77a432ceb48299bd7dc3f9ad2c4e9",
       "version_major": 2,
       "version_minor": 0
      },
      "text/plain": [
       "20200418T164901_20200418T165421_T15TYH.tif: | | 0.00/19.8M (raw) [  0.0%] in 00:"
      ]
     },
     "metadata": {},
     "output_type": "display_data"
    },
    {
     "name": "stdout",
     "output_type": "stream",
     "text": [
      "Downloading 9/38: 20200418T164901_20200418T165421_T16TCN.tif\n"
     ]
    },
    {
     "data": {
      "application/vnd.jupyter.widget-view+json": {
       "model_id": "7d2cd540c70745208b36eca2b0cd9d10",
       "version_major": 2,
       "version_minor": 0
      },
      "text/plain": [
       "20200418T164901_20200418T165421_T16TCN.tif: | | 0.00/19.2M (raw) [  0.0%] in 00:"
      ]
     },
     "metadata": {},
     "output_type": "display_data"
    },
    {
     "name": "stdout",
     "output_type": "stream",
     "text": [
      "Downloading 10/38: 20200513T164839_20200513T170103_T15TYH.tif\n"
     ]
    },
    {
     "data": {
      "application/vnd.jupyter.widget-view+json": {
       "model_id": "ec16cbb3267b4bf1a18a6b74b883a42c",
       "version_major": 2,
       "version_minor": 0
      },
      "text/plain": [
       "20200513T164839_20200513T170103_T15TYH.tif: | | 0.00/19.8M (raw) [  0.0%] in 00:"
      ]
     },
     "metadata": {},
     "output_type": "display_data"
    },
    {
     "name": "stdout",
     "output_type": "stream",
     "text": [
      "Downloading 11/38: 20200513T164839_20200513T170103_T16TCN.tif\n"
     ]
    },
    {
     "data": {
      "application/vnd.jupyter.widget-view+json": {
       "model_id": "3561c007c49b476690082ef81b6af6ba",
       "version_major": 2,
       "version_minor": 0
      },
      "text/plain": [
       "20200513T164839_20200513T170103_T16TCN.tif: | | 0.00/19.2M (raw) [  0.0%] in 00:"
      ]
     },
     "metadata": {},
     "output_type": "display_data"
    },
    {
     "name": "stdout",
     "output_type": "stream",
     "text": [
      "Downloading 12/38: 20200617T164901_20200617T170013_T15TYH.tif\n"
     ]
    },
    {
     "data": {
      "application/vnd.jupyter.widget-view+json": {
       "model_id": "7fd8b7e37a15416495b8d96458beca77",
       "version_major": 2,
       "version_minor": 0
      },
      "text/plain": [
       "20200617T164901_20200617T170013_T15TYH.tif: | | 0.00/19.8M (raw) [  0.0%] in 00:"
      ]
     },
     "metadata": {},
     "output_type": "display_data"
    },
    {
     "name": "stdout",
     "output_type": "stream",
     "text": [
      "Downloading 13/38: 20200617T164901_20200617T170013_T16TCN.tif\n"
     ]
    },
    {
     "data": {
      "application/vnd.jupyter.widget-view+json": {
       "model_id": "c1ef1272b9d1462da28133de9304e461",
       "version_major": 2,
       "version_minor": 0
      },
      "text/plain": [
       "20200617T164901_20200617T170013_T16TCN.tif: | | 0.00/19.2M (raw) [  0.0%] in 00:"
      ]
     },
     "metadata": {},
     "output_type": "display_data"
    },
    {
     "name": "stdout",
     "output_type": "stream",
     "text": [
      "Downloading 14/38: 20200712T164849_20200712T165954_T15TYH.tif\n"
     ]
    },
    {
     "data": {
      "application/vnd.jupyter.widget-view+json": {
       "model_id": "cd9c3cd98dbe45e0aea0453b572a3f74",
       "version_major": 2,
       "version_minor": 0
      },
      "text/plain": [
       "20200712T164849_20200712T165954_T15TYH.tif: | | 0.00/19.8M (raw) [  0.0%] in 00:"
      ]
     },
     "metadata": {},
     "output_type": "display_data"
    },
    {
     "name": "stdout",
     "output_type": "stream",
     "text": [
      "Downloading 15/38: 20200816T164901_20200816T165817_T15TYH.tif\n"
     ]
    },
    {
     "data": {
      "application/vnd.jupyter.widget-view+json": {
       "model_id": "c96bd5cba423403195b60316f0009e5b",
       "version_major": 2,
       "version_minor": 0
      },
      "text/plain": [
       "20200816T164901_20200816T165817_T15TYH.tif: | | 0.00/19.8M (raw) [  0.0%] in 00:"
      ]
     },
     "metadata": {},
     "output_type": "display_data"
    },
    {
     "name": "stdout",
     "output_type": "stream",
     "text": [
      "Downloading 16/38: 20200816T164901_20200816T165817_T16TCN.tif\n"
     ]
    },
    {
     "data": {
      "application/vnd.jupyter.widget-view+json": {
       "model_id": "97b22d5309114c25abca0700d7ddd111",
       "version_major": 2,
       "version_minor": 0
      },
      "text/plain": [
       "20200816T164901_20200816T165817_T16TCN.tif: | | 0.00/19.2M (raw) [  0.0%] in 00:"
      ]
     },
     "metadata": {},
     "output_type": "display_data"
    },
    {
     "name": "stdout",
     "output_type": "stream",
     "text": [
      "Downloading 17/38: 20201015T165301_20201015T165905_T15TYH.tif\n"
     ]
    },
    {
     "data": {
      "application/vnd.jupyter.widget-view+json": {
       "model_id": "419162663dbd47a69441f77402884aee",
       "version_major": 2,
       "version_minor": 0
      },
      "text/plain": [
       "20201015T165301_20201015T165905_T15TYH.tif: | | 0.00/19.8M (raw) [  0.0%] in 00:"
      ]
     },
     "metadata": {},
     "output_type": "display_data"
    },
    {
     "name": "stdout",
     "output_type": "stream",
     "text": [
      "Downloading 18/38: 20201015T165301_20201015T165905_T16TCN.tif\n"
     ]
    },
    {
     "data": {
      "application/vnd.jupyter.widget-view+json": {
       "model_id": "8997ceb249584af49ce480691357f9c1",
       "version_major": 2,
       "version_minor": 0
      },
      "text/plain": [
       "20201015T165301_20201015T165905_T16TCN.tif: | | 0.00/19.2M (raw) [  0.0%] in 00:"
      ]
     },
     "metadata": {},
     "output_type": "display_data"
    },
    {
     "name": "stdout",
     "output_type": "stream",
     "text": [
      "Downloading 19/38: 20201109T165529_20201109T165858_T16TCN.tif\n"
     ]
    },
    {
     "data": {
      "application/vnd.jupyter.widget-view+json": {
       "model_id": "362eca7b487d48c0a6db53ae3bf327a6",
       "version_major": 2,
       "version_minor": 0
      },
      "text/plain": [
       "20201109T165529_20201109T165858_T16TCN.tif: | | 0.00/19.2M (raw) [  0.0%] in 00:"
      ]
     },
     "metadata": {},
     "output_type": "display_data"
    },
    {
     "name": "stdout",
     "output_type": "stream",
     "text": [
      "Downloading 20/38: 20201214T165711_20201214T165713_T15TYH.tif\n"
     ]
    },
    {
     "data": {
      "application/vnd.jupyter.widget-view+json": {
       "model_id": "531120286c204d408022cc9b3deebd6c",
       "version_major": 2,
       "version_minor": 0
      },
      "text/plain": [
       "20201214T165711_20201214T165713_T15TYH.tif: | | 0.00/19.8M (raw) [  0.0%] in 00:"
      ]
     },
     "metadata": {},
     "output_type": "display_data"
    },
    {
     "name": "stdout",
     "output_type": "stream",
     "text": [
      "Downloading 21/38: 20201214T165711_20201214T165713_T16TCN.tif\n"
     ]
    },
    {
     "data": {
      "application/vnd.jupyter.widget-view+json": {
       "model_id": "fd583b6eb9f04853a503565161743172",
       "version_major": 2,
       "version_minor": 0
      },
      "text/plain": [
       "20201214T165711_20201214T165713_T16TCN.tif: | | 0.00/19.2M (raw) [  0.0%] in 00:"
      ]
     },
     "metadata": {},
     "output_type": "display_data"
    },
    {
     "name": "stdout",
     "output_type": "stream",
     "text": [
      "Downloading 22/38: 20210309T165029_20210309T165838_T15TYH.tif\n"
     ]
    },
    {
     "data": {
      "application/vnd.jupyter.widget-view+json": {
       "model_id": "e2f77107f1a54ad2b67d48d645ea62cb",
       "version_major": 2,
       "version_minor": 0
      },
      "text/plain": [
       "20210309T165029_20210309T165838_T15TYH.tif: | | 0.00/19.8M (raw) [  0.0%] in 00:"
      ]
     },
     "metadata": {},
     "output_type": "display_data"
    },
    {
     "name": "stdout",
     "output_type": "stream",
     "text": [
      "Downloading 23/38: 20210612T164901_20210612T165359_T15TYH.tif\n"
     ]
    },
    {
     "data": {
      "application/vnd.jupyter.widget-view+json": {
       "model_id": "e6fd64810ac44dadbe9c113fc2612124",
       "version_major": 2,
       "version_minor": 0
      },
      "text/plain": [
       "20210612T164901_20210612T165359_T15TYH.tif: | | 0.00/19.8M (raw) [  0.0%] in 00:"
      ]
     },
     "metadata": {},
     "output_type": "display_data"
    },
    {
     "name": "stdout",
     "output_type": "stream",
     "text": [
      "Downloading 24/38: 20210612T164901_20210612T165359_T16TCN.tif\n"
     ]
    },
    {
     "data": {
      "application/vnd.jupyter.widget-view+json": {
       "model_id": "f603cfa9158f45f88e3322331bb48a9d",
       "version_major": 2,
       "version_minor": 0
      },
      "text/plain": [
       "20210612T164901_20210612T165359_T16TCN.tif: | | 0.00/19.2M (raw) [  0.0%] in 00:"
      ]
     },
     "metadata": {},
     "output_type": "display_data"
    },
    {
     "name": "stdout",
     "output_type": "stream",
     "text": [
      "Downloading 25/38: 20210905T164839_20210905T165613_T15TYH.tif\n"
     ]
    },
    {
     "data": {
      "application/vnd.jupyter.widget-view+json": {
       "model_id": "594a0bd9da3b44f0b80fd11233cc02bc",
       "version_major": 2,
       "version_minor": 0
      },
      "text/plain": [
       "20210905T164839_20210905T165613_T15TYH.tif: | | 0.00/19.8M (raw) [  0.0%] in 00:"
      ]
     },
     "metadata": {},
     "output_type": "display_data"
    },
    {
     "name": "stdout",
     "output_type": "stream",
     "text": [
      "Downloading 26/38: 20210905T164839_20210905T165613_T16TCN.tif\n"
     ]
    },
    {
     "data": {
      "application/vnd.jupyter.widget-view+json": {
       "model_id": "cf2ce9328caf48e8963159e19d013aee",
       "version_major": 2,
       "version_minor": 0
      },
      "text/plain": [
       "20210905T164839_20210905T165613_T16TCN.tif: | | 0.00/19.2M (raw) [  0.0%] in 00:"
      ]
     },
     "metadata": {},
     "output_type": "display_data"
    },
    {
     "name": "stdout",
     "output_type": "stream",
     "text": [
      "Downloading 27/38: 20220207T165451_20220207T165850_T15TYH.tif\n"
     ]
    },
    {
     "data": {
      "application/vnd.jupyter.widget-view+json": {
       "model_id": "fc4c7b367c0149ffa32a4dff45d7238b",
       "version_major": 2,
       "version_minor": 0
      },
      "text/plain": [
       "20220207T165451_20220207T165850_T15TYH.tif: | | 0.00/19.8M (raw) [  0.0%] in 00:"
      ]
     },
     "metadata": {},
     "output_type": "display_data"
    },
    {
     "name": "stdout",
     "output_type": "stream",
     "text": [
      "Downloading 28/38: 20221204T165701_20221204T165658_T15TYH.tif\n"
     ]
    },
    {
     "data": {
      "application/vnd.jupyter.widget-view+json": {
       "model_id": "f754dc9426f1403b8c84e4fe2278dcb0",
       "version_major": 2,
       "version_minor": 0
      },
      "text/plain": [
       "20221204T165701_20221204T165658_T15TYH.tif: | | 0.00/19.8M (raw) [  0.0%] in 00:"
      ]
     },
     "metadata": {},
     "output_type": "display_data"
    },
    {
     "name": "stdout",
     "output_type": "stream",
     "text": [
      "Downloading 29/38: 20221204T165701_20221204T165658_T16TCN.tif\n"
     ]
    },
    {
     "data": {
      "application/vnd.jupyter.widget-view+json": {
       "model_id": "ccd8d8602bac4cc4b104202ab6372e83",
       "version_major": 2,
       "version_minor": 0
      },
      "text/plain": [
       "20221204T165701_20221204T165658_T16TCN.tif: | | 0.00/19.2M (raw) [  0.0%] in 00:"
      ]
     },
     "metadata": {},
     "output_type": "display_data"
    },
    {
     "name": "stdout",
     "output_type": "stream",
     "text": [
      "Downloading 30/38: 20230202T165521_20230202T165721_T15TYH.tif\n"
     ]
    },
    {
     "data": {
      "application/vnd.jupyter.widget-view+json": {
       "model_id": "7bb54afcee354817939c61898c9919df",
       "version_major": 2,
       "version_minor": 0
      },
      "text/plain": [
       "20230202T165521_20230202T165721_T15TYH.tif: | | 0.00/19.8M (raw) [  0.0%] in 00:"
      ]
     },
     "metadata": {},
     "output_type": "display_data"
    },
    {
     "name": "stdout",
     "output_type": "stream",
     "text": [
      "Downloading 31/38: 20230202T165521_20230202T165721_T16TCN.tif\n"
     ]
    },
    {
     "data": {
      "application/vnd.jupyter.widget-view+json": {
       "model_id": "90e8acb8c9c3459796d5b9473bd46d36",
       "version_major": 2,
       "version_minor": 0
      },
      "text/plain": [
       "20230202T165521_20230202T165721_T16TCN.tif: | | 0.00/19.2M (raw) [  0.0%] in 00:"
      ]
     },
     "metadata": {},
     "output_type": "display_data"
    },
    {
     "name": "stdout",
     "output_type": "stream",
     "text": [
      "Downloading 32/38: 20230602T164841_20230602T164909_T15TYH.tif\n"
     ]
    },
    {
     "data": {
      "application/vnd.jupyter.widget-view+json": {
       "model_id": "d428a382665f455d97f2c714a979af49",
       "version_major": 2,
       "version_minor": 0
      },
      "text/plain": [
       "20230602T164841_20230602T164909_T15TYH.tif: | | 0.00/19.8M (raw) [  0.0%] in 00:"
      ]
     },
     "metadata": {},
     "output_type": "display_data"
    },
    {
     "name": "stdout",
     "output_type": "stream",
     "text": [
      "Downloading 33/38: 20231129T165631_20231129T165634_T15TYH.tif\n"
     ]
    },
    {
     "data": {
      "application/vnd.jupyter.widget-view+json": {
       "model_id": "a2e937c6e0c046678921a873bceaa6f3",
       "version_major": 2,
       "version_minor": 0
      },
      "text/plain": [
       "20231129T165631_20231129T165634_T15TYH.tif: | | 0.00/19.8M (raw) [  0.0%] in 00:"
      ]
     },
     "metadata": {},
     "output_type": "display_data"
    },
    {
     "name": "stdout",
     "output_type": "stream",
     "text": [
      "Downloading 34/38: 20231129T165631_20231129T165634_T16TCN.tif\n"
     ]
    },
    {
     "data": {
      "application/vnd.jupyter.widget-view+json": {
       "model_id": "258bd06339714fcf98b058c194546745",
       "version_major": 2,
       "version_minor": 0
      },
      "text/plain": [
       "20231129T165631_20231129T165634_T16TCN.tif: | | 0.00/19.2M (raw) [  0.0%] in 00:"
      ]
     },
     "metadata": {},
     "output_type": "display_data"
    },
    {
     "name": "stdout",
     "output_type": "stream",
     "text": [
      "Downloading 35/38: 20231129T165631_20231129T170126_T15TYH.tif\n"
     ]
    },
    {
     "data": {
      "application/vnd.jupyter.widget-view+json": {
       "model_id": "61767abe7b844c8eaec099712d04609f",
       "version_major": 2,
       "version_minor": 0
      },
      "text/plain": [
       "20231129T165631_20231129T170126_T15TYH.tif: | | 0.00/19.8M (raw) [  0.0%] in 00:"
      ]
     },
     "metadata": {},
     "output_type": "display_data"
    },
    {
     "name": "stdout",
     "output_type": "stream",
     "text": [
      "Downloading 36/38: 20231129T165631_20231129T170126_T16TCN.tif\n"
     ]
    },
    {
     "data": {
      "application/vnd.jupyter.widget-view+json": {
       "model_id": "9313a18e0cb34c0bb5132c1bcccb0cd2",
       "version_major": 2,
       "version_minor": 0
      },
      "text/plain": [
       "20231129T165631_20231129T170126_T16TCN.tif: | | 0.00/19.2M (raw) [  0.0%] in 00:"
      ]
     },
     "metadata": {},
     "output_type": "display_data"
    },
    {
     "name": "stdout",
     "output_type": "stream",
     "text": [
      "Downloading 37/38: 20240328T164911_20240328T165454_T15TYH.tif\n"
     ]
    },
    {
     "data": {
      "application/vnd.jupyter.widget-view+json": {
       "model_id": "7429e7a1e0474efe80c87cdb0d51a790",
       "version_major": 2,
       "version_minor": 0
      },
      "text/plain": [
       "20240328T164911_20240328T165454_T15TYH.tif: | | 0.00/19.8M (raw) [  0.0%] in 00:"
      ]
     },
     "metadata": {},
     "output_type": "display_data"
    },
    {
     "name": "stdout",
     "output_type": "stream",
     "text": [
      "Downloading 38/38: 20240328T164911_20240328T165454_T16TCN.tif\n"
     ]
    },
    {
     "data": {
      "application/vnd.jupyter.widget-view+json": {
       "model_id": "d1cffdbe0fa74353ae5e60701562b561",
       "version_major": 2,
       "version_minor": 0
      },
      "text/plain": [
       "20240328T164911_20240328T165454_T16TCN.tif: | | 0.00/19.2M (raw) [  0.0%] in 00:"
      ]
     },
     "metadata": {},
     "output_type": "display_data"
    },
    {
     "name": "stdout",
     "output_type": "stream",
     "text": [
      "Downloading Sentinel-1 Image for 8000\n",
      "Total number of images: 68\n",
      "\n",
      "Downloading 1/68: S1A_IW_GRDH_1SDV_20190119T133123_20190119T133152_025547_02D57A_66A0.tif\n"
     ]
    },
    {
     "data": {
      "application/vnd.jupyter.widget-view+json": {
       "model_id": "9dece2426a274a33bbe877122836d1f4",
       "version_major": 2,
       "version_minor": 0
      },
      "text/plain": [
       "...0119T133123_20190119T133152_025547_02D57A_66A0.tif: | | 0.00/3.42M (raw) [  0"
      ]
     },
     "metadata": {},
     "output_type": "display_data"
    },
    {
     "name": "stdout",
     "output_type": "stream",
     "text": [
      "Downloading 2/68: S1A_IW_GRDH_1SDV_20190320T133122_20190320T133151_026422_02F514_DECB.tif\n"
     ]
    },
    {
     "data": {
      "application/vnd.jupyter.widget-view+json": {
       "model_id": "15597349469b43d490794526cd6855d3",
       "version_major": 2,
       "version_minor": 0
      },
      "text/plain": [
       "...0320T133122_20190320T133151_026422_02F514_DECB.tif: | | 0.00/3.42M (raw) [  0"
      ]
     },
     "metadata": {},
     "output_type": "display_data"
    },
    {
     "name": "stdout",
     "output_type": "stream",
     "text": [
      "Downloading 3/68: S1A_IW_GRDH_1SDV_20190519T133124_20190519T133153_027297_031414_2589.tif\n"
     ]
    },
    {
     "data": {
      "application/vnd.jupyter.widget-view+json": {
       "model_id": "16795bc55eb54a639a5f998a169fe75e",
       "version_major": 2,
       "version_minor": 0
      },
      "text/plain": [
       "...0519T133124_20190519T133153_027297_031414_2589.tif: | | 0.00/3.42M (raw) [  0"
      ]
     },
     "metadata": {},
     "output_type": "display_data"
    },
    {
     "name": "stdout",
     "output_type": "stream",
     "text": [
      "Downloading 4/68: S1A_IW_GRDH_1SDV_20190730T133128_20190730T133158_028347_033405_DDEB.tif\n"
     ]
    },
    {
     "data": {
      "application/vnd.jupyter.widget-view+json": {
       "model_id": "ed022eb609b14d229ff532283b3a21e6",
       "version_major": 2,
       "version_minor": 0
      },
      "text/plain": [
       "...0730T133128_20190730T133158_028347_033405_DDEB.tif: | | 0.00/3.42M (raw) [  0"
      ]
     },
     "metadata": {},
     "output_type": "display_data"
    },
    {
     "name": "stdout",
     "output_type": "stream",
     "text": [
      "Downloading 5/68: S1A_IW_GRDH_1SDV_20200326T133129_20200326T133158_031847_03ACE7_CFC8.tif\n"
     ]
    },
    {
     "data": {
      "application/vnd.jupyter.widget-view+json": {
       "model_id": "2f843db4839e441d83f39a0853e7e9fa",
       "version_major": 2,
       "version_minor": 0
      },
      "text/plain": [
       "...0326T133129_20200326T133158_031847_03ACE7_CFC8.tif: | | 0.00/3.42M (raw) [  0"
      ]
     },
     "metadata": {},
     "output_type": "display_data"
    },
    {
     "name": "stdout",
     "output_type": "stream",
     "text": [
      "Downloading 6/68: S1A_IW_GRDH_1SDV_20200724T133135_20200724T133204_033597_03E4CE_AD6E.tif\n"
     ]
    },
    {
     "data": {
      "application/vnd.jupyter.widget-view+json": {
       "model_id": "35e81d694ca9411cb2969829e7ab9afe",
       "version_major": 2,
       "version_minor": 0
      },
      "text/plain": [
       "...0724T133135_20200724T133204_033597_03E4CE_AD6E.tif: | | 0.00/3.42M (raw) [  0"
      ]
     },
     "metadata": {},
     "output_type": "display_data"
    },
    {
     "name": "stdout",
     "output_type": "stream",
     "text": [
      "Downloading 7/68: S1A_IW_GRDH_1SDV_20200910T133137_20200910T133206_034297_03FC92_323D.tif\n"
     ]
    },
    {
     "data": {
      "application/vnd.jupyter.widget-view+json": {
       "model_id": "ec34bfad28e74669bbd7176631074bff",
       "version_major": 2,
       "version_minor": 0
      },
      "text/plain": [
       "...0910T133137_20200910T133206_034297_03FC92_323D.tif: | | 0.00/3.42M (raw) [  0"
      ]
     },
     "metadata": {},
     "output_type": "display_data"
    },
    {
     "name": "stdout",
     "output_type": "stream",
     "text": [
      "Downloading 8/68: S1A_IW_GRDH_1SDV_20201109T133138_20201109T133207_035172_041B20_DB70.tif\n"
     ]
    },
    {
     "data": {
      "application/vnd.jupyter.widget-view+json": {
       "model_id": "6161170e4b02444b82b16f4531aa41da",
       "version_major": 2,
       "version_minor": 0
      },
      "text/plain": [
       "...1109T133138_20201109T133207_035172_041B20_DB70.tif: | | 0.00/3.42M (raw) [  0"
      ]
     },
     "metadata": {},
     "output_type": "display_data"
    },
    {
     "name": "stdout",
     "output_type": "stream",
     "text": [
      "Downloading 9/68: S1A_IW_GRDH_1SDV_20201121T133138_20201121T133207_035347_04213A_1BC4.tif\n"
     ]
    },
    {
     "data": {
      "application/vnd.jupyter.widget-view+json": {
       "model_id": "47829b2b389a48dd802d575727e8b641",
       "version_major": 2,
       "version_minor": 0
      },
      "text/plain": [
       "...1121T133138_20201121T133207_035347_04213A_1BC4.tif: | | 0.00/3.42M (raw) [  0"
      ]
     },
     "metadata": {},
     "output_type": "display_data"
    },
    {
     "name": "stdout",
     "output_type": "stream",
     "text": [
      "Downloading 10/68: S1A_IW_GRDH_1SDV_20210108T133136_20210108T133205_036047_043970_426D.tif\n"
     ]
    },
    {
     "data": {
      "application/vnd.jupyter.widget-view+json": {
       "model_id": "b2308e8137b04514b2d2225bbdaa8e1a",
       "version_major": 2,
       "version_minor": 0
      },
      "text/plain": [
       "...0108T133136_20210108T133205_036047_043970_426D.tif: | | 0.00/3.42M (raw) [  0"
      ]
     },
     "metadata": {},
     "output_type": "display_data"
    },
    {
     "name": "stdout",
     "output_type": "stream",
     "text": [
      "Downloading 11/68: S1A_IW_GRDH_1SDV_20210120T133135_20210120T133204_036222_043F98_368C.tif\n"
     ]
    },
    {
     "data": {
      "application/vnd.jupyter.widget-view+json": {
       "model_id": "922c81ece11f45b6951e4b110be7befd",
       "version_major": 2,
       "version_minor": 0
      },
      "text/plain": [
       "...0120T133135_20210120T133204_036222_043F98_368C.tif: | | 0.00/3.41M (raw) [  0"
      ]
     },
     "metadata": {},
     "output_type": "display_data"
    },
    {
     "name": "stdout",
     "output_type": "stream",
     "text": [
      "Downloading 12/68: S1A_IW_GRDH_1SDV_20220316T133147_20220316T133212_042347_050C78_4FB7.tif\n"
     ]
    },
    {
     "data": {
      "application/vnd.jupyter.widget-view+json": {
       "model_id": "2e75cb937abf4164957978d2c565bb57",
       "version_major": 2,
       "version_minor": 0
      },
      "text/plain": [
       "...0316T133147_20220316T133212_042347_050C78_4FB7.tif: | | 0.00/3.42M (raw) [  0"
      ]
     },
     "metadata": {},
     "output_type": "display_data"
    },
    {
     "name": "stdout",
     "output_type": "stream",
     "text": [
      "Downloading 13/68: S1A_IW_GRDH_1SDV_20220714T133142_20220714T133207_044097_054382_53C7.tif\n"
     ]
    },
    {
     "data": {
      "application/vnd.jupyter.widget-view+json": {
       "model_id": "fccb9e60617348f6960789f82f5943a6",
       "version_major": 2,
       "version_minor": 0
      },
      "text/plain": [
       "...0714T133142_20220714T133207_044097_054382_53C7.tif: | | 0.00/3.42M (raw) [  0"
      ]
     },
     "metadata": {},
     "output_type": "display_data"
    },
    {
     "name": "stdout",
     "output_type": "stream",
     "text": [
      "Downloading 14/68: S1A_IW_GRDH_1SDV_20220719T133952_20220719T134017_044170_0545B0_1D1B.tif\n"
     ]
    },
    {
     "data": {
      "application/vnd.jupyter.widget-view+json": {
       "model_id": "c5fcce4e892645009c380899bf15418a",
       "version_major": 2,
       "version_minor": 0
      },
      "text/plain": [
       "...0719T133952_20220719T134017_044170_0545B0_1D1B.tif: | | 0.00/3.42M (raw) [  0"
      ]
     },
     "metadata": {},
     "output_type": "display_data"
    },
    {
     "name": "stdout",
     "output_type": "stream",
     "text": [
      "Downloading 15/68: S1A_IW_GRDH_1SDV_20220719T134017_20220719T134042_044170_0545B0_8BA9.tif\n"
     ]
    },
    {
     "data": {
      "application/vnd.jupyter.widget-view+json": {
       "model_id": "e009e22a24624b38925137d6d88b081a",
       "version_major": 2,
       "version_minor": 0
      },
      "text/plain": [
       "...0719T134017_20220719T134042_044170_0545B0_8BA9.tif: | | 0.00/3.42M (raw) [  0"
      ]
     },
     "metadata": {},
     "output_type": "display_data"
    },
    {
     "name": "stdout",
     "output_type": "stream",
     "text": [
      "Downloading 16/68: S1A_IW_GRDH_1SDV_20220905T133955_20220905T134020_044870_055BF1_6F26.tif\n"
     ]
    },
    {
     "data": {
      "application/vnd.jupyter.widget-view+json": {
       "model_id": "5a9d3aa4ebdd4a95a40d8c50fd8c348e",
       "version_major": 2,
       "version_minor": 0
      },
      "text/plain": [
       "...0905T133955_20220905T134020_044870_055BF1_6F26.tif: | | 0.00/3.42M (raw) [  0"
      ]
     },
     "metadata": {},
     "output_type": "display_data"
    },
    {
     "name": "stdout",
     "output_type": "stream",
     "text": [
      "Downloading 17/68: S1A_IW_GRDH_1SDV_20220905T134020_20220905T134045_044870_055BF1_4A50.tif\n"
     ]
    },
    {
     "data": {
      "application/vnd.jupyter.widget-view+json": {
       "model_id": "b77fbefde9744c19ae73d6bb418d476b",
       "version_major": 2,
       "version_minor": 0
      },
      "text/plain": [
       "...0905T134020_20220905T134045_044870_055BF1_4A50.tif: | | 0.00/3.42M (raw) [  0"
      ]
     },
     "metadata": {},
     "output_type": "display_data"
    },
    {
     "name": "stdout",
     "output_type": "stream",
     "text": [
      "Downloading 18/68: S1A_IW_GRDH_1SDV_20220912T133146_20220912T133211_044972_055F69_DDE4.tif\n"
     ]
    },
    {
     "data": {
      "application/vnd.jupyter.widget-view+json": {
       "model_id": "e7b44b6c11e84224999a1b05cc6caf2e",
       "version_major": 2,
       "version_minor": 0
      },
      "text/plain": [
       "...0912T133146_20220912T133211_044972_055F69_DDE4.tif: | | 0.00/3.42M (raw) [  0"
      ]
     },
     "metadata": {},
     "output_type": "display_data"
    },
    {
     "name": "stdout",
     "output_type": "stream",
     "text": [
      "Downloading 19/68: S1A_IW_GRDH_1SDV_20220917T133954_20220917T134019_045045_0561D4_7B30.tif\n"
     ]
    },
    {
     "data": {
      "application/vnd.jupyter.widget-view+json": {
       "model_id": "d36223eb58c44c018455c63be7e1d4e4",
       "version_major": 2,
       "version_minor": 0
      },
      "text/plain": [
       "...0917T133954_20220917T134019_045045_0561D4_7B30.tif: | | 0.00/3.42M (raw) [  0"
      ]
     },
     "metadata": {},
     "output_type": "display_data"
    },
    {
     "name": "stdout",
     "output_type": "stream",
     "text": [
      "Downloading 20/68: S1A_IW_GRDH_1SDV_20220917T134019_20220917T134044_045045_0561D4_47E5.tif\n"
     ]
    },
    {
     "data": {
      "application/vnd.jupyter.widget-view+json": {
       "model_id": "f634762c2b884edfac95ac855461417c",
       "version_major": 2,
       "version_minor": 0
      },
      "text/plain": [
       "...0917T134019_20220917T134044_045045_0561D4_47E5.tif: | | 0.00/3.42M (raw) [  0"
      ]
     },
     "metadata": {},
     "output_type": "display_data"
    },
    {
     "name": "stdout",
     "output_type": "stream",
     "text": [
      "Downloading 21/68: S1A_IW_GRDH_1SDV_20221111T133146_20221111T133211_045847_057C2C_6ED7.tif\n"
     ]
    },
    {
     "data": {
      "application/vnd.jupyter.widget-view+json": {
       "model_id": "68fb593c81434f87ae1876da5fff0f70",
       "version_major": 2,
       "version_minor": 0
      },
      "text/plain": [
       "...1111T133146_20221111T133211_045847_057C2C_6ED7.tif: | | 0.00/3.42M (raw) [  0"
      ]
     },
     "metadata": {},
     "output_type": "display_data"
    },
    {
     "name": "stdout",
     "output_type": "stream",
     "text": [
      "Downloading 22/68: S1A_IW_GRDH_1SDV_20230103T133952_20230103T134017_046620_059664_FDFD.tif\n"
     ]
    },
    {
     "data": {
      "application/vnd.jupyter.widget-view+json": {
       "model_id": "8913a88502f2493688e64a9367c192fe",
       "version_major": 2,
       "version_minor": 0
      },
      "text/plain": [
       "...0103T133952_20230103T134017_046620_059664_FDFD.tif: | | 0.00/3.42M (raw) [  0"
      ]
     },
     "metadata": {},
     "output_type": "display_data"
    },
    {
     "name": "stdout",
     "output_type": "stream",
     "text": [
      "Downloading 23/68: S1A_IW_GRDH_1SDV_20230103T134017_20230103T134042_046620_059664_7056.tif\n"
     ]
    },
    {
     "data": {
      "application/vnd.jupyter.widget-view+json": {
       "model_id": "d1bb2efc244941e793d7e36dc48c5c6f",
       "version_major": 2,
       "version_minor": 0
      },
      "text/plain": [
       "...0103T134017_20230103T134042_046620_059664_7056.tif: | | 0.00/3.42M (raw) [  0"
      ]
     },
     "metadata": {},
     "output_type": "display_data"
    },
    {
     "name": "stdout",
     "output_type": "stream",
     "text": [
      "Downloading 24/68: S1A_IW_GRDH_1SDV_20230110T133143_20230110T133208_046722_0599DA_14D3.tif\n"
     ]
    },
    {
     "data": {
      "application/vnd.jupyter.widget-view+json": {
       "model_id": "5e131268f85f4963a69f035fb6d30553",
       "version_major": 2,
       "version_minor": 0
      },
      "text/plain": [
       "...0110T133143_20230110T133208_046722_0599DA_14D3.tif: | | 0.00/3.42M (raw) [  0"
      ]
     },
     "metadata": {},
     "output_type": "display_data"
    },
    {
     "name": "stdout",
     "output_type": "stream",
     "text": [
      "Downloading 25/68: S1A_IW_GRDH_1SDV_20230304T133951_20230304T134016_047495_05B3DD_F9D2.tif\n"
     ]
    },
    {
     "data": {
      "application/vnd.jupyter.widget-view+json": {
       "model_id": "4da1cfa37ae445fd97b18624a01caabb",
       "version_major": 2,
       "version_minor": 0
      },
      "text/plain": [
       "...0304T133951_20230304T134016_047495_05B3DD_F9D2.tif: | | 0.00/3.42M (raw) [  0"
      ]
     },
     "metadata": {},
     "output_type": "display_data"
    },
    {
     "name": "stdout",
     "output_type": "stream",
     "text": [
      "Downloading 26/68: S1A_IW_GRDH_1SDV_20230304T134016_20230304T134041_047495_05B3DD_138A.tif\n"
     ]
    },
    {
     "data": {
      "application/vnd.jupyter.widget-view+json": {
       "model_id": "58b75d5015fc4e6e9f5040db08d36e79",
       "version_major": 2,
       "version_minor": 0
      },
      "text/plain": [
       "...0304T134016_20230304T134041_047495_05B3DD_138A.tif: | | 0.00/3.42M (raw) [  0"
      ]
     },
     "metadata": {},
     "output_type": "display_data"
    },
    {
     "name": "stdout",
     "output_type": "stream",
     "text": [
      "Downloading 27/68: S1A_IW_GRDH_1SDV_20230311T133142_20230311T133207_047597_05B75A_2CB4.tif\n"
     ]
    },
    {
     "data": {
      "application/vnd.jupyter.widget-view+json": {
       "model_id": "7f1dd48c4d9e4c2ab599b8aa4a6a7c45",
       "version_major": 2,
       "version_minor": 0
      },
      "text/plain": [
       "...0311T133142_20230311T133207_047597_05B75A_2CB4.tif: | | 0.00/3.42M (raw) [  0"
      ]
     },
     "metadata": {},
     "output_type": "display_data"
    },
    {
     "name": "stdout",
     "output_type": "stream",
     "text": [
      "Downloading 28/68: S1A_IW_GRDH_1SDV_20230316T133950_20230316T134015_047670_05B9C5_B6E2.tif\n"
     ]
    },
    {
     "data": {
      "application/vnd.jupyter.widget-view+json": {
       "model_id": "aea2e1e467f247cd9228bd995948a706",
       "version_major": 2,
       "version_minor": 0
      },
      "text/plain": [
       "...0316T133950_20230316T134015_047670_05B9C5_B6E2.tif: | | 0.00/3.42M (raw) [  0"
      ]
     },
     "metadata": {},
     "output_type": "display_data"
    },
    {
     "name": "stdout",
     "output_type": "stream",
     "text": [
      "Downloading 29/68: S1A_IW_GRDH_1SDV_20230316T134015_20230316T134040_047670_05B9C5_5E9C.tif\n"
     ]
    },
    {
     "data": {
      "application/vnd.jupyter.widget-view+json": {
       "model_id": "461a61d0829345cab9b9a6b9c5599ee7",
       "version_major": 2,
       "version_minor": 0
      },
      "text/plain": [
       "...0316T134015_20230316T134040_047670_05B9C5_5E9C.tif: | | 0.00/3.42M (raw) [  0"
      ]
     },
     "metadata": {},
     "output_type": "display_data"
    },
    {
     "name": "stdout",
     "output_type": "stream",
     "text": [
      "Downloading 30/68: S1A_IW_GRDH_1SDV_20230515T133953_20230515T134018_048545_05D6D1_26D3.tif\n"
     ]
    },
    {
     "data": {
      "application/vnd.jupyter.widget-view+json": {
       "model_id": "f244667d29344f42afc5341aec4c3059",
       "version_major": 2,
       "version_minor": 0
      },
      "text/plain": [
       "...0515T133953_20230515T134018_048545_05D6D1_26D3.tif: | | 0.00/3.42M (raw) [  0"
      ]
     },
     "metadata": {},
     "output_type": "display_data"
    },
    {
     "name": "stdout",
     "output_type": "stream",
     "text": [
      "Downloading 31/68: S1A_IW_GRDH_1SDV_20230515T134018_20230515T134043_048545_05D6D1_26C0.tif\n"
     ]
    },
    {
     "data": {
      "application/vnd.jupyter.widget-view+json": {
       "model_id": "7368ad2e2b7e43928e5f5b66553636e3",
       "version_major": 2,
       "version_minor": 0
      },
      "text/plain": [
       "...0515T134018_20230515T134043_048545_05D6D1_26C0.tif: | | 0.00/3.41M (raw) [  0"
      ]
     },
     "metadata": {},
     "output_type": "display_data"
    },
    {
     "name": "stdout",
     "output_type": "stream",
     "text": [
      "Downloading 32/68: S1A_IW_GRDH_1SDV_20230627T133146_20230627T133211_049172_05E9BF_E533.tif\n"
     ]
    },
    {
     "data": {
      "application/vnd.jupyter.widget-view+json": {
       "model_id": "db53b39f8e5b45b1a7f1a4c80c51ae6b",
       "version_major": 2,
       "version_minor": 0
      },
      "text/plain": [
       "...0627T133146_20230627T133211_049172_05E9BF_E533.tif: | | 0.00/3.42M (raw) [  0"
      ]
     },
     "metadata": {},
     "output_type": "display_data"
    },
    {
     "name": "stdout",
     "output_type": "stream",
     "text": [
      "Downloading 33/68: S1A_IW_GRDH_1SDV_20230702T133955_20230702T134020_049245_05EBEA_82DD.tif\n"
     ]
    },
    {
     "data": {
      "application/vnd.jupyter.widget-view+json": {
       "model_id": "63932bf5d9be4e148e3d255193cf4e5d",
       "version_major": 2,
       "version_minor": 0
      },
      "text/plain": [
       "...0702T133955_20230702T134020_049245_05EBEA_82DD.tif: | | 0.00/3.42M (raw) [  0"
      ]
     },
     "metadata": {},
     "output_type": "display_data"
    },
    {
     "name": "stdout",
     "output_type": "stream",
     "text": [
      "Downloading 34/68: S1A_IW_GRDH_1SDV_20230702T134020_20230702T134045_049245_05EBEA_8C20.tif\n"
     ]
    },
    {
     "data": {
      "application/vnd.jupyter.widget-view+json": {
       "model_id": "fa54d3b02352492fb8c57152f6c6ff04",
       "version_major": 2,
       "version_minor": 0
      },
      "text/plain": [
       "...0702T134020_20230702T134045_049245_05EBEA_8C20.tif: | | 0.00/3.42M (raw) [  0"
      ]
     },
     "metadata": {},
     "output_type": "display_data"
    },
    {
     "name": "stdout",
     "output_type": "stream",
     "text": [
      "Downloading 35/68: S1A_IW_GRDH_1SDV_20230709T133147_20230709T133212_049347_05EF23_FAC5.tif\n"
     ]
    },
    {
     "data": {
      "application/vnd.jupyter.widget-view+json": {
       "model_id": "593d595fdc194c12bc377a1982dcdcbd",
       "version_major": 2,
       "version_minor": 0
      },
      "text/plain": [
       "...0709T133147_20230709T133212_049347_05EF23_FAC5.tif: | | 0.00/3.42M (raw) [  0"
      ]
     },
     "metadata": {},
     "output_type": "display_data"
    },
    {
     "name": "stdout",
     "output_type": "stream",
     "text": [
      "Downloading 36/68: S1A_IW_GRDH_1SDV_20230826T133150_20230826T133215_050047_06059B_38FD.tif\n"
     ]
    },
    {
     "data": {
      "application/vnd.jupyter.widget-view+json": {
       "model_id": "fa2c00f5c7b3481dbbc7b5723996abf8",
       "version_major": 2,
       "version_minor": 0
      },
      "text/plain": [
       "...0826T133150_20230826T133215_050047_06059B_38FD.tif: | | 0.00/3.42M (raw) [  0"
      ]
     },
     "metadata": {},
     "output_type": "display_data"
    },
    {
     "name": "stdout",
     "output_type": "stream",
     "text": [
      "Downloading 37/68: S1A_IW_GRDH_1SDV_20230907T133150_20230907T133215_050222_060B8B_2F03.tif\n"
     ]
    },
    {
     "data": {
      "application/vnd.jupyter.widget-view+json": {
       "model_id": "5caf0ddf436441a4bbfbcfde9166ae8b",
       "version_major": 2,
       "version_minor": 0
      },
      "text/plain": [
       "...0907T133150_20230907T133215_050222_060B8B_2F03.tif: | | 0.00/3.42M (raw) [  0"
      ]
     },
     "metadata": {},
     "output_type": "display_data"
    },
    {
     "name": "stdout",
     "output_type": "stream",
     "text": [
      "Downloading 38/68: S1A_IW_GRDH_1SDV_20231224T133149_20231224T133214_051797_0641B9_FCF4.tif\n"
     ]
    },
    {
     "data": {
      "application/vnd.jupyter.widget-view+json": {
       "model_id": "a25c43281c744367a324428914f88d0a",
       "version_major": 2,
       "version_minor": 0
      },
      "text/plain": [
       "...1224T133149_20231224T133214_051797_0641B9_FCF4.tif: | | 0.00/3.42M (raw) [  0"
      ]
     },
     "metadata": {},
     "output_type": "display_data"
    },
    {
     "name": "stdout",
     "output_type": "stream",
     "text": [
      "Downloading 39/68: S1A_IW_GRDH_1SDV_20231229T133957_20231229T134022_051870_064437_7B86.tif\n"
     ]
    },
    {
     "data": {
      "application/vnd.jupyter.widget-view+json": {
       "model_id": "333a40c13791472a82ba5e807f15b755",
       "version_major": 2,
       "version_minor": 0
      },
      "text/plain": [
       "...1229T133957_20231229T134022_051870_064437_7B86.tif: | | 0.00/3.42M (raw) [  0"
      ]
     },
     "metadata": {},
     "output_type": "display_data"
    },
    {
     "name": "stdout",
     "output_type": "stream",
     "text": [
      "Downloading 40/68: S1A_IW_GRDH_1SDV_20231229T134022_20231229T134047_051870_064437_8EE0.tif\n"
     ]
    },
    {
     "data": {
      "application/vnd.jupyter.widget-view+json": {
       "model_id": "1e6ee14a4cd44eda80453fb27ad661d3",
       "version_major": 2,
       "version_minor": 0
      },
      "text/plain": [
       "...1229T134022_20231229T134047_051870_064437_8EE0.tif: | | 0.00/3.42M (raw) [  0"
      ]
     },
     "metadata": {},
     "output_type": "display_data"
    },
    {
     "name": "stdout",
     "output_type": "stream",
     "text": [
      "Downloading 41/68: S1A_IW_GRDH_1SDV_20240105T133148_20240105T133213_051972_0647B8_2CC0.tif\n"
     ]
    },
    {
     "data": {
      "application/vnd.jupyter.widget-view+json": {
       "model_id": "c16305d78c694bb7845ca64979327504",
       "version_major": 2,
       "version_minor": 0
      },
      "text/plain": [
       "...0105T133148_20240105T133213_051972_0647B8_2CC0.tif: | | 0.00/3.42M (raw) [  0"
      ]
     },
     "metadata": {},
     "output_type": "display_data"
    },
    {
     "name": "stdout",
     "output_type": "stream",
     "text": [
      "Downloading 42/68: S1A_IW_GRDH_1SDV_20240509T133957_20240509T134022_053795_068985_43AE.tif\n"
     ]
    },
    {
     "data": {
      "application/vnd.jupyter.widget-view+json": {
       "model_id": "c473df4195bc4778a589b22b3ce07e2f",
       "version_major": 2,
       "version_minor": 0
      },
      "text/plain": [
       "...0509T133957_20240509T134022_053795_068985_43AE.tif: | | 0.00/3.42M (raw) [  0"
      ]
     },
     "metadata": {},
     "output_type": "display_data"
    },
    {
     "name": "stdout",
     "output_type": "stream",
     "text": [
      "Downloading 43/68: S1A_IW_GRDH_1SDV_20240509T134022_20240509T134047_053795_068985_7C23.tif\n"
     ]
    },
    {
     "data": {
      "application/vnd.jupyter.widget-view+json": {
       "model_id": "ac700d91add5407d8c4234eb25243931",
       "version_major": 2,
       "version_minor": 0
      },
      "text/plain": [
       "...0509T134022_20240509T134047_053795_068985_7C23.tif: | | 0.00/3.42M (raw) [  0"
      ]
     },
     "metadata": {},
     "output_type": "display_data"
    },
    {
     "name": "stdout",
     "output_type": "stream",
     "text": [
      "Downloading 44/68: S1A_IW_GRDH_1SDV_20240621T133147_20240621T133212_054422_069F36_3995.tif\n"
     ]
    },
    {
     "data": {
      "application/vnd.jupyter.widget-view+json": {
       "model_id": "a35a3218d65740cba25217e3a34cce9e",
       "version_major": 2,
       "version_minor": 0
      },
      "text/plain": [
       "...0621T133147_20240621T133212_054422_069F36_3995.tif: | | 0.00/3.42M (raw) [  0"
      ]
     },
     "metadata": {},
     "output_type": "display_data"
    },
    {
     "name": "stdout",
     "output_type": "stream",
     "text": [
      "Downloading 45/68: S1A_IW_GRDH_1SDV_20240626T133956_20240626T134021_054495_06A1B9_7C57.tif\n"
     ]
    },
    {
     "data": {
      "application/vnd.jupyter.widget-view+json": {
       "model_id": "01e5b947f44e4559a254ec6ec96801cc",
       "version_major": 2,
       "version_minor": 0
      },
      "text/plain": [
       "...0626T133956_20240626T134021_054495_06A1B9_7C57.tif: | | 0.00/3.42M (raw) [  0"
      ]
     },
     "metadata": {},
     "output_type": "display_data"
    },
    {
     "name": "stdout",
     "output_type": "stream",
     "text": [
      "Downloading 46/68: S1A_IW_GRDH_1SDV_20240626T134021_20240626T134046_054495_06A1B9_2529.tif\n"
     ]
    },
    {
     "data": {
      "application/vnd.jupyter.widget-view+json": {
       "model_id": "91436d6900be4f5daec46ebb6136fa13",
       "version_major": 2,
       "version_minor": 0
      },
      "text/plain": [
       "...0626T134021_20240626T134046_054495_06A1B9_2529.tif: | | 0.00/3.42M (raw) [  0"
      ]
     },
     "metadata": {},
     "output_type": "display_data"
    },
    {
     "name": "stdout",
     "output_type": "stream",
     "text": [
      "Downloading 47/68: S1B_IW_GRDH_1SDV_20190307T133908_20190307T133933_015249_01C885_788D.tif\n"
     ]
    },
    {
     "data": {
      "application/vnd.jupyter.widget-view+json": {
       "model_id": "d528fafd95864e6db5a4921eb3f72481",
       "version_major": 2,
       "version_minor": 0
      },
      "text/plain": [
       "...0307T133908_20190307T133933_015249_01C885_788D.tif: | | 0.00/3.42M (raw) [  0"
      ]
     },
     "metadata": {},
     "output_type": "display_data"
    },
    {
     "name": "stdout",
     "output_type": "stream",
     "text": [
      "Downloading 48/68: S1B_IW_GRDH_1SDV_20190311T011226_20190311T011251_015300_01CA28_0B04.tif\n"
     ]
    },
    {
     "data": {
      "application/vnd.jupyter.widget-view+json": {
       "model_id": "0a225ca62551474a92928ab5994521c2",
       "version_major": 2,
       "version_minor": 0
      },
      "text/plain": [
       "...0311T011226_20190311T011251_015300_01CA28_0B04.tif: | | 0.00/3.42M (raw) [  0"
      ]
     },
     "metadata": {},
     "output_type": "display_data"
    },
    {
     "name": "stdout",
     "output_type": "stream",
     "text": [
      "Downloading 49/68: S1B_IW_GRDH_1SDV_20190323T011226_20190323T011251_015475_01CFCB_8C73.tif\n"
     ]
    },
    {
     "data": {
      "application/vnd.jupyter.widget-view+json": {
       "model_id": "c763f7e95e674c49a889e432483057e4",
       "version_major": 2,
       "version_minor": 0
      },
      "text/plain": [
       "...0323T011226_20190323T011251_015475_01CFCB_8C73.tif: | | 0.00/3.42M (raw) [  0"
      ]
     },
     "metadata": {},
     "output_type": "display_data"
    },
    {
     "name": "stdout",
     "output_type": "stream",
     "text": [
      "Downloading 50/68: S1B_IW_GRDH_1SDV_20190903T133916_20190903T133941_017874_021A34_3E18.tif\n"
     ]
    },
    {
     "data": {
      "application/vnd.jupyter.widget-view+json": {
       "model_id": "0ac2d4db4c27404a82721af053ae5001",
       "version_major": 2,
       "version_minor": 0
      },
      "text/plain": [
       "...0903T133916_20190903T133941_017874_021A34_3E18.tif: | | 0.00/3.42M (raw) [  0"
      ]
     },
     "metadata": {},
     "output_type": "display_data"
    },
    {
     "name": "stdout",
     "output_type": "stream",
     "text": [
      "Downloading 51/68: S1B_IW_GRDH_1SDV_20190919T011235_20190919T011300_018100_022143_3D07.tif\n"
     ]
    },
    {
     "data": {
      "application/vnd.jupyter.widget-view+json": {
       "model_id": "d7fa154266c44c299e9ab29ae65c44a2",
       "version_major": 2,
       "version_minor": 0
      },
      "text/plain": [
       "...0919T011235_20190919T011300_018100_022143_3D07.tif: | | 0.00/3.42M (raw) [  0"
      ]
     },
     "metadata": {},
     "output_type": "display_data"
    },
    {
     "name": "stdout",
     "output_type": "stream",
     "text": [
      "Downloading 52/68: S1B_IW_GRDH_1SDV_20191021T133918_20191021T133943_018574_022FEF_6A2E.tif\n"
     ]
    },
    {
     "data": {
      "application/vnd.jupyter.widget-view+json": {
       "model_id": "6fc31a2e86014c81aa5a6eb52cf79f1e",
       "version_major": 2,
       "version_minor": 0
      },
      "text/plain": [
       "...1021T133918_20191021T133943_018574_022FEF_6A2E.tif: | | 0.00/3.42M (raw) [  0"
      ]
     },
     "metadata": {},
     "output_type": "display_data"
    },
    {
     "name": "stdout",
     "output_type": "stream",
     "text": [
      "Downloading 53/68: S1B_IW_GRDH_1SDV_20191118T011235_20191118T011300_018975_023CC1_15F1.tif\n"
     ]
    },
    {
     "data": {
      "application/vnd.jupyter.widget-view+json": {
       "model_id": "13543954637741e1a9363286068a0801",
       "version_major": 2,
       "version_minor": 0
      },
      "text/plain": [
       "...1118T011235_20191118T011300_018975_023CC1_15F1.tif: | | 0.00/3.42M (raw) [  0"
      ]
     },
     "metadata": {},
     "output_type": "display_data"
    },
    {
     "name": "stdout",
     "output_type": "stream",
     "text": [
      "Downloading 54/68: S1B_IW_GRDH_1SDV_20200317T011232_20200317T011257_020725_0274A1_9321.tif\n"
     ]
    },
    {
     "data": {
      "application/vnd.jupyter.widget-view+json": {
       "model_id": "44be8f55900949778ef7f7622eaf7ffa",
       "version_major": 2,
       "version_minor": 0
      },
      "text/plain": [
       "...0317T011232_20200317T011257_020725_0274A1_9321.tif: | | 0.00/3.42M (raw) [  0"
      ]
     },
     "metadata": {},
     "output_type": "display_data"
    },
    {
     "name": "stdout",
     "output_type": "stream",
     "text": [
      "Downloading 55/68: S1B_IW_GRDH_1SDV_20200715T011238_20200715T011303_022475_02AA7E_9E97.tif\n"
     ]
    },
    {
     "data": {
      "application/vnd.jupyter.widget-view+json": {
       "model_id": "c7f1df9be65643818fbba9015f83d96f",
       "version_major": 2,
       "version_minor": 0
      },
      "text/plain": [
       "...0715T011238_20200715T011303_022475_02AA7E_9E97.tif: | | 0.00/3.42M (raw) [  0"
      ]
     },
     "metadata": {},
     "output_type": "display_data"
    },
    {
     "name": "stdout",
     "output_type": "stream",
     "text": [
      "Downloading 56/68: S1B_IW_GRDH_1SDV_20200816T133922_20200816T133947_022949_02B8FC_C1F2.tif\n"
     ]
    },
    {
     "data": {
      "application/vnd.jupyter.widget-view+json": {
       "model_id": "21238e2cdb8a4fc59bd3d189e5a00bf7",
       "version_major": 2,
       "version_minor": 0
      },
      "text/plain": [
       "...0816T133922_20200816T133947_022949_02B8FC_C1F2.tif: | | 0.00/3.42M (raw) [  0"
      ]
     },
     "metadata": {},
     "output_type": "display_data"
    },
    {
     "name": "stdout",
     "output_type": "stream",
     "text": [
      "Downloading 57/68: S1B_IW_GRDH_1SDV_20200828T133923_20200828T133948_023124_02BE7E_428B.tif\n"
     ]
    },
    {
     "data": {
      "application/vnd.jupyter.widget-view+json": {
       "model_id": "3b82422ede8840baba9eaad7e18d63fd",
       "version_major": 2,
       "version_minor": 0
      },
      "text/plain": [
       "...0828T133923_20200828T133948_023124_02BE7E_428B.tif: | | 0.00/3.42M (raw) [  0"
      ]
     },
     "metadata": {},
     "output_type": "display_data"
    },
    {
     "name": "stdout",
     "output_type": "stream",
     "text": [
      "Downloading 58/68: S1B_IW_GRDH_1SDV_20200901T011241_20200901T011306_023175_02C011_C1F6.tif\n"
     ]
    },
    {
     "data": {
      "application/vnd.jupyter.widget-view+json": {
       "model_id": "f7a1841670f74043aa91a4de152df40e",
       "version_major": 2,
       "version_minor": 0
      },
      "text/plain": [
       "...0901T011241_20200901T011306_023175_02C011_C1F6.tif: | | 0.00/3.42M (raw) [  0"
      ]
     },
     "metadata": {},
     "output_type": "display_data"
    },
    {
     "name": "stdout",
     "output_type": "stream",
     "text": [
      "Downloading 59/68: S1B_IW_GRDH_1SDV_20201230T011240_20201230T011305_024925_02F746_53DC.tif\n"
     ]
    },
    {
     "data": {
      "application/vnd.jupyter.widget-view+json": {
       "model_id": "4b363728f28546bab7eb206751969118",
       "version_major": 2,
       "version_minor": 0
      },
      "text/plain": [
       "...1230T011240_20201230T011305_024925_02F746_53DC.tif: | | 0.00/3.42M (raw) [  0"
      ]
     },
     "metadata": {},
     "output_type": "display_data"
    },
    {
     "name": "stdout",
     "output_type": "stream",
     "text": [
      "Downloading 60/68: S1B_IW_GRDH_1SDV_20210224T133920_20210224T133945_025749_0311E4_DD31.tif\n"
     ]
    },
    {
     "data": {
      "application/vnd.jupyter.widget-view+json": {
       "model_id": "468de9741e674ca2a709ce9766b116fe",
       "version_major": 2,
       "version_minor": 0
      },
      "text/plain": [
       "...0224T133920_20210224T133945_025749_0311E4_DD31.tif: | | 0.00/3.42M (raw) [  0"
      ]
     },
     "metadata": {},
     "output_type": "display_data"
    },
    {
     "name": "stdout",
     "output_type": "stream",
     "text": [
      "Downloading 61/68: S1B_IW_GRDH_1SDV_20210228T011238_20210228T011303_025800_03137F_E4C9.tif\n"
     ]
    },
    {
     "data": {
      "application/vnd.jupyter.widget-view+json": {
       "model_id": "b7b09fd35bff4af194d4312870b0c355",
       "version_major": 2,
       "version_minor": 0
      },
      "text/plain": [
       "...0228T011238_20210228T011303_025800_03137F_E4C9.tif: | | 0.00/3.42M (raw) [  0"
      ]
     },
     "metadata": {},
     "output_type": "display_data"
    },
    {
     "name": "stdout",
     "output_type": "stream",
     "text": [
      "Downloading 62/68: S1B_IW_GRDH_1SDV_20210312T011238_20210312T011303_025975_03192E_1E10.tif\n"
     ]
    },
    {
     "data": {
      "application/vnd.jupyter.widget-view+json": {
       "model_id": "8b899c8921834e879c34208cae60ff22",
       "version_major": 2,
       "version_minor": 0
      },
      "text/plain": [
       "...0312T011238_20210312T011303_025975_03192E_1E10.tif: | | 0.00/3.42M (raw) [  0"
      ]
     },
     "metadata": {},
     "output_type": "display_data"
    },
    {
     "name": "stdout",
     "output_type": "stream",
     "text": [
      "Downloading 63/68: S1B_IW_GRDH_1SDV_20210429T011239_20210429T011304_026675_032F8A_AEE3.tif\n"
     ]
    },
    {
     "data": {
      "application/vnd.jupyter.widget-view+json": {
       "model_id": "3a2f16f785574d55922dc5b03fd30d57",
       "version_major": 2,
       "version_minor": 0
      },
      "text/plain": [
       "...0429T011239_20210429T011304_026675_032F8A_AEE3.tif: | | 0.00/3.42M (raw) [  0"
      ]
     },
     "metadata": {},
     "output_type": "display_data"
    },
    {
     "name": "stdout",
     "output_type": "stream",
     "text": [
      "Downloading 64/68: S1B_IW_GRDH_1SDV_20210628T011243_20210628T011308_027550_0349E6_D74B.tif\n"
     ]
    },
    {
     "data": {
      "application/vnd.jupyter.widget-view+json": {
       "model_id": "4f736e07958948bf97bed876f97c5279",
       "version_major": 2,
       "version_minor": 0
      },
      "text/plain": [
       "...0628T011243_20210628T011308_027550_0349E6_D74B.tif: | | 0.00/3.42M (raw) [  0"
      ]
     },
     "metadata": {},
     "output_type": "display_data"
    },
    {
     "name": "stdout",
     "output_type": "stream",
     "text": [
      "Downloading 65/68: S1B_IW_GRDH_1SDV_20210710T011243_20210710T011308_027725_034F03_8FD8.tif\n"
     ]
    },
    {
     "data": {
      "application/vnd.jupyter.widget-view+json": {
       "model_id": "b9e9d1df5ada4d868cb37cd1fbeff200",
       "version_major": 2,
       "version_minor": 0
      },
      "text/plain": [
       "...0710T011243_20210710T011308_027725_034F03_8FD8.tif: | | 0.00/3.42M (raw) [  0"
      ]
     },
     "metadata": {},
     "output_type": "display_data"
    },
    {
     "name": "stdout",
     "output_type": "stream",
     "text": [
      "Downloading 66/68: S1B_IW_GRDH_1SDV_20210811T133927_20210811T133952_028199_035D40_600A.tif\n"
     ]
    },
    {
     "data": {
      "application/vnd.jupyter.widget-view+json": {
       "model_id": "0857ca6e11004b5ea0a258eff4c857f3",
       "version_major": 2,
       "version_minor": 0
      },
      "text/plain": [
       "...0811T133927_20210811T133952_028199_035D40_600A.tif: | | 0.00/3.42M (raw) [  0"
      ]
     },
     "metadata": {},
     "output_type": "display_data"
    },
    {
     "name": "stdout",
     "output_type": "stream",
     "text": [
      "Downloading 67/68: S1B_IW_GRDH_1SDV_20210827T011246_20210827T011311_028425_036436_434F.tif\n"
     ]
    },
    {
     "data": {
      "application/vnd.jupyter.widget-view+json": {
       "model_id": "44a46418f25241f9b3abce92d53da4ad",
       "version_major": 2,
       "version_minor": 0
      },
      "text/plain": [
       "...0827T011246_20210827T011311_028425_036436_434F.tif: | | 0.00/3.42M (raw) [  0"
      ]
     },
     "metadata": {},
     "output_type": "display_data"
    },
    {
     "name": "stdout",
     "output_type": "stream",
     "text": [
      "Downloading 68/68: S1B_IW_GRDH_1SDV_20210908T011247_20210908T011312_028600_0369B7_91F4.tif\n"
     ]
    },
    {
     "data": {
      "application/vnd.jupyter.widget-view+json": {
       "model_id": "6791d12df70e441c8e2deaca7fa08bf5",
       "version_major": 2,
       "version_minor": 0
      },
      "text/plain": [
       "...0908T011247_20210908T011312_028600_0369B7_91F4.tif: | | 0.00/3.42M (raw) [  0"
      ]
     },
     "metadata": {},
     "output_type": "display_data"
    },
    {
     "name": "stdout",
     "output_type": "stream",
     "text": [
      "Downloading Sentinel-2 RGBS Image for 8000\n",
      "Total number of images: 94\n",
      "\n",
      "Downloading 1/94: 20190119T183709_20190119T183706_T12UVA.tif\n"
     ]
    },
    {
     "data": {
      "application/vnd.jupyter.widget-view+json": {
       "model_id": "b0627addfaa2416a938f8419397feddf",
       "version_major": 2,
       "version_minor": 0
      },
      "text/plain": [
       "20190119T183709_20190119T183706_T12UVA.tif: | | 0.00/4.55M (raw) [  0.0%] in 00:"
      ]
     },
     "metadata": {},
     "output_type": "display_data"
    },
    {
     "name": "stdout",
     "output_type": "stream",
     "text": [
      "Downloading 2/94: 20190307T182219_20190307T182213_T12UVA.tif\n"
     ]
    },
    {
     "data": {
      "application/vnd.jupyter.widget-view+json": {
       "model_id": "9b3479897d394f99b808016eb9bcc1eb",
       "version_major": 2,
       "version_minor": 0
      },
      "text/plain": [
       "20190307T182219_20190307T182213_T12UVA.tif: | | 0.00/4.55M (raw) [  0.0%] in 00:"
      ]
     },
     "metadata": {},
     "output_type": "display_data"
    },
    {
     "name": "stdout",
     "output_type": "stream",
     "text": [
      "Downloading 3/94: 20190310T183149_20190310T183150_T12UVA.tif\n"
     ]
    },
    {
     "data": {
      "application/vnd.jupyter.widget-view+json": {
       "model_id": "707d1aebd60d4ac58fe02583821384e7",
       "version_major": 2,
       "version_minor": 0
      },
      "text/plain": [
       "20190310T183149_20190310T183150_T12UVA.tif: | | 0.00/4.55M (raw) [  0.0%] in 00:"
      ]
     },
     "metadata": {},
     "output_type": "display_data"
    },
    {
     "name": "stdout",
     "output_type": "stream",
     "text": [
      "Downloading 4/94: 20190310T183149_20190310T183150_T12UWA.tif\n"
     ]
    },
    {
     "data": {
      "application/vnd.jupyter.widget-view+json": {
       "model_id": "2fc2fd96a6084eab80f28754dd971c5c",
       "version_major": 2,
       "version_minor": 0
      },
      "text/plain": [
       "20190310T183149_20190310T183150_T12UWA.tif: | | 0.00/4.55M (raw) [  0.0%] in 00:"
      ]
     },
     "metadata": {},
     "output_type": "display_data"
    },
    {
     "name": "stdout",
     "output_type": "stream",
     "text": [
      "Downloading 5/94: 20190320T183049_20190320T183645_T12UVA.tif\n"
     ]
    },
    {
     "data": {
      "application/vnd.jupyter.widget-view+json": {
       "model_id": "a184e698d78f4926b6bbd171f1dc3b78",
       "version_major": 2,
       "version_minor": 0
      },
      "text/plain": [
       "20190320T183049_20190320T183645_T12UVA.tif: | | 0.00/4.55M (raw) [  0.0%] in 00:"
      ]
     },
     "metadata": {},
     "output_type": "display_data"
    },
    {
     "name": "stdout",
     "output_type": "stream",
     "text": [
      "Downloading 6/94: 20190320T183049_20190320T183645_T12UWA.tif\n"
     ]
    },
    {
     "data": {
      "application/vnd.jupyter.widget-view+json": {
       "model_id": "34a3b03a4bd6406e9ff4989787a36ff7",
       "version_major": 2,
       "version_minor": 0
      },
      "text/plain": [
       "20190320T183049_20190320T183645_T12UWA.tif: | | 0.00/4.55M (raw) [  0.0%] in 00:"
      ]
     },
     "metadata": {},
     "output_type": "display_data"
    },
    {
     "name": "stdout",
     "output_type": "stream",
     "text": [
      "Downloading 7/94: 20190322T182031_20190322T182030_T12UVA.tif\n"
     ]
    },
    {
     "data": {
      "application/vnd.jupyter.widget-view+json": {
       "model_id": "11f75d27f7ba4966b7560105775cba2e",
       "version_major": 2,
       "version_minor": 0
      },
      "text/plain": [
       "20190322T182031_20190322T182030_T12UVA.tif: | | 0.00/4.55M (raw) [  0.0%] in 00:"
      ]
     },
     "metadata": {},
     "output_type": "display_data"
    },
    {
     "name": "stdout",
     "output_type": "stream",
     "text": [
      "Downloading 8/94: 20190322T182031_20190322T182030_T12UWA.tif\n"
     ]
    },
    {
     "data": {
      "application/vnd.jupyter.widget-view+json": {
       "model_id": "ea01c871ad744d23a0be9436f90d6d37",
       "version_major": 2,
       "version_minor": 0
      },
      "text/plain": [
       "20190322T182031_20190322T182030_T12UWA.tif: | | 0.00/4.55M (raw) [  0.0%] in 00:"
      ]
     },
     "metadata": {},
     "output_type": "display_data"
    },
    {
     "name": "stdout",
     "output_type": "stream",
     "text": [
      "Downloading 9/94: 20190519T182929_20190519T183435_T12UWA.tif\n"
     ]
    },
    {
     "data": {
      "application/vnd.jupyter.widget-view+json": {
       "model_id": "591753ce19c840629c35b20e0156353c",
       "version_major": 2,
       "version_minor": 0
      },
      "text/plain": [
       "20190519T182929_20190519T183435_T12UWA.tif: | | 0.00/4.55M (raw) [  0.0%] in 00:"
      ]
     },
     "metadata": {},
     "output_type": "display_data"
    },
    {
     "name": "stdout",
     "output_type": "stream",
     "text": [
      "Downloading 10/94: 20190730T181931_20190730T181932_T12UVA.tif\n"
     ]
    },
    {
     "data": {
      "application/vnd.jupyter.widget-view+json": {
       "model_id": "646829c8d1c645479279e04b2a03f745",
       "version_major": 2,
       "version_minor": 0
      },
      "text/plain": [
       "20190730T181931_20190730T181932_T12UVA.tif: | | 0.00/4.55M (raw) [  0.0%] in 00:"
      ]
     },
     "metadata": {},
     "output_type": "display_data"
    },
    {
     "name": "stdout",
     "output_type": "stream",
     "text": [
      "Downloading 11/94: 20190730T181931_20190730T181932_T12UWA.tif\n"
     ]
    },
    {
     "data": {
      "application/vnd.jupyter.widget-view+json": {
       "model_id": "b43b9025b89240f391c3234641fd3887",
       "version_major": 2,
       "version_minor": 0
      },
      "text/plain": [
       "20190730T181931_20190730T181932_T12UWA.tif: | | 0.00/4.55M (raw) [  0.0%] in 00:"
      ]
     },
     "metadata": {},
     "output_type": "display_data"
    },
    {
     "name": "stdout",
     "output_type": "stream",
     "text": [
      "Downloading 12/94: 20190903T181929_20190903T182317_T12UVA.tif\n"
     ]
    },
    {
     "data": {
      "application/vnd.jupyter.widget-view+json": {
       "model_id": "70babe959e064fd4881d51be66a943f1",
       "version_major": 2,
       "version_minor": 0
      },
      "text/plain": [
       "20190903T181929_20190903T182317_T12UVA.tif: | | 0.00/4.55M (raw) [  0.0%] in 00:"
      ]
     },
     "metadata": {},
     "output_type": "display_data"
    },
    {
     "name": "stdout",
     "output_type": "stream",
     "text": [
      "Downloading 13/94: 20190903T181929_20190903T182317_T12UWA.tif\n"
     ]
    },
    {
     "data": {
      "application/vnd.jupyter.widget-view+json": {
       "model_id": "76e3534266ca40888b958816dde1c7b3",
       "version_major": 2,
       "version_minor": 0
      },
      "text/plain": [
       "20190903T181929_20190903T182317_T12UWA.tif: | | 0.00/4.55M (raw) [  0.0%] in 00:"
      ]
     },
     "metadata": {},
     "output_type": "display_data"
    },
    {
     "name": "stdout",
     "output_type": "stream",
     "text": [
      "Downloading 14/94: 20190918T182021_20190918T182459_T12UWA.tif\n"
     ]
    },
    {
     "data": {
      "application/vnd.jupyter.widget-view+json": {
       "model_id": "28f981cf06454b22b4c256a2a8d6a2f1",
       "version_major": 2,
       "version_minor": 0
      },
      "text/plain": [
       "20190918T182021_20190918T182459_T12UWA.tif: | | 0.00/4.55M (raw) [  0.0%] in 00:"
      ]
     },
     "metadata": {},
     "output_type": "display_data"
    },
    {
     "name": "stdout",
     "output_type": "stream",
     "text": [
      "Downloading 15/94: 20191021T183411_20191021T183443_T12UWA.tif\n"
     ]
    },
    {
     "data": {
      "application/vnd.jupyter.widget-view+json": {
       "model_id": "18153ab47e8b44bab7ecae4224399ef6",
       "version_major": 2,
       "version_minor": 0
      },
      "text/plain": [
       "20191021T183411_20191021T183443_T12UWA.tif: | | 0.00/4.55M (raw) [  0.0%] in 00:"
      ]
     },
     "metadata": {},
     "output_type": "display_data"
    },
    {
     "name": "stdout",
     "output_type": "stream",
     "text": [
      "Downloading 16/94: 20191117T182641_20191117T182636_T12UWA.tif\n"
     ]
    },
    {
     "data": {
      "application/vnd.jupyter.widget-view+json": {
       "model_id": "99da6dd18d664b9f987d15adb9c03a3e",
       "version_major": 2,
       "version_minor": 0
      },
      "text/plain": [
       "20191117T182641_20191117T182636_T12UWA.tif: | | 0.00/4.55M (raw) [  0.0%] in 00:"
      ]
     },
     "metadata": {},
     "output_type": "display_data"
    },
    {
     "name": "stdout",
     "output_type": "stream",
     "text": [
      "Downloading 17/94: 20200316T182101_20200316T182943_T12UVA.tif\n"
     ]
    },
    {
     "data": {
      "application/vnd.jupyter.widget-view+json": {
       "model_id": "6c8d46873d4d4d14afa9b3d2227253bc",
       "version_major": 2,
       "version_minor": 0
      },
      "text/plain": [
       "20200316T182101_20200316T182943_T12UVA.tif: | | 0.00/4.55M (raw) [  0.0%] in 00:"
      ]
     },
     "metadata": {},
     "output_type": "display_data"
    },
    {
     "name": "stdout",
     "output_type": "stream",
     "text": [
      "Downloading 18/94: 20200316T182101_20200316T182943_T12UWA.tif\n"
     ]
    },
    {
     "data": {
      "application/vnd.jupyter.widget-view+json": {
       "model_id": "b38c1a1ff122492b950d63a404a59565",
       "version_major": 2,
       "version_minor": 0
      },
      "text/plain": [
       "20200316T182101_20200316T182943_T12UWA.tif: | | 0.00/4.55M (raw) [  0.0%] in 00:"
      ]
     },
     "metadata": {},
     "output_type": "display_data"
    },
    {
     "name": "stdout",
     "output_type": "stream",
     "text": [
      "Downloading 19/94: 20200326T182001_20200326T182628_T12UVA.tif\n"
     ]
    },
    {
     "data": {
      "application/vnd.jupyter.widget-view+json": {
       "model_id": "e919f9b4c4e14ff9a479975694ce5050",
       "version_major": 2,
       "version_minor": 0
      },
      "text/plain": [
       "20200326T182001_20200326T182628_T12UVA.tif: | | 0.00/4.55M (raw) [  0.0%] in 00:"
      ]
     },
     "metadata": {},
     "output_type": "display_data"
    },
    {
     "name": "stdout",
     "output_type": "stream",
     "text": [
      "Downloading 20/94: 20200326T182001_20200326T182628_T12UWA.tif\n"
     ]
    },
    {
     "data": {
      "application/vnd.jupyter.widget-view+json": {
       "model_id": "6fdad08e206a4f7e9fa39b2340f40e98",
       "version_major": 2,
       "version_minor": 0
      },
      "text/plain": [
       "20200326T182001_20200326T182628_T12UWA.tif: | | 0.00/4.55M (raw) [  0.0%] in 00:"
      ]
     },
     "metadata": {},
     "output_type": "display_data"
    },
    {
     "name": "stdout",
     "output_type": "stream",
     "text": [
      "Downloading 21/94: 20200714T181931_20200714T182233_T12UVA.tif\n"
     ]
    },
    {
     "data": {
      "application/vnd.jupyter.widget-view+json": {
       "model_id": "bdf8a14d3c9442c38d587f2cc1b421a1",
       "version_major": 2,
       "version_minor": 0
      },
      "text/plain": [
       "20200714T181931_20200714T182233_T12UVA.tif: | | 0.00/4.55M (raw) [  0.0%] in 00:"
      ]
     },
     "metadata": {},
     "output_type": "display_data"
    },
    {
     "name": "stdout",
     "output_type": "stream",
     "text": [
      "Downloading 22/94: 20200714T181931_20200714T182233_T12UWA.tif\n"
     ]
    },
    {
     "data": {
      "application/vnd.jupyter.widget-view+json": {
       "model_id": "36ce7f4868c646b3855a06737d1182a4",
       "version_major": 2,
       "version_minor": 0
      },
      "text/plain": [
       "20200714T181931_20200714T182233_T12UWA.tif: | | 0.00/4.55M (raw) [  0.0%] in 00:"
      ]
     },
     "metadata": {},
     "output_type": "display_data"
    },
    {
     "name": "stdout",
     "output_type": "stream",
     "text": [
      "Downloading 23/94: 20200724T181931_20200724T181926_T12UVA.tif\n"
     ]
    },
    {
     "data": {
      "application/vnd.jupyter.widget-view+json": {
       "model_id": "6bd6ab52ce1648d2854845b556920866",
       "version_major": 2,
       "version_minor": 0
      },
      "text/plain": [
       "20200724T181931_20200724T181926_T12UVA.tif: | | 0.00/4.55M (raw) [  0.0%] in 00:"
      ]
     },
     "metadata": {},
     "output_type": "display_data"
    },
    {
     "name": "stdout",
     "output_type": "stream",
     "text": [
      "Downloading 24/94: 20200724T181931_20200724T181926_T12UWA.tif\n"
     ]
    },
    {
     "data": {
      "application/vnd.jupyter.widget-view+json": {
       "model_id": "1445081397d5456f9cbd0627b42edd00",
       "version_major": 2,
       "version_minor": 0
      },
      "text/plain": [
       "20200724T181931_20200724T181926_T12UWA.tif: | | 0.00/4.55M (raw) [  0.0%] in 00:"
      ]
     },
     "metadata": {},
     "output_type": "display_data"
    },
    {
     "name": "stdout",
     "output_type": "stream",
     "text": [
      "Downloading 25/94: 20200816T182921_20200816T183759_T12UVA.tif\n"
     ]
    },
    {
     "data": {
      "application/vnd.jupyter.widget-view+json": {
       "model_id": "f48ab7468a2a44658cda6d4da157171a",
       "version_major": 2,
       "version_minor": 0
      },
      "text/plain": [
       "20200816T182921_20200816T183759_T12UVA.tif: | | 0.00/4.55M (raw) [  0.0%] in 00:"
      ]
     },
     "metadata": {},
     "output_type": "display_data"
    },
    {
     "name": "stdout",
     "output_type": "stream",
     "text": [
      "Downloading 26/94: 20200816T182921_20200816T183759_T12UWA.tif\n"
     ]
    },
    {
     "data": {
      "application/vnd.jupyter.widget-view+json": {
       "model_id": "f38b997c19ea4ed29349fb18604525f5",
       "version_major": 2,
       "version_minor": 0
      },
      "text/plain": [
       "20200816T182921_20200816T183759_T12UWA.tif: | | 0.00/4.55M (raw) [  0.0%] in 00:"
      ]
     },
     "metadata": {},
     "output_type": "display_data"
    },
    {
     "name": "stdout",
     "output_type": "stream",
     "text": [
      "Downloading 27/94: 20200828T181919_20200828T182414_T12UVA.tif\n"
     ]
    },
    {
     "data": {
      "application/vnd.jupyter.widget-view+json": {
       "model_id": "6b11efb9952a424d8d8a1a5c5d57b59c",
       "version_major": 2,
       "version_minor": 0
      },
      "text/plain": [
       "20200828T181919_20200828T182414_T12UVA.tif: | | 0.00/4.55M (raw) [  0.0%] in 00:"
      ]
     },
     "metadata": {},
     "output_type": "display_data"
    },
    {
     "name": "stdout",
     "output_type": "stream",
     "text": [
      "Downloading 28/94: 20200828T181919_20200828T182414_T12UWA.tif\n"
     ]
    },
    {
     "data": {
      "application/vnd.jupyter.widget-view+json": {
       "model_id": "18d519b4d3614db5ba4cfdb44a608931",
       "version_major": 2,
       "version_minor": 0
      },
      "text/plain": [
       "20200828T181919_20200828T182414_T12UWA.tif: | | 0.00/4.55M (raw) [  0.0%] in 00:"
      ]
     },
     "metadata": {},
     "output_type": "display_data"
    },
    {
     "name": "stdout",
     "output_type": "stream",
     "text": [
      "Downloading 29/94: 20200831T182919_20200831T182938_T12UVA.tif\n"
     ]
    },
    {
     "data": {
      "application/vnd.jupyter.widget-view+json": {
       "model_id": "dec86f81b8f446c086cd9c9988aafa2b",
       "version_major": 2,
       "version_minor": 0
      },
      "text/plain": [
       "20200831T182919_20200831T182938_T12UVA.tif: | | 0.00/4.55M (raw) [  0.0%] in 00:"
      ]
     },
     "metadata": {},
     "output_type": "display_data"
    },
    {
     "name": "stdout",
     "output_type": "stream",
     "text": [
      "Downloading 30/94: 20200831T182919_20200831T182938_T12UWA.tif\n"
     ]
    },
    {
     "data": {
      "application/vnd.jupyter.widget-view+json": {
       "model_id": "72d41c95a583491e91318ac99d1e6a4c",
       "version_major": 2,
       "version_minor": 0
      },
      "text/plain": [
       "20200831T182919_20200831T182938_T12UWA.tif: | | 0.00/4.55M (raw) [  0.0%] in 00:"
      ]
     },
     "metadata": {},
     "output_type": "display_data"
    },
    {
     "name": "stdout",
     "output_type": "stream",
     "text": [
      "Downloading 31/94: 20200910T182929_20200910T182926_T12UVA.tif\n"
     ]
    },
    {
     "data": {
      "application/vnd.jupyter.widget-view+json": {
       "model_id": "88eb3406a0944ae48b988949e30e637b",
       "version_major": 2,
       "version_minor": 0
      },
      "text/plain": [
       "20200910T182929_20200910T182926_T12UVA.tif: | | 0.00/4.55M (raw) [  0.0%] in 00:"
      ]
     },
     "metadata": {},
     "output_type": "display_data"
    },
    {
     "name": "stdout",
     "output_type": "stream",
     "text": [
      "Downloading 32/94: 20200910T182929_20200910T182926_T12UWA.tif\n"
     ]
    },
    {
     "data": {
      "application/vnd.jupyter.widget-view+json": {
       "model_id": "33d510227c0642af8a1d040573ee6cd5",
       "version_major": 2,
       "version_minor": 0
      },
      "text/plain": [
       "20200910T182929_20200910T182926_T12UWA.tif: | | 0.00/4.55M (raw) [  0.0%] in 00:"
      ]
     },
     "metadata": {},
     "output_type": "display_data"
    },
    {
     "name": "stdout",
     "output_type": "stream",
     "text": [
      "Downloading 33/94: 20201109T183609_20201109T183606_T12UVA.tif\n"
     ]
    },
    {
     "data": {
      "application/vnd.jupyter.widget-view+json": {
       "model_id": "3817bd65ecef45fc932bfe082aa2dd6f",
       "version_major": 2,
       "version_minor": 0
      },
      "text/plain": [
       "20201109T183609_20201109T183606_T12UVA.tif: | | 0.00/4.55M (raw) [  0.0%] in 00:"
      ]
     },
     "metadata": {},
     "output_type": "display_data"
    },
    {
     "name": "stdout",
     "output_type": "stream",
     "text": [
      "Downloading 34/94: 20201109T183609_20201109T183606_T12UWA.tif\n"
     ]
    },
    {
     "data": {
      "application/vnd.jupyter.widget-view+json": {
       "model_id": "5c49c1dbc5054e3d94aa4267ba37c8e1",
       "version_major": 2,
       "version_minor": 0
      },
      "text/plain": [
       "20201109T183609_20201109T183606_T12UWA.tif: | | 0.00/4.55M (raw) [  0.0%] in 00:"
      ]
     },
     "metadata": {},
     "output_type": "display_data"
    },
    {
     "name": "stdout",
     "output_type": "stream",
     "text": [
      "Downloading 35/94: 20201121T182701_20201121T182954_T12UVA.tif\n"
     ]
    },
    {
     "data": {
      "application/vnd.jupyter.widget-view+json": {
       "model_id": "142557faa3184c758c0305b44245d622",
       "version_major": 2,
       "version_minor": 0
      },
      "text/plain": [
       "20201121T182701_20201121T182954_T12UVA.tif: | | 0.00/4.55M (raw) [  0.0%] in 00:"
      ]
     },
     "metadata": {},
     "output_type": "display_data"
    },
    {
     "name": "stdout",
     "output_type": "stream",
     "text": [
      "Downloading 36/94: 20201121T182701_20201121T182954_T12UWA.tif\n"
     ]
    },
    {
     "data": {
      "application/vnd.jupyter.widget-view+json": {
       "model_id": "73afdb876d8246bd96d32d0666dd1a61",
       "version_major": 2,
       "version_minor": 0
      },
      "text/plain": [
       "20201121T182701_20201121T182954_T12UWA.tif: | | 0.00/4.55M (raw) [  0.0%] in 00:"
      ]
     },
     "metadata": {},
     "output_type": "display_data"
    },
    {
     "name": "stdout",
     "output_type": "stream",
     "text": [
      "Downloading 37/94: 20201229T183759_20201229T183755_T12UVA.tif\n"
     ]
    },
    {
     "data": {
      "application/vnd.jupyter.widget-view+json": {
       "model_id": "f74c345b489c45218aca39991c7372c4",
       "version_major": 2,
       "version_minor": 0
      },
      "text/plain": [
       "20201229T183759_20201229T183755_T12UVA.tif: | | 0.00/4.55M (raw) [  0.0%] in 00:"
      ]
     },
     "metadata": {},
     "output_type": "display_data"
    },
    {
     "name": "stdout",
     "output_type": "stream",
     "text": [
      "Downloading 38/94: 20201229T183759_20201229T183755_T12UWA.tif\n"
     ]
    },
    {
     "data": {
      "application/vnd.jupyter.widget-view+json": {
       "model_id": "0adb5d610246431db6dd51abbd60d755",
       "version_major": 2,
       "version_minor": 0
      },
      "text/plain": [
       "20201229T183759_20201229T183755_T12UWA.tif: | | 0.00/4.55M (raw) [  0.0%] in 00:"
      ]
     },
     "metadata": {},
     "output_type": "display_data"
    },
    {
     "name": "stdout",
     "output_type": "stream",
     "text": [
      "Downloading 39/94: 20210108T183739_20210108T183739_T12UWA.tif\n"
     ]
    },
    {
     "data": {
      "application/vnd.jupyter.widget-view+json": {
       "model_id": "6a0fa68b391f4d41b499f9b921425d85",
       "version_major": 2,
       "version_minor": 0
      },
      "text/plain": [
       "20210108T183739_20210108T183739_T12UWA.tif: | | 0.00/4.55M (raw) [  0.0%] in 00:"
      ]
     },
     "metadata": {},
     "output_type": "display_data"
    },
    {
     "name": "stdout",
     "output_type": "stream",
     "text": [
      "Downloading 40/94: 20210120T182701_20210120T182954_T12UVA.tif\n"
     ]
    },
    {
     "data": {
      "application/vnd.jupyter.widget-view+json": {
       "model_id": "24f7309dc95a47a88cd214b60fbaac21",
       "version_major": 2,
       "version_minor": 0
      },
      "text/plain": [
       "20210120T182701_20210120T182954_T12UVA.tif: | | 0.00/4.55M (raw) [  0.0%] in 00:"
      ]
     },
     "metadata": {},
     "output_type": "display_data"
    },
    {
     "name": "stdout",
     "output_type": "stream",
     "text": [
      "Downloading 41/94: 20210120T182701_20210120T182954_T12UWA.tif\n"
     ]
    },
    {
     "data": {
      "application/vnd.jupyter.widget-view+json": {
       "model_id": "edda3d549a60418b9eba1dca916e1135",
       "version_major": 2,
       "version_minor": 0
      },
      "text/plain": [
       "20210120T182701_20210120T182954_T12UWA.tif: | | 0.00/4.55M (raw) [  0.0%] in 00:"
      ]
     },
     "metadata": {},
     "output_type": "display_data"
    },
    {
     "name": "stdout",
     "output_type": "stream",
     "text": [
      "Downloading 42/94: 20210224T182329_20210224T182332_T12UVA.tif\n"
     ]
    },
    {
     "data": {
      "application/vnd.jupyter.widget-view+json": {
       "model_id": "1b25454e7d5446b28d086fba4363431e",
       "version_major": 2,
       "version_minor": 0
      },
      "text/plain": [
       "20210224T182329_20210224T182332_T12UVA.tif: | | 0.00/4.55M (raw) [  0.0%] in 00:"
      ]
     },
     "metadata": {},
     "output_type": "display_data"
    },
    {
     "name": "stdout",
     "output_type": "stream",
     "text": [
      "Downloading 43/94: 20210224T182329_20210224T182332_T12UWA.tif\n"
     ]
    },
    {
     "data": {
      "application/vnd.jupyter.widget-view+json": {
       "model_id": "15f704fbddbd499e8fddbab08126c6a9",
       "version_major": 2,
       "version_minor": 0
      },
      "text/plain": [
       "20210224T182329_20210224T182332_T12UWA.tif: | | 0.00/4.55M (raw) [  0.0%] in 00:"
      ]
     },
     "metadata": {},
     "output_type": "display_data"
    },
    {
     "name": "stdout",
     "output_type": "stream",
     "text": [
      "Downloading 44/94: 20210227T183319_20210227T183937_T12UVA.tif\n"
     ]
    },
    {
     "data": {
      "application/vnd.jupyter.widget-view+json": {
       "model_id": "8ae4f15ba42942899a7a3b47daf7eb09",
       "version_major": 2,
       "version_minor": 0
      },
      "text/plain": [
       "20210227T183319_20210227T183937_T12UVA.tif: | | 0.00/4.55M (raw) [  0.0%] in 00:"
      ]
     },
     "metadata": {},
     "output_type": "display_data"
    },
    {
     "name": "stdout",
     "output_type": "stream",
     "text": [
      "Downloading 45/94: 20210311T182151_20210311T182757_T12UVA.tif\n"
     ]
    },
    {
     "data": {
      "application/vnd.jupyter.widget-view+json": {
       "model_id": "f0bde62d9d4b418b9ec7c277249ed606",
       "version_major": 2,
       "version_minor": 0
      },
      "text/plain": [
       "20210311T182151_20210311T182757_T12UVA.tif: | | 0.00/4.55M (raw) [  0.0%] in 00:"
      ]
     },
     "metadata": {},
     "output_type": "display_data"
    },
    {
     "name": "stdout",
     "output_type": "stream",
     "text": [
      "Downloading 46/94: 20210311T182151_20210311T182757_T12UWA.tif\n"
     ]
    },
    {
     "data": {
      "application/vnd.jupyter.widget-view+json": {
       "model_id": "7248498559ec4fffb915521a25882987",
       "version_major": 2,
       "version_minor": 0
      },
      "text/plain": [
       "20210311T182151_20210311T182757_T12UWA.tif: | | 0.00/4.55M (raw) [  0.0%] in 00:"
      ]
     },
     "metadata": {},
     "output_type": "display_data"
    },
    {
     "name": "stdout",
     "output_type": "stream",
     "text": [
      "Downloading 47/94: 20210428T182909_20210428T183426_T12UVA.tif\n"
     ]
    },
    {
     "data": {
      "application/vnd.jupyter.widget-view+json": {
       "model_id": "33202071ff514d12993d43dcbce85ac5",
       "version_major": 2,
       "version_minor": 0
      },
      "text/plain": [
       "20210428T182909_20210428T183426_T12UVA.tif: | | 0.00/4.55M (raw) [  0.0%] in 00:"
      ]
     },
     "metadata": {},
     "output_type": "display_data"
    },
    {
     "name": "stdout",
     "output_type": "stream",
     "text": [
      "Downloading 48/94: 20210428T182909_20210428T183426_T12UWA.tif\n"
     ]
    },
    {
     "data": {
      "application/vnd.jupyter.widget-view+json": {
       "model_id": "740a2cb39cc342a98af37e875abd34a5",
       "version_major": 2,
       "version_minor": 0
      },
      "text/plain": [
       "20210428T182909_20210428T183426_T12UWA.tif: | | 0.00/4.55M (raw) [  0.0%] in 00:"
      ]
     },
     "metadata": {},
     "output_type": "display_data"
    },
    {
     "name": "stdout",
     "output_type": "stream",
     "text": [
      "Downloading 49/94: 20210627T182919_20210627T183902_T12UVA.tif\n"
     ]
    },
    {
     "data": {
      "application/vnd.jupyter.widget-view+json": {
       "model_id": "91dde1bd5d6341d8a185e22110ab8ccf",
       "version_major": 2,
       "version_minor": 0
      },
      "text/plain": [
       "20210627T182919_20210627T183902_T12UVA.tif: | | 0.00/4.55M (raw) [  0.0%] in 00:"
      ]
     },
     "metadata": {},
     "output_type": "display_data"
    },
    {
     "name": "stdout",
     "output_type": "stream",
     "text": [
      "Downloading 50/94: 20210709T181921_20210709T182813_T12UVA.tif\n"
     ]
    },
    {
     "data": {
      "application/vnd.jupyter.widget-view+json": {
       "model_id": "130d842ba26a47e4ad4a1b342cfcc7ce",
       "version_major": 2,
       "version_minor": 0
      },
      "text/plain": [
       "20210709T181921_20210709T182813_T12UVA.tif: | | 0.00/4.55M (raw) [  0.0%] in 00:"
      ]
     },
     "metadata": {},
     "output_type": "display_data"
    },
    {
     "name": "stdout",
     "output_type": "stream",
     "text": [
      "Downloading 51/94: 20210811T182921_20210811T183647_T12UVA.tif\n"
     ]
    },
    {
     "data": {
      "application/vnd.jupyter.widget-view+json": {
       "model_id": "6261717359424f16a0ddb95b87d84de4",
       "version_major": 2,
       "version_minor": 0
      },
      "text/plain": [
       "20210811T182921_20210811T183647_T12UVA.tif: | | 0.00/4.55M (raw) [  0.0%] in 00:"
      ]
     },
     "metadata": {},
     "output_type": "display_data"
    },
    {
     "name": "stdout",
     "output_type": "stream",
     "text": [
      "Downloading 52/94: 20210826T182919_20210826T183729_T12UVA.tif\n"
     ]
    },
    {
     "data": {
      "application/vnd.jupyter.widget-view+json": {
       "model_id": "2d02250ca04b40fcb23725cab27009e9",
       "version_major": 2,
       "version_minor": 0
      },
      "text/plain": [
       "20210826T182919_20210826T183729_T12UVA.tif: | | 0.00/4.55M (raw) [  0.0%] in 00:"
      ]
     },
     "metadata": {},
     "output_type": "display_data"
    },
    {
     "name": "stdout",
     "output_type": "stream",
     "text": [
      "Downloading 53/94: 20210826T182919_20210826T183729_T12UWA.tif\n"
     ]
    },
    {
     "data": {
      "application/vnd.jupyter.widget-view+json": {
       "model_id": "ca8e5edd8691447abb3ec75cfb265fcf",
       "version_major": 2,
       "version_minor": 0
      },
      "text/plain": [
       "20210826T182919_20210826T183729_T12UWA.tif: | | 0.00/4.55M (raw) [  0.0%] in 00:"
      ]
     },
     "metadata": {},
     "output_type": "display_data"
    },
    {
     "name": "stdout",
     "output_type": "stream",
     "text": [
      "Downloading 54/94: 20210907T181921_20210907T182522_T12UVA.tif\n"
     ]
    },
    {
     "data": {
      "application/vnd.jupyter.widget-view+json": {
       "model_id": "ed8eeea1c7a44c11ac9fd3b78e8ab513",
       "version_major": 2,
       "version_minor": 0
      },
      "text/plain": [
       "20210907T181921_20210907T182522_T12UVA.tif: | | 0.00/4.55M (raw) [  0.0%] in 00:"
      ]
     },
     "metadata": {},
     "output_type": "display_data"
    },
    {
     "name": "stdout",
     "output_type": "stream",
     "text": [
      "Downloading 55/94: 20210907T181921_20210907T182522_T12UWA.tif\n"
     ]
    },
    {
     "data": {
      "application/vnd.jupyter.widget-view+json": {
       "model_id": "da1fffd7a15b45f5a4fa3a9099238190",
       "version_major": 2,
       "version_minor": 0
      },
      "text/plain": [
       "20210907T181921_20210907T182522_T12UWA.tif: | | 0.00/4.55M (raw) [  0.0%] in 00:"
      ]
     },
     "metadata": {},
     "output_type": "display_data"
    },
    {
     "name": "stdout",
     "output_type": "stream",
     "text": [
      "Downloading 56/94: 20220316T182121_20220316T182854_T12UVA.tif\n"
     ]
    },
    {
     "data": {
      "application/vnd.jupyter.widget-view+json": {
       "model_id": "8943b0a2d2a443a1984b23308f47fd49",
       "version_major": 2,
       "version_minor": 0
      },
      "text/plain": [
       "20220316T182121_20220316T182854_T12UVA.tif: | | 0.00/4.55M (raw) [  0.0%] in 00:"
      ]
     },
     "metadata": {},
     "output_type": "display_data"
    },
    {
     "name": "stdout",
     "output_type": "stream",
     "text": [
      "Downloading 57/94: 20220316T182121_20220316T182854_T12UWA.tif\n"
     ]
    },
    {
     "data": {
      "application/vnd.jupyter.widget-view+json": {
       "model_id": "0d72f8db0ea44376b90cd1749dc1d6c8",
       "version_major": 2,
       "version_minor": 0
      },
      "text/plain": [
       "20220316T182121_20220316T182854_T12UWA.tif: | | 0.00/4.55M (raw) [  0.0%] in 00:"
      ]
     },
     "metadata": {},
     "output_type": "display_data"
    },
    {
     "name": "stdout",
     "output_type": "stream",
     "text": [
      "Downloading 58/94: 20220714T181931_20220714T181928_T12UVA.tif\n"
     ]
    },
    {
     "data": {
      "application/vnd.jupyter.widget-view+json": {
       "model_id": "51f95038a07442d097591021759a031b",
       "version_major": 2,
       "version_minor": 0
      },
      "text/plain": [
       "20220714T181931_20220714T181928_T12UVA.tif: | | 0.00/4.55M (raw) [  0.0%] in 00:"
      ]
     },
     "metadata": {},
     "output_type": "display_data"
    },
    {
     "name": "stdout",
     "output_type": "stream",
     "text": [
      "Downloading 59/94: 20220714T181931_20220714T181928_T12UWA.tif\n"
     ]
    },
    {
     "data": {
      "application/vnd.jupyter.widget-view+json": {
       "model_id": "ac02b07488764a17a5f4d80f5af0be9e",
       "version_major": 2,
       "version_minor": 0
      },
      "text/plain": [
       "20220714T181931_20220714T181928_T12UWA.tif: | | 0.00/4.55M (raw) [  0.0%] in 00:"
      ]
     },
     "metadata": {},
     "output_type": "display_data"
    },
    {
     "name": "stdout",
     "output_type": "stream",
     "text": [
      "Downloading 60/94: 20220719T181919_20220719T182412_T12UVA.tif\n"
     ]
    },
    {
     "data": {
      "application/vnd.jupyter.widget-view+json": {
       "model_id": "41595ae775e3401ea9a2ac13ed77ca58",
       "version_major": 2,
       "version_minor": 0
      },
      "text/plain": [
       "20220719T181919_20220719T182412_T12UVA.tif: | | 0.00/4.55M (raw) [  0.0%] in 00:"
      ]
     },
     "metadata": {},
     "output_type": "display_data"
    },
    {
     "name": "stdout",
     "output_type": "stream",
     "text": [
      "Downloading 61/94: 20220719T181919_20220719T182412_T12UWA.tif\n"
     ]
    },
    {
     "data": {
      "application/vnd.jupyter.widget-view+json": {
       "model_id": "1fc37c4c8c704fa180fb465f831c5136",
       "version_major": 2,
       "version_minor": 0
      },
      "text/plain": [
       "20220719T181919_20220719T182412_T12UWA.tif: | | 0.00/4.55M (raw) [  0.0%] in 00:"
      ]
     },
     "metadata": {},
     "output_type": "display_data"
    },
    {
     "name": "stdout",
     "output_type": "stream",
     "text": [
      "Downloading 62/94: 20220905T182931_20220905T183816_T12UVA.tif\n"
     ]
    },
    {
     "data": {
      "application/vnd.jupyter.widget-view+json": {
       "model_id": "cd87914dc80a41f590d967b463122234",
       "version_major": 2,
       "version_minor": 0
      },
      "text/plain": [
       "20220905T182931_20220905T183816_T12UVA.tif: | | 0.00/4.55M (raw) [  0.0%] in 00:"
      ]
     },
     "metadata": {},
     "output_type": "display_data"
    },
    {
     "name": "stdout",
     "output_type": "stream",
     "text": [
      "Downloading 63/94: 20220905T182931_20220905T183816_T12UWA.tif\n"
     ]
    },
    {
     "data": {
      "application/vnd.jupyter.widget-view+json": {
       "model_id": "32a3269db64b4b2596b24e3d6883faa8",
       "version_major": 2,
       "version_minor": 0
      },
      "text/plain": [
       "20220905T182931_20220905T183816_T12UWA.tif: | | 0.00/4.55M (raw) [  0.0%] in 00:"
      ]
     },
     "metadata": {},
     "output_type": "display_data"
    },
    {
     "name": "stdout",
     "output_type": "stream",
     "text": [
      "Downloading 64/94: 20220912T181951_20220912T182520_T12UWA.tif\n"
     ]
    },
    {
     "data": {
      "application/vnd.jupyter.widget-view+json": {
       "model_id": "8d917cd84b67467ca588fec3b2f5aa06",
       "version_major": 2,
       "version_minor": 0
      },
      "text/plain": [
       "20220912T181951_20220912T182520_T12UWA.tif: | | 0.00/4.55M (raw) [  0.0%] in 00:"
      ]
     },
     "metadata": {},
     "output_type": "display_data"
    },
    {
     "name": "stdout",
     "output_type": "stream",
     "text": [
      "Downloading 65/94: 20220917T182019_20220917T182732_T12UVA.tif\n"
     ]
    },
    {
     "data": {
      "application/vnd.jupyter.widget-view+json": {
       "model_id": "b5abfb582c3943128a1e8db12aa2098b",
       "version_major": 2,
       "version_minor": 0
      },
      "text/plain": [
       "20220917T182019_20220917T182732_T12UVA.tif: | | 0.00/4.55M (raw) [  0.0%] in 00:"
      ]
     },
     "metadata": {},
     "output_type": "display_data"
    },
    {
     "name": "stdout",
     "output_type": "stream",
     "text": [
      "Downloading 66/94: 20220917T182019_20220917T182732_T12UWA.tif\n"
     ]
    },
    {
     "data": {
      "application/vnd.jupyter.widget-view+json": {
       "model_id": "c37fc7c2b50c495aaec978a84ee6e271",
       "version_major": 2,
       "version_minor": 0
      },
      "text/plain": [
       "20220917T182019_20220917T182732_T12UWA.tif: | | 0.00/4.55M (raw) [  0.0%] in 00:"
      ]
     },
     "metadata": {},
     "output_type": "display_data"
    },
    {
     "name": "stdout",
     "output_type": "stream",
     "text": [
      "Downloading 67/94: 20221111T182611_20221111T182739_T12UVA.tif\n"
     ]
    },
    {
     "data": {
      "application/vnd.jupyter.widget-view+json": {
       "model_id": "0e53546eb0404af0b28aeb507dd69432",
       "version_major": 2,
       "version_minor": 0
      },
      "text/plain": [
       "20221111T182611_20221111T182739_T12UVA.tif: | | 0.00/4.55M (raw) [  0.0%] in 00:"
      ]
     },
     "metadata": {},
     "output_type": "display_data"
    },
    {
     "name": "stdout",
     "output_type": "stream",
     "text": [
      "Downloading 68/94: 20221111T182611_20221111T182739_T12UWA.tif\n"
     ]
    },
    {
     "data": {
      "application/vnd.jupyter.widget-view+json": {
       "model_id": "7c9acbc4efca410195c7abb46005f807",
       "version_major": 2,
       "version_minor": 0
      },
      "text/plain": [
       "20221111T182611_20221111T182739_T12UWA.tif: | | 0.00/4.55M (raw) [  0.0%] in 00:"
      ]
     },
     "metadata": {},
     "output_type": "display_data"
    },
    {
     "name": "stdout",
     "output_type": "stream",
     "text": [
      "Downloading 69/94: 20230103T183751_20230103T184011_T12UVA.tif\n"
     ]
    },
    {
     "data": {
      "application/vnd.jupyter.widget-view+json": {
       "model_id": "1d7340178ffd42bd9b5fc511807155ad",
       "version_major": 2,
       "version_minor": 0
      },
      "text/plain": [
       "20230103T183751_20230103T184011_T12UVA.tif: | | 0.00/4.55M (raw) [  0.0%] in 00:"
      ]
     },
     "metadata": {},
     "output_type": "display_data"
    },
    {
     "name": "stdout",
     "output_type": "stream",
     "text": [
      "Downloading 70/94: 20230103T183751_20230103T184011_T12UWA.tif\n"
     ]
    },
    {
     "data": {
      "application/vnd.jupyter.widget-view+json": {
       "model_id": "8290ced015614ccab2d6615123be5393",
       "version_major": 2,
       "version_minor": 0
      },
      "text/plain": [
       "20230103T183751_20230103T184011_T12UWA.tif: | | 0.00/4.55M (raw) [  0.0%] in 00:"
      ]
     },
     "metadata": {},
     "output_type": "display_data"
    },
    {
     "name": "stdout",
     "output_type": "stream",
     "text": [
      "Downloading 71/94: 20230110T182731_20230110T182730_T12UVA.tif\n"
     ]
    },
    {
     "data": {
      "application/vnd.jupyter.widget-view+json": {
       "model_id": "77984c08796443249aa12b32b4ee0bfe",
       "version_major": 2,
       "version_minor": 0
      },
      "text/plain": [
       "20230110T182731_20230110T182730_T12UVA.tif: | | 0.00/4.55M (raw) [  0.0%] in 00:"
      ]
     },
     "metadata": {},
     "output_type": "display_data"
    },
    {
     "name": "stdout",
     "output_type": "stream",
     "text": [
      "Downloading 72/94: 20230304T183241_20230304T183954_T12UVA.tif\n"
     ]
    },
    {
     "data": {
      "application/vnd.jupyter.widget-view+json": {
       "model_id": "8d53d70ffee44581865315a703b36464",
       "version_major": 2,
       "version_minor": 0
      },
      "text/plain": [
       "20230304T183241_20230304T183954_T12UVA.tif: | | 0.00/4.55M (raw) [  0.0%] in 00:"
      ]
     },
     "metadata": {},
     "output_type": "display_data"
    },
    {
     "name": "stdout",
     "output_type": "stream",
     "text": [
      "Downloading 73/94: 20230304T183241_20230304T183954_T12UWA.tif\n"
     ]
    },
    {
     "data": {
      "application/vnd.jupyter.widget-view+json": {
       "model_id": "017245d71e4f441087e6337359184b92",
       "version_major": 2,
       "version_minor": 0
      },
      "text/plain": [
       "20230304T183241_20230304T183954_T12UWA.tif: | | 0.00/4.55M (raw) [  0.0%] in 00:"
      ]
     },
     "metadata": {},
     "output_type": "display_data"
    },
    {
     "name": "stdout",
     "output_type": "stream",
     "text": [
      "Downloading 74/94: 20230311T182141_20230311T182143_T12UVA.tif\n"
     ]
    },
    {
     "data": {
      "application/vnd.jupyter.widget-view+json": {
       "model_id": "fd6573ca3b7243bda6ce07d7c1251d6c",
       "version_major": 2,
       "version_minor": 0
      },
      "text/plain": [
       "20230311T182141_20230311T182143_T12UVA.tif: | | 0.00/4.55M (raw) [  0.0%] in 00:"
      ]
     },
     "metadata": {},
     "output_type": "display_data"
    },
    {
     "name": "stdout",
     "output_type": "stream",
     "text": [
      "Downloading 75/94: 20230316T182119_20230316T182700_T12UVA.tif\n"
     ]
    },
    {
     "data": {
      "application/vnd.jupyter.widget-view+json": {
       "model_id": "d86ad33de2814b13b9f346cf8548b401",
       "version_major": 2,
       "version_minor": 0
      },
      "text/plain": [
       "20230316T182119_20230316T182700_T12UVA.tif: | | 0.00/4.55M (raw) [  0.0%] in 00:"
      ]
     },
     "metadata": {},
     "output_type": "display_data"
    },
    {
     "name": "stdout",
     "output_type": "stream",
     "text": [
      "Downloading 76/94: 20230316T182119_20230316T182700_T12UWA.tif\n"
     ]
    },
    {
     "data": {
      "application/vnd.jupyter.widget-view+json": {
       "model_id": "19eda53dac584b4b97eb64ca2b9a70ad",
       "version_major": 2,
       "version_minor": 0
      },
      "text/plain": [
       "20230316T182119_20230316T182700_T12UWA.tif: | | 0.00/4.55M (raw) [  0.0%] in 00:"
      ]
     },
     "metadata": {},
     "output_type": "display_data"
    },
    {
     "name": "stdout",
     "output_type": "stream",
     "text": [
      "Downloading 77/94: 20230515T181919_20230515T182328_T12UVA.tif\n"
     ]
    },
    {
     "data": {
      "application/vnd.jupyter.widget-view+json": {
       "model_id": "18a2f046da144f0aa5e7bc82f4e3f209",
       "version_major": 2,
       "version_minor": 0
      },
      "text/plain": [
       "20230515T181919_20230515T182328_T12UVA.tif: | | 0.00/4.55M (raw) [  0.0%] in 00:"
      ]
     },
     "metadata": {},
     "output_type": "display_data"
    },
    {
     "name": "stdout",
     "output_type": "stream",
     "text": [
      "Downloading 78/94: 20230515T181919_20230515T182328_T12UWA.tif\n"
     ]
    },
    {
     "data": {
      "application/vnd.jupyter.widget-view+json": {
       "model_id": "a06d89428d1c4e669e4302739b2535b4",
       "version_major": 2,
       "version_minor": 0
      },
      "text/plain": [
       "20230515T181919_20230515T182328_T12UWA.tif: | | 0.00/4.55M (raw) [  0.0%] in 00:"
      ]
     },
     "metadata": {},
     "output_type": "display_data"
    },
    {
     "name": "stdout",
     "output_type": "stream",
     "text": [
      "Downloading 79/94: 20230627T182919_20230627T183917_T12UVA.tif\n"
     ]
    },
    {
     "data": {
      "application/vnd.jupyter.widget-view+json": {
       "model_id": "78138d3b121945cba0e7bd6fdfafee58",
       "version_major": 2,
       "version_minor": 0
      },
      "text/plain": [
       "20230627T182919_20230627T183917_T12UVA.tif: | | 0.00/4.55M (raw) [  0.0%] in 00:"
      ]
     },
     "metadata": {},
     "output_type": "display_data"
    },
    {
     "name": "stdout",
     "output_type": "stream",
     "text": [
      "Downloading 80/94: 20230702T182921_20230702T183722_T12UVA.tif\n"
     ]
    },
    {
     "data": {
      "application/vnd.jupyter.widget-view+json": {
       "model_id": "7951c22adeb9456eb9f5981ffb3fdfff",
       "version_major": 2,
       "version_minor": 0
      },
      "text/plain": [
       "20230702T182921_20230702T183722_T12UVA.tif: | | 0.00/4.55M (raw) [  0.0%] in 00:"
      ]
     },
     "metadata": {},
     "output_type": "display_data"
    },
    {
     "name": "stdout",
     "output_type": "stream",
     "text": [
      "Downloading 81/94: 20230709T181921_20230709T182525_T12UVA.tif\n"
     ]
    },
    {
     "data": {
      "application/vnd.jupyter.widget-view+json": {
       "model_id": "b21d15c41a0645aea9ece8606e8c7a6c",
       "version_major": 2,
       "version_minor": 0
      },
      "text/plain": [
       "20230709T181921_20230709T182525_T12UVA.tif: | | 0.00/4.55M (raw) [  0.0%] in 00:"
      ]
     },
     "metadata": {},
     "output_type": "display_data"
    },
    {
     "name": "stdout",
     "output_type": "stream",
     "text": [
      "Downloading 82/94: 20230709T181921_20230709T182525_T12UWA.tif\n"
     ]
    },
    {
     "data": {
      "application/vnd.jupyter.widget-view+json": {
       "model_id": "616df280ff54496797afd8b97e6e0d98",
       "version_major": 2,
       "version_minor": 0
      },
      "text/plain": [
       "20230709T181921_20230709T182525_T12UWA.tif: | | 0.00/4.55M (raw) [  0.0%] in 00:"
      ]
     },
     "metadata": {},
     "output_type": "display_data"
    },
    {
     "name": "stdout",
     "output_type": "stream",
     "text": [
      "Downloading 83/94: 20230826T182919_20230826T183305_T12UVA.tif\n"
     ]
    },
    {
     "data": {
      "application/vnd.jupyter.widget-view+json": {
       "model_id": "3bbe89d0bb1642f69bfff91a2b597944",
       "version_major": 2,
       "version_minor": 0
      },
      "text/plain": [
       "20230826T182919_20230826T183305_T12UVA.tif: | | 0.00/4.55M (raw) [  0.0%] in 00:"
      ]
     },
     "metadata": {},
     "output_type": "display_data"
    },
    {
     "name": "stdout",
     "output_type": "stream",
     "text": [
      "Downloading 84/94: 20230826T182919_20230826T183305_T12UWA.tif\n"
     ]
    },
    {
     "data": {
      "application/vnd.jupyter.widget-view+json": {
       "model_id": "74113e2def5f40459a53e521676c6ec4",
       "version_major": 2,
       "version_minor": 0
      },
      "text/plain": [
       "20230826T182919_20230826T183305_T12UWA.tif: | | 0.00/4.55M (raw) [  0.0%] in 00:"
      ]
     },
     "metadata": {},
     "output_type": "display_data"
    },
    {
     "name": "stdout",
     "output_type": "stream",
     "text": [
      "Downloading 85/94: 20230907T181921_20230907T182253_T12UVA.tif\n"
     ]
    },
    {
     "data": {
      "application/vnd.jupyter.widget-view+json": {
       "model_id": "575970340a5d48b1b4b178c70f024423",
       "version_major": 2,
       "version_minor": 0
      },
      "text/plain": [
       "20230907T181921_20230907T182253_T12UVA.tif: | | 0.00/4.55M (raw) [  0.0%] in 00:"
      ]
     },
     "metadata": {},
     "output_type": "display_data"
    },
    {
     "name": "stdout",
     "output_type": "stream",
     "text": [
      "Downloading 86/94: 20230907T181921_20230907T182253_T12UWA.tif\n"
     ]
    },
    {
     "data": {
      "application/vnd.jupyter.widget-view+json": {
       "model_id": "f7fbfcdb233049908e4da681d42c30bd",
       "version_major": 2,
       "version_minor": 0
      },
      "text/plain": [
       "20230907T181921_20230907T182253_T12UWA.tif: | | 0.00/4.55M (raw) [  0.0%] in 00:"
      ]
     },
     "metadata": {},
     "output_type": "display_data"
    },
    {
     "name": "stdout",
     "output_type": "stream",
     "text": [
      "Downloading 87/94: 20231224T183809_20231224T183804_T12UVA.tif\n"
     ]
    },
    {
     "data": {
      "application/vnd.jupyter.widget-view+json": {
       "model_id": "6836a75baf9a4c9cb45e1c9e56382cee",
       "version_major": 2,
       "version_minor": 0
      },
      "text/plain": [
       "20231224T183809_20231224T183804_T12UVA.tif: | | 0.00/4.55M (raw) [  0.0%] in 00:"
      ]
     },
     "metadata": {},
     "output_type": "display_data"
    },
    {
     "name": "stdout",
     "output_type": "stream",
     "text": [
      "Downloading 88/94: 20231224T183809_20231224T183804_T12UWA.tif\n"
     ]
    },
    {
     "data": {
      "application/vnd.jupyter.widget-view+json": {
       "model_id": "7c8bc924e3ff49af903ab22e36c621a8",
       "version_major": 2,
       "version_minor": 0
      },
      "text/plain": [
       "20231224T183809_20231224T183804_T12UWA.tif: | | 0.00/4.55M (raw) [  0.0%] in 00:"
      ]
     },
     "metadata": {},
     "output_type": "display_data"
    },
    {
     "name": "stdout",
     "output_type": "stream",
     "text": [
      "Downloading 89/94: 20231229T183801_20231229T183756_T12UWA.tif\n"
     ]
    },
    {
     "data": {
      "application/vnd.jupyter.widget-view+json": {
       "model_id": "4fe1eb888bd24477bb72bd0dfc701a5c",
       "version_major": 2,
       "version_minor": 0
      },
      "text/plain": [
       "20231229T183801_20231229T183756_T12UWA.tif: | | 0.00/4.55M (raw) [  0.0%] in 00:"
      ]
     },
     "metadata": {},
     "output_type": "display_data"
    },
    {
     "name": "stdout",
     "output_type": "stream",
     "text": [
      "Downloading 90/94: 20240105T182741_20240105T182741_T12UVA.tif\n"
     ]
    },
    {
     "data": {
      "application/vnd.jupyter.widget-view+json": {
       "model_id": "a403004f85c0483ca92aa6906177ac2b",
       "version_major": 2,
       "version_minor": 0
      },
      "text/plain": [
       "20240105T182741_20240105T182741_T12UVA.tif: | | 0.00/4.55M (raw) [  0.0%] in 00:"
      ]
     },
     "metadata": {},
     "output_type": "display_data"
    },
    {
     "name": "stdout",
     "output_type": "stream",
     "text": [
      "Downloading 91/94: 20240509T181919_20240509T182535_T12UVA.tif\n"
     ]
    },
    {
     "data": {
      "application/vnd.jupyter.widget-view+json": {
       "model_id": "7e1dddd6aa3e4e1e8196fe1863b502be",
       "version_major": 2,
       "version_minor": 0
      },
      "text/plain": [
       "20240509T181919_20240509T182535_T12UVA.tif: | | 0.00/4.55M (raw) [  0.0%] in 00:"
      ]
     },
     "metadata": {},
     "output_type": "display_data"
    },
    {
     "name": "stdout",
     "output_type": "stream",
     "text": [
      "Downloading 92/94: 20240509T181919_20240509T182535_T12UWA.tif\n"
     ]
    },
    {
     "data": {
      "application/vnd.jupyter.widget-view+json": {
       "model_id": "3e75f5fd02c0471bbab2004482e9b598",
       "version_major": 2,
       "version_minor": 0
      },
      "text/plain": [
       "20240509T181919_20240509T182535_T12UWA.tif: | | 0.00/4.55M (raw) [  0.0%] in 00:"
      ]
     },
     "metadata": {},
     "output_type": "display_data"
    },
    {
     "name": "stdout",
     "output_type": "stream",
     "text": [
      "Downloading 93/94: 20240621T182919_20240621T183712_T12UVA.tif\n"
     ]
    },
    {
     "data": {
      "application/vnd.jupyter.widget-view+json": {
       "model_id": "8a4931214115404b99afbf4c661ed14c",
       "version_major": 2,
       "version_minor": 0
      },
      "text/plain": [
       "20240621T182919_20240621T183712_T12UVA.tif: | | 0.00/4.55M (raw) [  0.0%] in 00:"
      ]
     },
     "metadata": {},
     "output_type": "display_data"
    },
    {
     "name": "stdout",
     "output_type": "stream",
     "text": [
      "Downloading 94/94: 20240626T182921_20240626T183405_T12UWA.tif\n"
     ]
    },
    {
     "data": {
      "application/vnd.jupyter.widget-view+json": {
       "model_id": "6783035c56274313b5f17a61ee360d59",
       "version_major": 2,
       "version_minor": 0
      },
      "text/plain": [
       "20240626T182921_20240626T183405_T12UWA.tif: | | 0.00/4.55M (raw) [  0.0%] in 00:"
      ]
     },
     "metadata": {},
     "output_type": "display_data"
    }
   ],
   "source": [
    "for lake_id in lake_ids:\n",
    "    download_s1s2_sameday_images(lake_id)"
   ]
  }
 ],
 "metadata": {
  "kernelspec": {
   "display_name": "Python [conda env:sen1_ice]",
   "language": "python",
   "name": "conda-env-sen1_ice-py"
  },
  "language_info": {
   "codemirror_mode": {
    "name": "ipython",
    "version": 3
   },
   "file_extension": ".py",
   "mimetype": "text/x-python",
   "name": "python",
   "nbconvert_exporter": "python",
   "pygments_lexer": "ipython3",
   "version": "3.11.9"
  }
 },
 "nbformat": 4,
 "nbformat_minor": 5
}
